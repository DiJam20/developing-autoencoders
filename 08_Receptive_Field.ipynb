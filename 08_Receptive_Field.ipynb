{
 "cells": [
  {
   "cell_type": "markdown",
   "metadata": {},
   "source": [
    "Code adapted from:\n",
    "\n",
    "https://www.geeksforgeeks.org/implementing-an-autoencoder-in-pytorch/"
   ]
  },
  {
   "cell_type": "code",
   "execution_count": 2,
   "metadata": {},
   "outputs": [],
   "source": [
    "import torch\n",
    "import torch.nn as nn\n",
    "from torchvision import datasets, transforms\n",
    "from torch.utils.data import DataLoader"
   ]
  },
  {
   "cell_type": "code",
   "execution_count": 3,
   "metadata": {},
   "outputs": [],
   "source": [
    "mnist_train = datasets.MNIST(root='./data', train=True, download=True, transform=transforms.ToTensor())\n",
    "mnist_test = datasets.MNIST(root='./data', train=False, download=True, transform=transforms.ToTensor())\n",
    "\n",
    "batch_size = 128\n",
    "train_loader = DataLoader(mnist_train, batch_size=batch_size, shuffle=True, num_workers=6)\n",
    "test_loader = DataLoader(mnist_test, batch_size=batch_size, shuffle=False, num_workers=6)"
   ]
  },
  {
   "cell_type": "markdown",
   "metadata": {},
   "source": [
    "# Encoder Classification & Decoder Classification"
   ]
  },
  {
   "cell_type": "code",
   "execution_count": 4,
   "metadata": {},
   "outputs": [],
   "source": [
    "class Encoder(nn.Module):\n",
    "    def __init__(self):\n",
    "        super(Encoder, self).__init__()\n",
    "\n",
    "        self.encoder = nn.Sequential(\n",
    "            nn.Flatten(),\n",
    "            nn.Linear(784, 512),\n",
    "            nn.ReLU(),\n",
    "            nn.Linear(512, 128),\n",
    "            nn.ReLU(),\n",
    "            nn.Linear(128, 64),\n",
    "        )\n",
    "\n",
    "    def forward(self, x):\n",
    "        encoded = self.encoder(x)\n",
    "        return encoded\n",
    "\n",
    "class Decoder(nn.Module):\n",
    "    def __init__(self):\n",
    "        super(Decoder, self).__init__()\n",
    "        self.decoder = nn.Sequential(\n",
    "            nn.Linear(64, 128),\n",
    "            nn.ReLU(),            \n",
    "            nn.Linear(128, 512),\n",
    "            nn.ReLU(),\n",
    "            nn.Linear(512, 784),\n",
    "            nn.Sigmoid()\n",
    "        )\n",
    "    \n",
    "    def forward(self, x):\n",
    "        x = self.decoder(x)\n",
    "        return x.view(-1, 1, 28, 28)"
   ]
  },
  {
   "cell_type": "code",
   "execution_count": 5,
   "metadata": {},
   "outputs": [],
   "source": [
    "class EncodingClassifier(nn.Module):\n",
    "    def __init__(self):\n",
    "        super(EncodingClassifier, self).__init__()\n",
    "        self.classifier = nn.Sequential(\n",
    "            nn.Linear(64, 32),\n",
    "            nn.ReLU(),\n",
    "            nn.Linear(32, 10)\n",
    "        )\n",
    "    \n",
    "    def forward(self, x):\n",
    "        return self.classifier(x)\n",
    "\n",
    "class DecodingClassifier(nn.Module):\n",
    "    def __init__(self):\n",
    "        super(DecodingClassifier, self).__init__()\n",
    "        self.classifier = nn.Sequential(\n",
    "            nn.Flatten(),\n",
    "            nn.Linear(784, 128),\n",
    "            nn.ReLU(),\n",
    "            nn.Linear(128, 10)\n",
    "        )\n",
    "    \n",
    "    def forward(self, x):\n",
    "        return self.classifier(x)"
   ]
  },
  {
   "cell_type": "code",
   "execution_count": 6,
   "metadata": {},
   "outputs": [],
   "source": [
    "# Instantiate models\n",
    "encoder = Encoder()\n",
    "decoder = Decoder()\n",
    "encoding_classifier = EncodingClassifier()\n",
    "decoding_classifier = DecodingClassifier()\n",
    "\n",
    "# Loss function and optimizer\n",
    "classification_criterion = nn.CrossEntropyLoss()\n",
    "reconstruction_criterion = nn.MSELoss()\n",
    "\n",
    "optimizer = torch.optim.SGD(list(encoder.parameters()) + \n",
    "                      list(decoder.parameters()) +\n",
    "                      list(encoding_classifier.parameters()) + \n",
    "                      list(decoding_classifier.parameters()), lr=0.01, momentum=0.9)\n"
   ]
  },
  {
   "cell_type": "code",
   "execution_count": 7,
   "metadata": {},
   "outputs": [
    {
     "name": "stdout",
     "output_type": "stream",
     "text": [
      "Epoch [1/5], Loss: 1.3498\n",
      "Epoch [2/5], Loss: 0.3855\n",
      "Epoch [3/5], Loss: 0.3276\n",
      "Epoch [4/5], Loss: 0.1681\n",
      "Epoch [5/5], Loss: 0.2316\n"
     ]
    }
   ],
   "source": [
    "num_epochs = 5\n",
    "for epoch in range(num_epochs):\n",
    "    for images, labels in train_loader:\n",
    "        # Forward pass through encoder and decoder\n",
    "        encoded = encoder(images)\n",
    "        decoded = decoder(encoded)\n",
    "        \n",
    "        # Classification on encoded representations\n",
    "        encoding_outputs = encoding_classifier(encoded)\n",
    "        encoding_loss = classification_criterion(encoding_outputs, labels)\n",
    "        \n",
    "        # Classification on decoded images\n",
    "        decoding_outputs = decoding_classifier(decoded)\n",
    "        decoding_loss = classification_criterion(decoding_outputs, labels)\n",
    "        \n",
    "        # Reconstruction loss\n",
    "        reconstruction_loss = reconstruction_criterion(decoded, images)\n",
    "        \n",
    "        # Combined loss\n",
    "        loss = encoding_loss + decoding_loss + reconstruction_loss\n",
    "        \n",
    "        # Backpropagation and optimization\n",
    "        optimizer.zero_grad()\n",
    "        loss.backward()\n",
    "        optimizer.step()\n",
    "    \n",
    "    print(f\"Epoch [{epoch+1}/{num_epochs}], Loss: {loss.item():.4f}\")\n"
   ]
  },
  {
   "cell_type": "code",
   "execution_count": 8,
   "metadata": {},
   "outputs": [
    {
     "name": "stdout",
     "output_type": "stream",
     "text": [
      "Encoding Classifier Test Accuracy: 97.32%\n"
     ]
    }
   ],
   "source": [
    "encoder.eval()\n",
    "encoding_classifier.eval()\n",
    "\n",
    "correct = 0\n",
    "total = 0\n",
    "with torch.no_grad():\n",
    "    for images, labels in test_loader:\n",
    "        encoded = encoder(images)\n",
    "        outputs = encoding_classifier(encoded)\n",
    "        _, predicted = torch.max(outputs, 1)\n",
    "        total += labels.size(0)\n",
    "        correct += (predicted == labels).sum().item()\n",
    "\n",
    "encoding_accuracy = 100 * correct / total\n",
    "print(f\"Encoding Classifier Test Accuracy: {encoding_accuracy:.2f}%\")"
   ]
  },
  {
   "cell_type": "code",
   "execution_count": 9,
   "metadata": {},
   "outputs": [
    {
     "name": "stdout",
     "output_type": "stream",
     "text": [
      "Decoding Classifier Test Accuracy: 96.97%\n"
     ]
    }
   ],
   "source": [
    "decoder.eval()\n",
    "decoding_classifier.eval()\n",
    "\n",
    "correct = 0\n",
    "total = 0\n",
    "with torch.no_grad():\n",
    "    for images, labels in test_loader:\n",
    "        encoded = encoder(images)\n",
    "        decoded = decoder(encoded)\n",
    "        outputs = decoding_classifier(decoded)\n",
    "        _, predicted = torch.max(outputs, 1)\n",
    "        total += labels.size(0)\n",
    "        correct += (predicted == labels).sum().item()\n",
    "\n",
    "decoding_accuracy = 100 * correct / total\n",
    "print(f\"Decoding Classifier Test Accuracy: {decoding_accuracy:.2f}%\")"
   ]
  },
  {
   "cell_type": "markdown",
   "metadata": {},
   "source": [
    "# UMAP"
   ]
  },
  {
   "cell_type": "markdown",
   "metadata": {},
   "source": [
    "UMAP code adapted from:\n",
    "\n",
    "https://umap-learn.readthedocs.io/en/latest/auto_examples/plot_mnist_example.html"
   ]
  },
  {
   "cell_type": "code",
   "execution_count": 11,
   "metadata": {},
   "outputs": [
    {
     "name": "stderr",
     "output_type": "stream",
     "text": [
      "/home/david/.pyenv/versions/3.10.12/lib/python3.10/site-packages/tqdm/auto.py:21: TqdmWarning: IProgress not found. Please update jupyter and ipywidgets. See https://ipywidgets.readthedocs.io/en/stable/user_install.html\n",
      "  from .autonotebook import tqdm as notebook_tqdm\n",
      "/home/david/.pyenv/versions/3.10.12/lib/python3.10/site-packages/umap/umap_.py:1952: UserWarning: n_jobs value 1 overridden to 1 by setting random_state. Use no seed for parallelism.\n",
      "  warn(\n"
     ]
    }
   ],
   "source": [
    "import umap\n",
    "\n",
    "# Initialize UMAP reducer to reduce data to 2D\n",
    "reducer = umap.UMAP(n_components=2, random_state=42)\n",
    "\n",
    "# Gather all encodings and decodings from the test set\n",
    "all_encodings = []\n",
    "all_decodings = []\n",
    "all_labels = []\n",
    "\n",
    "# Disable gradients for evaluation\n",
    "encoder.eval()\n",
    "decoder.eval()\n",
    "encoding_classifier.eval()\n",
    "decoding_classifier.eval()\n",
    "\n",
    "with torch.no_grad():\n",
    "    for images, labels in test_loader:\n",
    "        # Encode images and decode the encodings\n",
    "        encodings = encoder(images)\n",
    "        decodings = decoder(encodings)\n",
    "\n",
    "        # Collect encodings, decodings, and true labels\n",
    "        all_encodings.append(encodings.cpu())\n",
    "        all_decodings.append(decodings.cpu())\n",
    "        all_labels.append(labels.cpu())\n",
    "\n",
    "# Concatenate all encodings, decodings, and labels into single tensors\n",
    "all_encodings = torch.cat(all_encodings)  # Shape: (num_samples, encoding_dim)\n",
    "all_decodings = torch.cat(all_decodings)  # Shape: (num_samples, decoding_dim)\n",
    "all_labels = torch.cat(all_labels).numpy()  # Convert labels to numpy array\n",
    "\n",
    "# Flatten encodings and decodings to 2D arrays\n",
    "all_encodings = all_encodings.view(all_encodings.shape[0], -1).numpy()  # Shape (num_samples, flattened_dims)\n",
    "all_decodings = all_decodings.view(all_decodings.shape[0], -1).numpy()  # Shape (num_samples, flattened_dims)\n",
    "\n",
    "# Apply UMAP reduction on encodings and decodings\n",
    "umap_encodings = reducer.fit_transform(all_encodings)\n",
    "umap_decodings = reducer.fit_transform(all_decodings)\n",
    "\n",
    "# Convert UMAP outputs to torch tensors for use in PyTorch classifiers\n",
    "umap_encodings = torch.tensor(umap_encodings, dtype=torch.float32)\n",
    "umap_decodings = torch.tensor(umap_decodings, dtype=torch.float32)\n"
   ]
  },
  {
   "cell_type": "markdown",
   "metadata": {},
   "source": [
    "# Receptive Field"
   ]
  },
  {
   "cell_type": "code",
   "execution_count": 36,
   "metadata": {},
   "outputs": [
    {
     "data": {
      "image/png": "[encoded data removed]",
      "text/plain": [
       "<Figure size 640x480 with 2 Axes>"
      ]
     },
     "metadata": {},
     "output_type": "display_data"
    },
    {
     "data": {
      "image/png": "[encoded data removed]",
      "text/plain": [
       "<Figure size 640x480 with 2 Axes>"
      ]
     },
     "metadata": {},
     "output_type": "display_data"
    }
   ],
   "source": [
    "import matplotlib.pyplot as plt\n",
    "import numpy as np\n",
    "\n",
    "def visualize_receptive_field(model, image, target_neuron_idx):\n",
    "    model.eval()\n",
    "\n",
    "    image = image.clone().detach()\n",
    "    image.requires_grad = True\n",
    "\n",
    "    output = model(image)\n",
    "    \n",
    "    # Select the target neuron in the output layer\n",
    "    target_neuron = output[0, target_neuron_idx]\n",
    "    \n",
    "    # Perform backward pass from target neuron\n",
    "    target_neuron.backward(retain_graph=True)\n",
    "\n",
    "    # Extract gradients from the image\n",
    "    gradients = image.grad.data[0].cpu().numpy()\n",
    "    heatmap = np.abs(gradients).mean(axis=0)\n",
    "    \n",
    "    # Normalize heatmap\n",
    "    heatmap = (heatmap - heatmap.min()) / (heatmap.max() - heatmap.min())\n",
    "    \n",
    "    # Plot heatmap overlayed on the original image\n",
    "    plt.imshow(heatmap, cmap='hot')\n",
    "    plt.title(f'Receptive Field for Neuron {target_neuron_idx}')\n",
    "    plt.colorbar()\n",
    "    plt.show()\n",
    "\n",
    "image, _ = next(iter(test_loader))\n",
    "image = image[0:1].to('cpu')\n",
    "\n",
    "plt.imshow(image[0][0], cmap='gray')\n",
    "plt.title('Original Image')\n",
    "plt.colorbar()\n",
    "plt.show()\n",
    "\n",
    "\n",
    "visualize_receptive_field(encoder, image, target_neuron_idx=0)\n",
    "\n"
   ]
  }
 ],
 "metadata": {
  "kernelspec": {
   "display_name": "Python 3",
   "language": "python",
   "name": "python3"
  },
  "language_info": {
   "codemirror_mode": {
    "name": "ipython",
    "version": 3
   },
   "file_extension": ".py",
   "mimetype": "text/x-python",
   "name": "python",
   "nbconvert_exporter": "python",
   "pygments_lexer": "ipython3",
   "version": "3.10.12"
  }
 },
 "nbformat": 4,
 "nbformat_minor": 2
}
