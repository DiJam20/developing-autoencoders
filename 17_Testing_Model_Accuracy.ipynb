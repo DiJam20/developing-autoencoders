{
 "cells": [
  {
   "cell_type": "code",
   "execution_count": 18,
   "metadata": {},
   "outputs": [],
   "source": [
    "import numpy as np\n",
    "\n",
    "import numpy as np\n",
    "import matplotlib.pyplot as plt\n",
    "\n",
    "import torch\n",
    "from torchvision import datasets, transforms\n",
    "from torch.utils.data import DataLoader\n",
    "from torch.autograd import Variable\n",
    "import umap\n",
    "from torch.nn.functional import mse_loss\n",
    "from tqdm import tqdm\n",
    "from sklearn.decomposition import PCA\n",
    "\n",
    "from autoencoder import Autoencoder\n",
    "from solver import *"
   ]
  },
  {
   "cell_type": "code",
   "execution_count": 19,
   "metadata": {},
   "outputs": [],
   "source": [
    "autoencoder_types = [\n",
    "    ('l_models', 'SAE'),\n",
    "    ('l_models', 'DAE'),\n",
    "    ('nl_models', 'SAE'),\n",
    "    ('nl_models', 'DAE')\n",
    "]"
   ]
  },
  {
   "cell_type": "code",
   "execution_count": 20,
   "metadata": {},
   "outputs": [
    {
     "name": "stdout",
     "output_type": "stream",
     "text": [
      "('l_models', 'SAE'): Average Training Loss = 0.01733\n",
      "('l_models', 'DAE'): Average Training Loss = 0.01925\n",
      "('nl_models', 'SAE'): Average Training Loss = 0.01735\n",
      "('nl_models', 'DAE'): Average Training Loss = 0.01926\n"
     ]
    }
   ],
   "source": [
    "average_last_losses = {}\n",
    "\n",
    "for ae_type in autoencoder_types:\n",
    "    last_losses = []\n",
    "    \n",
    "    for model_id in range(10):\n",
    "        file_path = f'/home/david/sparsify_models/{ae_type[0]}/{model_id}/{ae_type[1]}/all_train_losses.npy'\n",
    "        losses = np.load(file_path)\n",
    "        # Average loss in the last training epoch\n",
    "        last_loss = np.mean(losses[-1])\n",
    "        last_losses.append(last_loss)\n",
    "    \n",
    "    average_last_losses[ae_type] = np.mean(last_losses)\n",
    "\n",
    "for ae_type, avg_loss in average_last_losses.items():\n",
    "    print(f\"{ae_type}: Average Training Loss = {avg_loss:.5f}\")"
   ]
  },
  {
   "cell_type": "code",
   "execution_count": 21,
   "metadata": {},
   "outputs": [],
   "source": [
    "mnist_train = datasets.MNIST(root='./data', train=True, download=True, transform=transforms.ToTensor())\n",
    "train_loader = DataLoader(mnist_train, batch_size=128, shuffle=True, num_workers=6)\n",
    "\n",
    "mnist_test = datasets.MNIST(root='./data', train=False, download=True, transform=transforms.ToTensor())\n",
    "test_loader = DataLoader(mnist_test, batch_size=128, shuffle=False, num_workers=6)"
   ]
  },
  {
   "cell_type": "code",
   "execution_count": 22,
   "metadata": {},
   "outputs": [],
   "source": [
    "def load_model(model_path, model_type, epoch):\n",
    "    n_input = 28*28\n",
    "    n_layers = 3\n",
    "    sae_n_hidden_ls = [512, 128, 32]\n",
    "\n",
    "    size_ls = [4, 4, 4, 4, 4, 10,\n",
    "            10, 10, 10, 10, 16, 16,\n",
    "            16, 16, 16, 16, 16, 24,\n",
    "            24, 24, 24, 24, 24, 24, \n",
    "            32, 32, 32, 32, 32, 32,\n",
    "            32, 32, 32, 32, 32, 32, \n",
    "            32, 32, 32, 32, 32, 32, \n",
    "            32, 32, 32, 32, 32, 32, \n",
    "            32, 32]\n",
    "    \n",
    "    dae_n_hidden_ls = [512, 128, size_ls[epoch]]\n",
    "    \n",
    "    if model_type == 'SAE':\n",
    "        model = Autoencoder(n_input, sae_n_hidden_ls, n_layers)\n",
    "    else:\n",
    "        model = Autoencoder(n_input, dae_n_hidden_ls, n_layers)\n",
    "    weights = torch.load(f\"{model_path}/{model_type}/model_weights_epoch{epoch}.pth\")\n",
    "    model.load_state_dict(weights)\n",
    "    return model"
   ]
  },
  {
   "cell_type": "code",
   "execution_count": 27,
   "metadata": {},
   "outputs": [
    {
     "name": "stderr",
     "output_type": "stream",
     "text": [
      "/tmp/ipykernel_8623/2098548407.py:22: FutureWarning: You are using `torch.load` with `weights_only=False` (the current default value), which uses the default pickle module implicitly. It is possible to construct malicious pickle data which will execute arbitrary code during unpickling (See https://github.com/pytorch/pytorch/blob/main/SECURITY.md#untrusted-models for more details). In a future release, the default value for `weights_only` will be flipped to `True`. This limits the functions that could be executed during unpickling. Arbitrary objects will no longer be allowed to be loaded via this mode unless they are explicitly allowlisted by the user via `torch.serialization.add_safe_globals`. We recommend you start setting `weights_only=True` for any use case where you don't have full control of the loaded file. Please open an issue on GitHub for any issues related to this experimental feature.\n",
      "  weights = torch.load(f\"{model_path}/{model_type}/model_weights_epoch{epoch}.pth\")\n"
     ]
    },
    {
     "name": "stdout",
     "output_type": "stream",
     "text": [
      "====> Test set loss: 0.0997\n",
      "====> Test set loss: 0.1010\n",
      "====> Test set loss: 0.0974\n",
      "====> Test set loss: 0.1039\n",
      "====> Test set loss: 0.1002\n",
      "====> Test set loss: 0.1010\n",
      "====> Test set loss: 0.1014\n",
      "====> Test set loss: 0.0988\n",
      "====> Test set loss: 0.1002\n",
      "====> Test set loss: 0.0994\n",
      "====> Test set loss: 0.0990\n",
      "====> Test set loss: 0.1045\n",
      "====> Test set loss: 0.1039\n",
      "====> Test set loss: 0.0997\n",
      "====> Test set loss: 0.0989\n",
      "====> Test set loss: 0.0986\n",
      "====> Test set loss: 0.1025\n",
      "====> Test set loss: 0.1003\n",
      "====> Test set loss: 0.1024\n",
      "====> Test set loss: 0.1035\n",
      "====> Test set loss: 0.1030\n",
      "====> Test set loss: 0.1007\n",
      "====> Test set loss: 0.1009\n",
      "====> Test set loss: 0.0989\n",
      "====> Test set loss: 0.1004\n",
      "====> Test set loss: 0.0984\n",
      "====> Test set loss: 0.1015\n",
      "====> Test set loss: 0.1011\n",
      "====> Test set loss: 0.0999\n",
      "====> Test set loss: 0.0966\n",
      "====> Test set loss: 0.1019\n",
      "====> Test set loss: 0.1139\n",
      "====> Test set loss: 0.0998\n",
      "====> Test set loss: 0.1000\n",
      "====> Test set loss: 0.1022\n",
      "====> Test set loss: 0.1016\n",
      "====> Test set loss: 0.1043\n",
      "====> Test set loss: 0.1008\n",
      "====> Test set loss: 0.1035\n",
      "====> Test set loss: 0.0980\n",
      "('l_models', 'SAE'): Average Test Loss = 0.10030\n",
      "('l_models', 'DAE'): Average Test Loss = 0.10133\n",
      "('nl_models', 'SAE'): Average Test Loss = 0.10014\n",
      "('nl_models', 'DAE'): Average Test Loss = 0.10259\n"
     ]
    }
   ],
   "source": [
    "average_last_losses = {}\n",
    "for ae_type in autoencoder_types:\n",
    "    last_losses = []\n",
    "    \n",
    "    for model_id in range(10):\n",
    "        file_path = f'/home/david/sparsify_models/{ae_type[0]}/{model_id}/'\n",
    "        model = load_model(file_path, ae_type[1], 49)\n",
    "        # Average loss in the last training epoch\n",
    "        test_loss, _, _ = test(model, test_loader, device='cpu')\n",
    "        last_losses.append(test_loss)\n",
    "    \n",
    "    average_last_losses[ae_type] = np.mean(last_losses)\n",
    "\n",
    "for ae_type, avg_loss in average_last_losses.items():\n",
    "    print(f\"{ae_type}: Average Test Loss = {avg_loss:.5f}\")"
   ]
  }
 ],
 "metadata": {
  "kernelspec": {
   "display_name": "3.10.12",
   "language": "python",
   "name": "python3"
  },
  "language_info": {
   "codemirror_mode": {
    "name": "ipython",
    "version": 3
   },
   "file_extension": ".py",
   "mimetype": "text/x-python",
   "name": "python",
   "nbconvert_exporter": "python",
   "pygments_lexer": "ipython3",
   "version": "3.10.12"
  }
 },
 "nbformat": 4,
 "nbformat_minor": 2
}
