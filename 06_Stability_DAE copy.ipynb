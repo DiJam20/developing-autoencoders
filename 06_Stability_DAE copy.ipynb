{
 "cells": [
  {
   "cell_type": "code",
   "execution_count": 1,
   "metadata": {},
   "outputs": [],
   "source": [
    "import numpy as np\n",
    "import matplotlib.pyplot as plt\n",
    "import pandas as pd\n",
    "import seaborn as sns\n",
    "import os, sys\n",
    "from tqdm import tqdm\n",
    "from datetime import datetime\n",
    "\n",
    "import torch\n",
    "from torchvision import datasets, transforms\n",
    "from torch.utils.data import DataLoader\n",
    "from torch.autograd import Variable\n",
    "\n",
    "from sklearn.decomposition import PCA\n",
    "from matplotlib.colors import LogNorm\n",
    "\n",
    "from autoencoder import Autoencoder\n",
    "from solver import train_vali_all_epochs, dev_train_vali_all_epochs, test"
   ]
  },
  {
   "cell_type": "code",
   "execution_count": 2,
   "metadata": {},
   "outputs": [],
   "source": [
    "mnist_train = datasets.MNIST(root='./data', train=True, download=True, transform=transforms.ToTensor())\n",
    "mnist_test = datasets.MNIST(root='./data', train=False, download=True, transform=transforms.ToTensor())\n",
    "\n",
    "batch_size = 128\n",
    "train_loader = DataLoader(mnist_train, batch_size=batch_size, shuffle=True, num_workers=6)\n",
    "test_loader = DataLoader(mnist_test, batch_size=batch_size, shuffle=False, num_workers=6)"
   ]
  },
  {
   "cell_type": "code",
   "execution_count": 3,
   "metadata": {},
   "outputs": [
    {
     "name": "stdout",
     "output_type": "stream",
     "text": [
      "/home/david/sparsify_models/AE/MNIST/2024-10-31_19-21-00/\n"
     ]
    }
   ],
   "source": [
    "run_id = datetime.today().strftime(\"%Y-%m-%d_%H-%M-%S\")\n",
    "save_path = os.getenv(\"HOME\") + '/sparsify_models/AE/MNIST/' +run_id +'/'\n",
    "print(save_path)"
   ]
  },
  {
   "cell_type": "code",
   "execution_count": 4,
   "metadata": {},
   "outputs": [
    {
     "name": "stdout",
     "output_type": "stream",
     "text": [
      "Directory created: /home/david/sparsify_models/AE/MNIST/2024-10-31_19-21-00/Dev/cell_division/\n"
     ]
    },
    {
     "name": "stderr",
     "output_type": "stream",
     "text": [
      "Train Epoch: 0 [44928/60000 (100%)]\tLoss: 0.001307: 100%|██████████| 469/469 [00:03<00:00, 138.50it/s]\n"
     ]
    },
    {
     "name": "stdout",
     "output_type": "stream",
     "text": [
      "====> Epoch: 0 Average loss: 0.1255\n"
     ]
    },
    {
     "name": "stderr",
     "output_type": "stream",
     "text": [
      "/home/david/Documents/UNI_LOCAL/PyTorch/MarkosCode/solver.py:308: UserWarning: volatile was removed and now has no effect. Use `with torch.no_grad():` instead.\n",
      "  data = Variable(data, volatile=True).to(device)\n"
     ]
    },
    {
     "name": "stdout",
     "output_type": "stream",
     "text": [
      "====> Test set loss: 0.1279\n",
      "Weights saved.\n",
      "(10000, 4)\n",
      "[[-0.03845176 -0.14559218 -0.06512499 -0.06930414]\n",
      " [ 0.06437138 -0.02036226  0.05045699 -0.13602786]\n",
      " [-0.03369704 -0.12225904  0.05876392 -0.11128443]\n",
      " ...\n",
      " [ 0.0194141  -0.17713712  0.00411598 -0.17479427]\n",
      " [ 0.05833371 -0.13794328  0.16486824 -0.13128836]\n",
      " [ 0.18030587  0.00181844 -0.00030639 -0.2173159 ]]\n",
      "debug var_dim -1\n",
      "debug var_dim -1\n",
      "debug var_dim -1\n",
      "debug nan in encoder weights tensor(0)\n",
      "debug nan in encoder bias tensor(0)\n",
      "debug nan in decoder weights tensor(0)\n"
     ]
    },
    {
     "name": "stderr",
     "output_type": "stream",
     "text": [
      "/home/david/Documents/UNI_LOCAL/PyTorch/MarkosCode/solver.py:184: FutureWarning: You are using `torch.load` with `weights_only=False` (the current default value), which uses the default pickle module implicitly. It is possible to construct malicious pickle data which will execute arbitrary code during unpickling (See https://github.com/pytorch/pytorch/blob/main/SECURITY.md#untrusted-models for more details). In a future release, the default value for `weights_only` will be flipped to `True`. This limits the functions that could be executed during unpickling. Arbitrary objects will no longer be allowed to be loaded via this mode unless they are explicitly allowlisted by the user via `torch.serialization.add_safe_globals`. We recommend you start setting `weights_only=True` for any use case where you don't have full control of the loaded file. Please open an issue on GitHub for any issues related to this experimental feature.\n",
      "  state_dict = torch.load(save_path + 'model_weights_epoch{}.pth'.format(epoch-1))\n",
      "Train Epoch: 1 [44928/60000 (100%)]\tLoss: 0.000524: 100%|██████████| 469/469 [00:03<00:00, 123.71it/s]"
     ]
    },
    {
     "name": "stdout",
     "output_type": "stream",
     "text": [
      "====> Epoch: 1 Average loss: 0.0615\n"
     ]
    },
    {
     "name": "stderr",
     "output_type": "stream",
     "text": [
      "\n",
      "/home/david/Documents/UNI_LOCAL/PyTorch/MarkosCode/solver.py:308: UserWarning: volatile was removed and now has no effect. Use `with torch.no_grad():` instead.\n",
      "  data = Variable(data, volatile=True).to(device)\n"
     ]
    },
    {
     "name": "stdout",
     "output_type": "stream",
     "text": [
      "====> Test set loss: 0.0517\n",
      "Weights saved.\n",
      "(10000, 4)\n",
      "[[-0.4728798  -0.3656688  -0.55305326 -0.1352896 ]\n",
      " [ 1.098011   -0.2921769   0.31156334 -0.24516706]\n",
      " [ 0.1818898  -0.3059575   0.69976115  0.27993238]\n",
      " ...\n",
      " [-0.39506638 -1.0869013  -0.02519299 -0.88341475]\n",
      " [ 0.40401927 -0.50251627  0.62515366 -0.5067428 ]\n",
      " [ 1.507739   -0.07342356 -0.28459072 -0.8911276 ]]\n",
      "debug var_dim -1\n",
      "debug var_dim -1\n",
      "debug var_dim -1\n",
      "debug nan in encoder weights tensor(0)\n",
      "debug nan in encoder bias tensor(0)\n",
      "debug nan in decoder weights tensor(0)\n"
     ]
    },
    {
     "name": "stderr",
     "output_type": "stream",
     "text": [
      "/home/david/Documents/UNI_LOCAL/PyTorch/MarkosCode/solver.py:184: FutureWarning: You are using `torch.load` with `weights_only=False` (the current default value), which uses the default pickle module implicitly. It is possible to construct malicious pickle data which will execute arbitrary code during unpickling (See https://github.com/pytorch/pytorch/blob/main/SECURITY.md#untrusted-models for more details). In a future release, the default value for `weights_only` will be flipped to `True`. This limits the functions that could be executed during unpickling. Arbitrary objects will no longer be allowed to be loaded via this mode unless they are explicitly allowlisted by the user via `torch.serialization.add_safe_globals`. We recommend you start setting `weights_only=True` for any use case where you don't have full control of the loaded file. Please open an issue on GitHub for any issues related to this experimental feature.\n",
      "  state_dict = torch.load(save_path + 'model_weights_epoch{}.pth'.format(epoch-1))\n",
      "Train Epoch: 2 [44928/60000 (100%)]\tLoss: 0.000508: 100%|██████████| 469/469 [00:03<00:00, 127.29it/s]"
     ]
    },
    {
     "name": "stdout",
     "output_type": "stream",
     "text": [
      "====> Epoch: 2 Average loss: 0.0497\n"
     ]
    },
    {
     "name": "stderr",
     "output_type": "stream",
     "text": [
      "\n",
      "/home/david/Documents/UNI_LOCAL/PyTorch/MarkosCode/solver.py:308: UserWarning: volatile was removed and now has no effect. Use `with torch.no_grad():` instead.\n",
      "  data = Variable(data, volatile=True).to(device)\n"
     ]
    },
    {
     "name": "stdout",
     "output_type": "stream",
     "text": [
      "====> Test set loss: 0.0485\n",
      "Weights saved.\n",
      "(10000, 4)\n",
      "[[-0.731648   -0.15561832 -0.3567583  -0.50821733]\n",
      " [ 1.2904252  -0.47094613  0.17532626  0.05602907]\n",
      " [ 0.13588198 -0.26918077  0.7018827   0.25474092]\n",
      " ...\n",
      " [-0.5953396  -1.0732695  -0.06053395 -0.9971713 ]\n",
      " [ 0.10819905 -0.3584758   0.6705898  -0.7888104 ]\n",
      " [ 1.0821718   0.04220921 -0.28351155 -1.2818862 ]]\n",
      "debug var_dim -1\n",
      "debug var_dim -1\n",
      "debug var_dim -1\n",
      "debug nan in encoder weights tensor(0)\n",
      "debug nan in encoder bias tensor(0)\n",
      "debug nan in decoder weights tensor(0)\n"
     ]
    },
    {
     "name": "stderr",
     "output_type": "stream",
     "text": [
      "/home/david/Documents/UNI_LOCAL/PyTorch/MarkosCode/solver.py:184: FutureWarning: You are using `torch.load` with `weights_only=False` (the current default value), which uses the default pickle module implicitly. It is possible to construct malicious pickle data which will execute arbitrary code during unpickling (See https://github.com/pytorch/pytorch/blob/main/SECURITY.md#untrusted-models for more details). In a future release, the default value for `weights_only` will be flipped to `True`. This limits the functions that could be executed during unpickling. Arbitrary objects will no longer be allowed to be loaded via this mode unless they are explicitly allowlisted by the user via `torch.serialization.add_safe_globals`. We recommend you start setting `weights_only=True` for any use case where you don't have full control of the loaded file. Please open an issue on GitHub for any issues related to this experimental feature.\n",
      "  state_dict = torch.load(save_path + 'model_weights_epoch{}.pth'.format(epoch-1))\n",
      "Train Epoch: 3 [44928/60000 (100%)]\tLoss: 0.000484: 100%|██████████| 469/469 [00:03<00:00, 120.16it/s]\n"
     ]
    },
    {
     "name": "stdout",
     "output_type": "stream",
     "text": [
      "====> Epoch: 3 Average loss: 0.0486\n"
     ]
    },
    {
     "name": "stderr",
     "output_type": "stream",
     "text": [
      "/home/david/Documents/UNI_LOCAL/PyTorch/MarkosCode/solver.py:308: UserWarning: volatile was removed and now has no effect. Use `with torch.no_grad():` instead.\n",
      "  data = Variable(data, volatile=True).to(device)\n"
     ]
    },
    {
     "name": "stdout",
     "output_type": "stream",
     "text": [
      "====> Test set loss: 0.0483\n",
      "Weights saved.\n",
      "(10000, 4)\n",
      "[[-0.7310467  -0.10973404 -0.31003022 -0.5272646 ]\n",
      " [ 1.2521697  -0.4398237   0.18455186  0.04053531]\n",
      " [ 0.11542403 -0.22730805  0.7198496   0.23859908]\n",
      " ...\n",
      " [-0.60830665 -1.0832657  -0.06559797 -0.9829109 ]\n",
      " [ 0.09890947 -0.34081107  0.6623691  -0.7705918 ]\n",
      " [ 0.94783866  0.17672604 -0.19291773 -1.426356  ]]\n",
      "debug var_dim -1\n",
      "debug var_dim -1\n",
      "debug var_dim -1\n",
      "debug nan in encoder weights tensor(0)\n",
      "debug nan in encoder bias tensor(0)\n",
      "debug nan in decoder weights tensor(0)\n"
     ]
    },
    {
     "name": "stderr",
     "output_type": "stream",
     "text": [
      "/home/david/Documents/UNI_LOCAL/PyTorch/MarkosCode/solver.py:184: FutureWarning: You are using `torch.load` with `weights_only=False` (the current default value), which uses the default pickle module implicitly. It is possible to construct malicious pickle data which will execute arbitrary code during unpickling (See https://github.com/pytorch/pytorch/blob/main/SECURITY.md#untrusted-models for more details). In a future release, the default value for `weights_only` will be flipped to `True`. This limits the functions that could be executed during unpickling. Arbitrary objects will no longer be allowed to be loaded via this mode unless they are explicitly allowlisted by the user via `torch.serialization.add_safe_globals`. We recommend you start setting `weights_only=True` for any use case where you don't have full control of the loaded file. Please open an issue on GitHub for any issues related to this experimental feature.\n",
      "  state_dict = torch.load(save_path + 'model_weights_epoch{}.pth'.format(epoch-1))\n",
      "Train Epoch: 4 [44928/60000 (100%)]\tLoss: 0.000523: 100%|██████████| 469/469 [00:03<00:00, 124.38it/s]"
     ]
    },
    {
     "name": "stdout",
     "output_type": "stream",
     "text": [
      "====> Epoch: 4 Average loss: 0.0486\n"
     ]
    },
    {
     "name": "stderr",
     "output_type": "stream",
     "text": [
      "\n",
      "/home/david/Documents/UNI_LOCAL/PyTorch/MarkosCode/solver.py:308: UserWarning: volatile was removed and now has no effect. Use `with torch.no_grad():` instead.\n",
      "  data = Variable(data, volatile=True).to(device)\n"
     ]
    },
    {
     "name": "stdout",
     "output_type": "stream",
     "text": [
      "====> Test set loss: 0.0482\n",
      "Weights saved.\n",
      "(10000, 4)\n",
      "[[-0.7181224  -0.11534604 -0.322573   -0.5134714 ]\n",
      " [ 1.226114   -0.4007708   0.20449743  0.02591771]\n",
      " [ 0.11140542 -0.20432672  0.7230185   0.23534608]\n",
      " ...\n",
      " [-0.61381036 -1.0809792  -0.06821052 -0.96780485]\n",
      " [ 0.09740385 -0.34030375  0.65020585 -0.763622  ]\n",
      " [ 0.9094133   0.27123797 -0.12894225 -1.4650728 ]]\n",
      "debug var_dim 0\n",
      "debug var_dim 0\n",
      "debug var_dim 1\n",
      "debug nan in encoder weights tensor(0)\n",
      "debug nan in encoder bias tensor(0)\n",
      "debug nan in decoder weights tensor(0)\n"
     ]
    },
    {
     "name": "stderr",
     "output_type": "stream",
     "text": [
      "/home/david/Documents/UNI_LOCAL/PyTorch/MarkosCode/solver.py:184: FutureWarning: You are using `torch.load` with `weights_only=False` (the current default value), which uses the default pickle module implicitly. It is possible to construct malicious pickle data which will execute arbitrary code during unpickling (See https://github.com/pytorch/pytorch/blob/main/SECURITY.md#untrusted-models for more details). In a future release, the default value for `weights_only` will be flipped to `True`. This limits the functions that could be executed during unpickling. Arbitrary objects will no longer be allowed to be loaded via this mode unless they are explicitly allowlisted by the user via `torch.serialization.add_safe_globals`. We recommend you start setting `weights_only=True` for any use case where you don't have full control of the loaded file. Please open an issue on GitHub for any issues related to this experimental feature.\n",
      "  state_dict = torch.load(save_path + 'model_weights_epoch{}.pth'.format(epoch-1))\n",
      "Train Epoch: 5 [44928/60000 (100%)]\tLoss: 0.000497: 100%|██████████| 469/469 [00:03<00:00, 129.20it/s]"
     ]
    },
    {
     "name": "stdout",
     "output_type": "stream",
     "text": [
      "====> Epoch: 5 Average loss: 0.0488\n"
     ]
    },
    {
     "name": "stderr",
     "output_type": "stream",
     "text": [
      "\n",
      "/home/david/Documents/UNI_LOCAL/PyTorch/MarkosCode/solver.py:308: UserWarning: volatile was removed and now has no effect. Use `with torch.no_grad():` instead.\n",
      "  data = Variable(data, volatile=True).to(device)\n"
     ]
    },
    {
     "name": "stdout",
     "output_type": "stream",
     "text": [
      "====> Test set loss: 0.0481\n",
      "Weights saved.\n",
      "(10000, 10)\n",
      "[[-0.47096336 -0.12441236 -0.22716796 ... -0.249644    0.02119961\n",
      "   0.0328554 ]\n",
      " [ 0.724834   -0.23459259  0.09696546 ...  0.05757678  0.02478827\n",
      "   0.01090347]\n",
      " [ 0.03221425 -0.10461172  0.42852497 ...  0.21694696  0.02395712\n",
      "   0.00635418]\n",
      " ...\n",
      " [-0.40110523 -0.7214085  -0.09516664 ... -0.5765434  -0.00328116\n",
      "   0.01132528]\n",
      " [ 0.03599408 -0.27032745  0.3391284  ... -0.42784637  0.0026863\n",
      "   0.02288878]\n",
      " [ 0.5316566   0.16883871 -0.11870563 ... -0.8921812   0.05729748\n",
      "  -0.02326115]]\n",
      "debug var_dim -1\n",
      "debug var_dim -1\n",
      "debug var_dim -1\n",
      "debug nan in encoder weights tensor(0)\n",
      "debug nan in encoder bias tensor(0)\n",
      "debug nan in decoder weights tensor(0)\n"
     ]
    },
    {
     "name": "stderr",
     "output_type": "stream",
     "text": [
      "/home/david/Documents/UNI_LOCAL/PyTorch/MarkosCode/solver.py:184: FutureWarning: You are using `torch.load` with `weights_only=False` (the current default value), which uses the default pickle module implicitly. It is possible to construct malicious pickle data which will execute arbitrary code during unpickling (See https://github.com/pytorch/pytorch/blob/main/SECURITY.md#untrusted-models for more details). In a future release, the default value for `weights_only` will be flipped to `True`. This limits the functions that could be executed during unpickling. Arbitrary objects will no longer be allowed to be loaded via this mode unless they are explicitly allowlisted by the user via `torch.serialization.add_safe_globals`. We recommend you start setting `weights_only=True` for any use case where you don't have full control of the loaded file. Please open an issue on GitHub for any issues related to this experimental feature.\n",
      "  state_dict = torch.load(save_path + 'model_weights_epoch{}.pth'.format(epoch-1))\n",
      "Train Epoch: 6 [44928/60000 (100%)]\tLoss: 0.000452: 100%|██████████| 469/469 [00:03<00:00, 118.72it/s]"
     ]
    },
    {
     "name": "stdout",
     "output_type": "stream",
     "text": [
      "====> Epoch: 6 Average loss: 0.0476\n"
     ]
    },
    {
     "name": "stderr",
     "output_type": "stream",
     "text": [
      "\n",
      "/home/david/Documents/UNI_LOCAL/PyTorch/MarkosCode/solver.py:308: UserWarning: volatile was removed and now has no effect. Use `with torch.no_grad():` instead.\n",
      "  data = Variable(data, volatile=True).to(device)\n"
     ]
    },
    {
     "name": "stdout",
     "output_type": "stream",
     "text": [
      "====> Test set loss: 0.0450\n",
      "Weights saved.\n",
      "(10000, 10)\n",
      "[[-0.46489918 -0.18897076 -0.2259954  ... -0.26715624 -0.09469731\n",
      "   0.25528187]\n",
      " [ 0.70558    -0.16692446  0.10048859 ...  0.08301029  0.22259079\n",
      "  -0.20142561]\n",
      " [ 0.0264872  -0.08491978  0.42795604 ...  0.22906789  0.1089201\n",
      "  -0.06452882]\n",
      " ...\n",
      " [-0.40972197 -0.6885775  -0.09030406 ... -0.5645573   0.04625361\n",
      "  -0.11695687]\n",
      " [ 0.03630343 -0.3156057   0.33695835 ... -0.44334224 -0.11792123\n",
      "   0.12716855]\n",
      " [ 0.50469553  0.32968536 -0.10466303 ... -0.8360524   0.4707633\n",
      "  -0.52683914]]\n",
      "debug var_dim -1\n",
      "debug var_dim -1\n",
      "debug var_dim -1\n",
      "debug nan in encoder weights tensor(0)\n",
      "debug nan in encoder bias tensor(0)\n",
      "debug nan in decoder weights tensor(0)\n"
     ]
    },
    {
     "name": "stderr",
     "output_type": "stream",
     "text": [
      "/home/david/Documents/UNI_LOCAL/PyTorch/MarkosCode/solver.py:184: FutureWarning: You are using `torch.load` with `weights_only=False` (the current default value), which uses the default pickle module implicitly. It is possible to construct malicious pickle data which will execute arbitrary code during unpickling (See https://github.com/pytorch/pytorch/blob/main/SECURITY.md#untrusted-models for more details). In a future release, the default value for `weights_only` will be flipped to `True`. This limits the functions that could be executed during unpickling. Arbitrary objects will no longer be allowed to be loaded via this mode unless they are explicitly allowlisted by the user via `torch.serialization.add_safe_globals`. We recommend you start setting `weights_only=True` for any use case where you don't have full control of the loaded file. Please open an issue on GitHub for any issues related to this experimental feature.\n",
      "  state_dict = torch.load(save_path + 'model_weights_epoch{}.pth'.format(epoch-1))\n",
      "Train Epoch: 7 [44928/60000 (100%)]\tLoss: 0.000426: 100%|██████████| 469/469 [00:03<00:00, 122.59it/s]"
     ]
    },
    {
     "name": "stdout",
     "output_type": "stream",
     "text": [
      "====> Epoch: 7 Average loss: 0.0436\n"
     ]
    },
    {
     "name": "stderr",
     "output_type": "stream",
     "text": [
      "\n",
      "/home/david/Documents/UNI_LOCAL/PyTorch/MarkosCode/solver.py:308: UserWarning: volatile was removed and now has no effect. Use `with torch.no_grad():` instead.\n",
      "  data = Variable(data, volatile=True).to(device)\n"
     ]
    },
    {
     "name": "stdout",
     "output_type": "stream",
     "text": [
      "====> Test set loss: 0.0419\n",
      "Weights saved.\n",
      "(10000, 10)\n",
      "[[-0.47554466 -0.17933768 -0.22624215 ... -0.25967115  0.11974232\n",
      "   0.66966414]\n",
      " [ 0.7076876  -0.19207022  0.10407543 ...  0.06954284  0.05412717\n",
      "  -0.33121634]\n",
      " [ 0.02637296 -0.08485905  0.42710054 ...  0.23288244  0.15109284\n",
      "   0.08042586]\n",
      " ...\n",
      " [-0.41776368 -0.68456054 -0.08511173 ... -0.5496788   0.0187978\n",
      "  -0.15965429]\n",
      " [ 0.04521347 -0.33171007  0.34598437 ... -0.45029664 -0.2447203\n",
      "   0.10964359]\n",
      " [ 0.5226188   0.28310817 -0.09361436 ... -0.8572602   0.12010644\n",
      "  -0.8555841 ]]\n",
      "debug var_dim -1\n",
      "debug var_dim -1\n",
      "debug var_dim -1\n",
      "debug nan in encoder weights tensor(0)\n",
      "debug nan in encoder bias tensor(0)\n",
      "debug nan in decoder weights tensor(0)\n"
     ]
    },
    {
     "name": "stderr",
     "output_type": "stream",
     "text": [
      "/home/david/Documents/UNI_LOCAL/PyTorch/MarkosCode/solver.py:184: FutureWarning: You are using `torch.load` with `weights_only=False` (the current default value), which uses the default pickle module implicitly. It is possible to construct malicious pickle data which will execute arbitrary code during unpickling (See https://github.com/pytorch/pytorch/blob/main/SECURITY.md#untrusted-models for more details). In a future release, the default value for `weights_only` will be flipped to `True`. This limits the functions that could be executed during unpickling. Arbitrary objects will no longer be allowed to be loaded via this mode unless they are explicitly allowlisted by the user via `torch.serialization.add_safe_globals`. We recommend you start setting `weights_only=True` for any use case where you don't have full control of the loaded file. Please open an issue on GitHub for any issues related to this experimental feature.\n",
      "  state_dict = torch.load(save_path + 'model_weights_epoch{}.pth'.format(epoch-1))\n",
      "Train Epoch: 8 [44928/60000 (100%)]\tLoss: 0.000430: 100%|██████████| 469/469 [00:03<00:00, 125.85it/s]"
     ]
    },
    {
     "name": "stdout",
     "output_type": "stream",
     "text": [
      "====> Epoch: 8 Average loss: 0.0422\n"
     ]
    },
    {
     "name": "stderr",
     "output_type": "stream",
     "text": [
      "\n",
      "/home/david/Documents/UNI_LOCAL/PyTorch/MarkosCode/solver.py:308: UserWarning: volatile was removed and now has no effect. Use `with torch.no_grad():` instead.\n",
      "  data = Variable(data, volatile=True).to(device)\n"
     ]
    },
    {
     "name": "stdout",
     "output_type": "stream",
     "text": [
      "====> Test set loss: 0.0417\n",
      "Weights saved.\n",
      "(10000, 10)\n",
      "[[-0.47193137 -0.17735592 -0.22856385 ... -0.2568533   0.08016676\n",
      "   0.6456888 ]\n",
      " [ 0.71189797 -0.19028845  0.10439201 ...  0.07533661 -0.07891434\n",
      "  -0.41948402]\n",
      " [ 0.02317717 -0.0812846   0.42375085 ...  0.23644364  0.13433877\n",
      "   0.0856826 ]\n",
      " ...\n",
      " [-0.43345505 -0.6678825  -0.08393595 ... -0.54290426  0.09947866\n",
      "  -0.07055555]\n",
      " [ 0.04337098 -0.32159108  0.34743804 ... -0.44211975 -0.30518705\n",
      "   0.09280771]\n",
      " [ 0.5192051   0.28035873 -0.08958707 ... -0.84719527 -0.04789015\n",
      "  -0.95035183]]\n",
      "debug var_dim -1\n",
      "debug var_dim -1\n",
      "debug var_dim -1\n",
      "debug nan in encoder weights tensor(0)\n",
      "debug nan in encoder bias tensor(0)\n",
      "debug nan in decoder weights tensor(0)\n"
     ]
    },
    {
     "name": "stderr",
     "output_type": "stream",
     "text": [
      "/home/david/Documents/UNI_LOCAL/PyTorch/MarkosCode/solver.py:184: FutureWarning: You are using `torch.load` with `weights_only=False` (the current default value), which uses the default pickle module implicitly. It is possible to construct malicious pickle data which will execute arbitrary code during unpickling (See https://github.com/pytorch/pytorch/blob/main/SECURITY.md#untrusted-models for more details). In a future release, the default value for `weights_only` will be flipped to `True`. This limits the functions that could be executed during unpickling. Arbitrary objects will no longer be allowed to be loaded via this mode unless they are explicitly allowlisted by the user via `torch.serialization.add_safe_globals`. We recommend you start setting `weights_only=True` for any use case where you don't have full control of the loaded file. Please open an issue on GitHub for any issues related to this experimental feature.\n",
      "  state_dict = torch.load(save_path + 'model_weights_epoch{}.pth'.format(epoch-1))\n",
      "Train Epoch: 9 [44928/60000 (100%)]\tLoss: 0.000454: 100%|██████████| 469/469 [00:03<00:00, 125.33it/s]"
     ]
    },
    {
     "name": "stdout",
     "output_type": "stream",
     "text": [
      "====> Epoch: 9 Average loss: 0.0421\n"
     ]
    },
    {
     "name": "stderr",
     "output_type": "stream",
     "text": [
      "\n",
      "/home/david/Documents/UNI_LOCAL/PyTorch/MarkosCode/solver.py:308: UserWarning: volatile was removed and now has no effect. Use `with torch.no_grad():` instead.\n",
      "  data = Variable(data, volatile=True).to(device)\n"
     ]
    },
    {
     "name": "stdout",
     "output_type": "stream",
     "text": [
      "====> Test set loss: 0.0417\n",
      "Weights saved.\n",
      "(10000, 10)\n",
      "[[-0.4775684  -0.18237245 -0.22033563 ... -0.25697547  0.04139432\n",
      "   0.6249436 ]\n",
      " [ 0.70535916 -0.1906518   0.10903908 ...  0.08387125 -0.14660998\n",
      "  -0.46454886]\n",
      " [ 0.02486618 -0.07569388  0.4273853  ...  0.24183428  0.11611079\n",
      "   0.07964979]\n",
      " ...\n",
      " [-0.43218592 -0.6518773  -0.08195625 ... -0.53013736  0.12795424\n",
      "  -0.04805627]\n",
      " [ 0.03953627 -0.3110571   0.35340133 ... -0.4323461  -0.33600175\n",
      "   0.0788129 ]\n",
      " [ 0.52352417  0.28993404 -0.07942449 ... -0.83805645 -0.12914129\n",
      "  -0.99652374]]\n",
      "debug var_dim 0\n",
      "debug var_dim 0\n",
      "debug var_dim 1\n",
      "debug nan in encoder weights tensor(0)\n",
      "debug nan in encoder bias tensor(0)\n",
      "debug nan in decoder weights tensor(0)\n"
     ]
    },
    {
     "name": "stderr",
     "output_type": "stream",
     "text": [
      "/home/david/Documents/UNI_LOCAL/PyTorch/MarkosCode/solver.py:184: FutureWarning: You are using `torch.load` with `weights_only=False` (the current default value), which uses the default pickle module implicitly. It is possible to construct malicious pickle data which will execute arbitrary code during unpickling (See https://github.com/pytorch/pytorch/blob/main/SECURITY.md#untrusted-models for more details). In a future release, the default value for `weights_only` will be flipped to `True`. This limits the functions that could be executed during unpickling. Arbitrary objects will no longer be allowed to be loaded via this mode unless they are explicitly allowlisted by the user via `torch.serialization.add_safe_globals`. We recommend you start setting `weights_only=True` for any use case where you don't have full control of the loaded file. Please open an issue on GitHub for any issues related to this experimental feature.\n",
      "  state_dict = torch.load(save_path + 'model_weights_epoch{}.pth'.format(epoch-1))\n",
      "Train Epoch: 10 [44928/60000 (100%)]\tLoss: 0.000420: 100%|██████████| 469/469 [00:03<00:00, 127.31it/s]"
     ]
    },
    {
     "name": "stdout",
     "output_type": "stream",
     "text": [
      "====> Epoch: 10 Average loss: 0.0420\n"
     ]
    },
    {
     "name": "stderr",
     "output_type": "stream",
     "text": [
      "\n",
      "/home/david/Documents/UNI_LOCAL/PyTorch/MarkosCode/solver.py:308: UserWarning: volatile was removed and now has no effect. Use `with torch.no_grad():` instead.\n",
      "  data = Variable(data, volatile=True).to(device)\n"
     ]
    },
    {
     "name": "stdout",
     "output_type": "stream",
     "text": [
      "====> Test set loss: 0.0415\n",
      "Weights saved.\n",
      "(10000, 16)\n",
      "[[-4.6373919e-01 -1.5998003e-01 -2.1251053e-01 ...  7.5045191e-02\n",
      "   7.7727176e-03 -1.6765654e-02]\n",
      " [ 7.0663208e-01 -1.6881761e-01  1.1136075e-01 ...  6.9532409e-02\n",
      "  -3.6843717e-03 -1.5236877e-02]\n",
      " [ 2.7929589e-02 -6.3769415e-02  4.2617047e-01 ...  7.4799143e-02\n",
      "  -1.1452086e-02  3.9999187e-04]\n",
      " ...\n",
      " [-4.3364781e-01 -6.4801317e-01 -7.4622326e-02 ...  7.4673891e-02\n",
      "   9.2703477e-03 -2.6625089e-02]\n",
      " [ 4.5800209e-02 -2.8878784e-01  3.5517529e-01 ...  8.2288750e-02\n",
      "  -2.6187651e-02  8.1282109e-04]\n",
      " [ 5.2500457e-01  3.1646356e-01 -7.4205257e-02 ...  8.8609517e-02\n",
      "  -7.4643701e-02  2.7946569e-02]]\n",
      "debug var_dim -1\n",
      "debug var_dim -1\n",
      "debug var_dim -1\n",
      "debug nan in encoder weights tensor(0)\n",
      "debug nan in encoder bias tensor(0)\n",
      "debug nan in decoder weights tensor(0)\n"
     ]
    },
    {
     "name": "stderr",
     "output_type": "stream",
     "text": [
      "/home/david/Documents/UNI_LOCAL/PyTorch/MarkosCode/solver.py:184: FutureWarning: You are using `torch.load` with `weights_only=False` (the current default value), which uses the default pickle module implicitly. It is possible to construct malicious pickle data which will execute arbitrary code during unpickling (See https://github.com/pytorch/pytorch/blob/main/SECURITY.md#untrusted-models for more details). In a future release, the default value for `weights_only` will be flipped to `True`. This limits the functions that could be executed during unpickling. Arbitrary objects will no longer be allowed to be loaded via this mode unless they are explicitly allowlisted by the user via `torch.serialization.add_safe_globals`. We recommend you start setting `weights_only=True` for any use case where you don't have full control of the loaded file. Please open an issue on GitHub for any issues related to this experimental feature.\n",
      "  state_dict = torch.load(save_path + 'model_weights_epoch{}.pth'.format(epoch-1))\n",
      "Train Epoch: 11 [44928/60000 (100%)]\tLoss: 0.000414: 100%|██████████| 469/469 [00:03<00:00, 124.54it/s]\n"
     ]
    },
    {
     "name": "stdout",
     "output_type": "stream",
     "text": [
      "====> Epoch: 11 Average loss: 0.0410\n"
     ]
    },
    {
     "name": "stderr",
     "output_type": "stream",
     "text": [
      "/home/david/Documents/UNI_LOCAL/PyTorch/MarkosCode/solver.py:308: UserWarning: volatile was removed and now has no effect. Use `with torch.no_grad():` instead.\n",
      "  data = Variable(data, volatile=True).to(device)\n"
     ]
    },
    {
     "name": "stdout",
     "output_type": "stream",
     "text": [
      "====> Test set loss: 0.0395\n",
      "Weights saved.\n",
      "(10000, 16)\n",
      "[[-0.4746887  -0.10853101 -0.21779722 ...  0.09051669 -0.13087714\n",
      "   0.12682109]\n",
      " [ 0.68172264 -0.10984056  0.09534349 ...  0.08675066 -0.22857925\n",
      "   0.21591638]\n",
      " [ 0.01808918 -0.02318416  0.41210595 ...  0.0895909  -0.19030288\n",
      "   0.1793661 ]\n",
      " ...\n",
      " [-0.41836727 -0.65073794 -0.07899206 ...  0.07363105 -0.04000859\n",
      "   0.00601158]\n",
      " [ 0.03124014 -0.24231085  0.34009457 ...  0.11166364 -0.22625574\n",
      "   0.20511498]\n",
      " [ 0.50214595  0.38590953 -0.08992212 ...  0.10584495 -0.41069797\n",
      "   0.3485012 ]]\n",
      "debug var_dim -1\n",
      "debug var_dim -1\n",
      "debug var_dim -1\n",
      "debug nan in encoder weights tensor(0)\n",
      "debug nan in encoder bias tensor(0)\n",
      "debug nan in decoder weights tensor(0)\n"
     ]
    },
    {
     "name": "stderr",
     "output_type": "stream",
     "text": [
      "/home/david/Documents/UNI_LOCAL/PyTorch/MarkosCode/solver.py:184: FutureWarning: You are using `torch.load` with `weights_only=False` (the current default value), which uses the default pickle module implicitly. It is possible to construct malicious pickle data which will execute arbitrary code during unpickling (See https://github.com/pytorch/pytorch/blob/main/SECURITY.md#untrusted-models for more details). In a future release, the default value for `weights_only` will be flipped to `True`. This limits the functions that could be executed during unpickling. Arbitrary objects will no longer be allowed to be loaded via this mode unless they are explicitly allowlisted by the user via `torch.serialization.add_safe_globals`. We recommend you start setting `weights_only=True` for any use case where you don't have full control of the loaded file. Please open an issue on GitHub for any issues related to this experimental feature.\n",
      "  state_dict = torch.load(save_path + 'model_weights_epoch{}.pth'.format(epoch-1))\n",
      "Train Epoch: 12 [44928/60000 (100%)]\tLoss: 0.000387: 100%|██████████| 469/469 [00:03<00:00, 126.06it/s]"
     ]
    },
    {
     "name": "stdout",
     "output_type": "stream",
     "text": [
      "====> Epoch: 12 Average loss: 0.0390\n"
     ]
    },
    {
     "name": "stderr",
     "output_type": "stream",
     "text": [
      "\n",
      "/home/david/Documents/UNI_LOCAL/PyTorch/MarkosCode/solver.py:308: UserWarning: volatile was removed and now has no effect. Use `with torch.no_grad():` instead.\n",
      "  data = Variable(data, volatile=True).to(device)\n"
     ]
    },
    {
     "name": "stdout",
     "output_type": "stream",
     "text": [
      "====> Test set loss: 0.0372\n",
      "Weights saved.\n",
      "(10000, 16)\n",
      "[[-0.48950145 -0.05569206 -0.22270653 ...  0.10019419 -0.09061769\n",
      "   0.11871061]\n",
      " [ 0.67154306 -0.08045524  0.08876675 ...  0.09029922 -0.28998256\n",
      "   0.25285202]\n",
      " [ 0.01823413 -0.04637364  0.41492054 ...  0.06124102 -0.19750746\n",
      "   0.18014115]\n",
      " ...\n",
      " [-0.4309893  -0.6854931  -0.07050889 ...  0.00664568 -0.09141544\n",
      "   0.06888166]\n",
      " [ 0.02462316 -0.22513506  0.33309525 ...  0.14312062 -0.24231587\n",
      "   0.23679084]\n",
      " [ 0.51046467  0.35120505 -0.08555505 ...  0.09012935 -0.6259469\n",
      "   0.31743848]]\n",
      "debug var_dim -1\n",
      "debug var_dim -1\n",
      "debug var_dim -1\n",
      "debug nan in encoder weights tensor(0)\n",
      "debug nan in encoder bias tensor(0)\n",
      "debug nan in decoder weights tensor(0)\n"
     ]
    },
    {
     "name": "stderr",
     "output_type": "stream",
     "text": [
      "/home/david/Documents/UNI_LOCAL/PyTorch/MarkosCode/solver.py:184: FutureWarning: You are using `torch.load` with `weights_only=False` (the current default value), which uses the default pickle module implicitly. It is possible to construct malicious pickle data which will execute arbitrary code during unpickling (See https://github.com/pytorch/pytorch/blob/main/SECURITY.md#untrusted-models for more details). In a future release, the default value for `weights_only` will be flipped to `True`. This limits the functions that could be executed during unpickling. Arbitrary objects will no longer be allowed to be loaded via this mode unless they are explicitly allowlisted by the user via `torch.serialization.add_safe_globals`. We recommend you start setting `weights_only=True` for any use case where you don't have full control of the loaded file. Please open an issue on GitHub for any issues related to this experimental feature.\n",
      "  state_dict = torch.load(save_path + 'model_weights_epoch{}.pth'.format(epoch-1))\n",
      "Train Epoch: 13 [44928/60000 (100%)]\tLoss: 0.000355: 100%|██████████| 469/469 [00:03<00:00, 124.26it/s]"
     ]
    },
    {
     "name": "stdout",
     "output_type": "stream",
     "text": [
      "====> Epoch: 13 Average loss: 0.0361\n"
     ]
    },
    {
     "name": "stderr",
     "output_type": "stream",
     "text": [
      "\n",
      "/home/david/Documents/UNI_LOCAL/PyTorch/MarkosCode/solver.py:308: UserWarning: volatile was removed and now has no effect. Use `with torch.no_grad():` instead.\n",
      "  data = Variable(data, volatile=True).to(device)\n"
     ]
    },
    {
     "name": "stdout",
     "output_type": "stream",
     "text": [
      "====> Test set loss: 0.0342\n",
      "Weights saved.\n",
      "(10000, 16)\n",
      "[[-0.5177403  -0.0544622  -0.21250348 ... -0.10137551 -0.15369523\n",
      "  -0.01890177]\n",
      " [ 0.6501412  -0.06716248  0.08276636 ...  0.01046887 -0.3220628\n",
      "   0.28535265]\n",
      " [ 0.01437653 -0.04089431  0.42082036 ...  0.03418235 -0.09924024\n",
      "   0.25277644]\n",
      " ...\n",
      " [-0.4637016  -0.67706037 -0.04494047 ... -0.16264859  0.03908944\n",
      "   0.13597992]\n",
      " [ 0.02158053 -0.207416    0.32558078 ...  0.20648655 -0.2185733\n",
      "   0.36852247]\n",
      " [ 0.5168045   0.34956032 -0.0800239  ...  0.10383299 -0.68646044\n",
      "   0.2734621 ]]\n",
      "debug var_dim -1\n",
      "debug var_dim -1\n",
      "debug var_dim -1\n",
      "debug nan in encoder weights tensor(0)\n",
      "debug nan in encoder bias tensor(0)\n",
      "debug nan in decoder weights tensor(0)\n"
     ]
    },
    {
     "name": "stderr",
     "output_type": "stream",
     "text": [
      "/home/david/Documents/UNI_LOCAL/PyTorch/MarkosCode/solver.py:184: FutureWarning: You are using `torch.load` with `weights_only=False` (the current default value), which uses the default pickle module implicitly. It is possible to construct malicious pickle data which will execute arbitrary code during unpickling (See https://github.com/pytorch/pytorch/blob/main/SECURITY.md#untrusted-models for more details). In a future release, the default value for `weights_only` will be flipped to `True`. This limits the functions that could be executed during unpickling. Arbitrary objects will no longer be allowed to be loaded via this mode unless they are explicitly allowlisted by the user via `torch.serialization.add_safe_globals`. We recommend you start setting `weights_only=True` for any use case where you don't have full control of the loaded file. Please open an issue on GitHub for any issues related to this experimental feature.\n",
      "  state_dict = torch.load(save_path + 'model_weights_epoch{}.pth'.format(epoch-1))\n",
      "Train Epoch: 14 [44928/60000 (100%)]\tLoss: 0.000357: 100%|██████████| 469/469 [00:03<00:00, 124.28it/s]"
     ]
    },
    {
     "name": "stdout",
     "output_type": "stream",
     "text": [
      "====> Epoch: 14 Average loss: 0.0338\n"
     ]
    },
    {
     "name": "stderr",
     "output_type": "stream",
     "text": [
      "\n",
      "/home/david/Documents/UNI_LOCAL/PyTorch/MarkosCode/solver.py:308: UserWarning: volatile was removed and now has no effect. Use `with torch.no_grad():` instead.\n",
      "  data = Variable(data, volatile=True).to(device)\n"
     ]
    },
    {
     "name": "stdout",
     "output_type": "stream",
     "text": [
      "====> Test set loss: 0.0328\n",
      "Weights saved.\n",
      "(10000, 16)\n",
      "[[-0.53036994 -0.05490945 -0.21019696 ... -0.24940372 -0.18761086\n",
      "  -0.05181067]\n",
      " [ 0.62756574 -0.04680827  0.07284269 ... -0.05763642 -0.34060925\n",
      "   0.32622313]\n",
      " [ 0.01775797 -0.03859817  0.4235828  ...  0.05128445 -0.0852856\n",
      "   0.26956457]\n",
      " ...\n",
      " [-0.47494757 -0.6819284  -0.0362875  ... -0.26231962  0.07302214\n",
      "   0.11169173]\n",
      " [ 0.00718816 -0.18406883  0.31550825 ...  0.19703351 -0.20416015\n",
      "   0.4149844 ]\n",
      " [ 0.5211133   0.35260004 -0.07402878 ...  0.10878853 -0.67993295\n",
      "   0.29240286]]\n",
      "debug var_dim 0\n",
      "debug var_dim 0\n",
      "debug var_dim 1\n",
      "debug nan in encoder weights tensor(0)\n",
      "debug nan in encoder bias tensor(0)\n",
      "debug nan in decoder weights tensor(0)\n"
     ]
    },
    {
     "name": "stderr",
     "output_type": "stream",
     "text": [
      "/home/david/Documents/UNI_LOCAL/PyTorch/MarkosCode/solver.py:184: FutureWarning: You are using `torch.load` with `weights_only=False` (the current default value), which uses the default pickle module implicitly. It is possible to construct malicious pickle data which will execute arbitrary code during unpickling (See https://github.com/pytorch/pytorch/blob/main/SECURITY.md#untrusted-models for more details). In a future release, the default value for `weights_only` will be flipped to `True`. This limits the functions that could be executed during unpickling. Arbitrary objects will no longer be allowed to be loaded via this mode unless they are explicitly allowlisted by the user via `torch.serialization.add_safe_globals`. We recommend you start setting `weights_only=True` for any use case where you don't have full control of the loaded file. Please open an issue on GitHub for any issues related to this experimental feature.\n",
      "  state_dict = torch.load(save_path + 'model_weights_epoch{}.pth'.format(epoch-1))\n",
      "Train Epoch: 15 [44928/60000 (100%)]\tLoss: 0.000313: 100%|██████████| 469/469 [00:03<00:00, 125.92it/s]\n"
     ]
    },
    {
     "name": "stdout",
     "output_type": "stream",
     "text": [
      "====> Epoch: 15 Average loss: 0.0335\n"
     ]
    },
    {
     "name": "stderr",
     "output_type": "stream",
     "text": [
      "/home/david/Documents/UNI_LOCAL/PyTorch/MarkosCode/solver.py:308: UserWarning: volatile was removed and now has no effect. Use `with torch.no_grad():` instead.\n",
      "  data = Variable(data, volatile=True).to(device)\n"
     ]
    },
    {
     "name": "stdout",
     "output_type": "stream",
     "text": [
      "====> Test set loss: 0.0321\n",
      "Weights saved.\n",
      "(10000, 32)\n",
      "[[-0.35801348 -0.07256323 -0.15654823 ... -0.17846125 -0.09316359\n",
      "  -0.01056273]\n",
      " [ 0.3601249  -0.06769226 -0.00284354 ...  0.05237982 -0.12523456\n",
      "   0.23772919]\n",
      " [-0.01819984 -0.03304458  0.24080233 ...  0.06185141  0.01344052\n",
      "   0.17024341]\n",
      " ...\n",
      " [-0.31529206 -0.48047507 -0.08068824 ... -0.17551659  0.08818714\n",
      "   0.08300062]\n",
      " [-0.01976888 -0.1619429   0.13662878 ...  0.21859209 -0.02227454\n",
      "   0.2868829 ]\n",
      " [ 0.3145985   0.15650773 -0.10825589 ...  0.02655092 -0.42319477\n",
      "   0.22943467]]\n",
      "debug var_dim -1\n",
      "debug var_dim -1\n",
      "debug var_dim -1\n",
      "debug nan in encoder weights tensor(0)\n",
      "debug nan in encoder bias tensor(0)\n",
      "debug nan in decoder weights tensor(0)\n"
     ]
    },
    {
     "name": "stderr",
     "output_type": "stream",
     "text": [
      "/home/david/Documents/UNI_LOCAL/PyTorch/MarkosCode/solver.py:184: FutureWarning: You are using `torch.load` with `weights_only=False` (the current default value), which uses the default pickle module implicitly. It is possible to construct malicious pickle data which will execute arbitrary code during unpickling (See https://github.com/pytorch/pytorch/blob/main/SECURITY.md#untrusted-models for more details). In a future release, the default value for `weights_only` will be flipped to `True`. This limits the functions that could be executed during unpickling. Arbitrary objects will no longer be allowed to be loaded via this mode unless they are explicitly allowlisted by the user via `torch.serialization.add_safe_globals`. We recommend you start setting `weights_only=True` for any use case where you don't have full control of the loaded file. Please open an issue on GitHub for any issues related to this experimental feature.\n",
      "  state_dict = torch.load(save_path + 'model_weights_epoch{}.pth'.format(epoch-1))\n",
      "Train Epoch: 16 [44928/60000 (100%)]\tLoss: 0.000337: 100%|██████████| 469/469 [00:03<00:00, 127.62it/s]"
     ]
    },
    {
     "name": "stdout",
     "output_type": "stream",
     "text": [
      "====> Epoch: 16 Average loss: 0.0324\n"
     ]
    },
    {
     "name": "stderr",
     "output_type": "stream",
     "text": [
      "\n",
      "/home/david/Documents/UNI_LOCAL/PyTorch/MarkosCode/solver.py:308: UserWarning: volatile was removed and now has no effect. Use `with torch.no_grad():` instead.\n",
      "  data = Variable(data, volatile=True).to(device)\n"
     ]
    },
    {
     "name": "stdout",
     "output_type": "stream",
     "text": [
      "====> Test set loss: 0.0318\n",
      "Weights saved.\n",
      "(10000, 32)\n",
      "[[-0.3566688  -0.0683405  -0.15207829 ... -0.18416873 -0.09928375\n",
      "  -0.01261198]\n",
      " [ 0.35635734 -0.06241351  0.00358339 ...  0.072596   -0.11379567\n",
      "   0.24480465]\n",
      " [-0.01627079 -0.03242828  0.24243578 ...  0.05042995  0.00349474\n",
      "   0.17115995]\n",
      " ...\n",
      " [-0.32245097 -0.47533986 -0.06909689 ... -0.19241047  0.11225393\n",
      "   0.08177105]\n",
      " [-0.02432283 -0.15616047  0.1443319  ...  0.23835874  0.02024969\n",
      "   0.29130217]\n",
      " [ 0.30849916  0.16290906 -0.10471842 ...  0.02839343 -0.42424768\n",
      "   0.23231965]]\n",
      "debug var_dim -1\n",
      "debug var_dim -1\n",
      "debug var_dim -1\n",
      "debug nan in encoder weights tensor(0)\n",
      "debug nan in encoder bias tensor(0)\n",
      "debug nan in decoder weights tensor(0)\n"
     ]
    },
    {
     "name": "stderr",
     "output_type": "stream",
     "text": [
      "/home/david/Documents/UNI_LOCAL/PyTorch/MarkosCode/solver.py:184: FutureWarning: You are using `torch.load` with `weights_only=False` (the current default value), which uses the default pickle module implicitly. It is possible to construct malicious pickle data which will execute arbitrary code during unpickling (See https://github.com/pytorch/pytorch/blob/main/SECURITY.md#untrusted-models for more details). In a future release, the default value for `weights_only` will be flipped to `True`. This limits the functions that could be executed during unpickling. Arbitrary objects will no longer be allowed to be loaded via this mode unless they are explicitly allowlisted by the user via `torch.serialization.add_safe_globals`. We recommend you start setting `weights_only=True` for any use case where you don't have full control of the loaded file. Please open an issue on GitHub for any issues related to this experimental feature.\n",
      "  state_dict = torch.load(save_path + 'model_weights_epoch{}.pth'.format(epoch-1))\n",
      "Train Epoch: 17 [44928/60000 (100%)]\tLoss: 0.000321: 100%|██████████| 469/469 [00:03<00:00, 123.24it/s]\n"
     ]
    },
    {
     "name": "stdout",
     "output_type": "stream",
     "text": [
      "====> Epoch: 17 Average loss: 0.0322\n"
     ]
    },
    {
     "name": "stderr",
     "output_type": "stream",
     "text": [
      "/home/david/Documents/UNI_LOCAL/PyTorch/MarkosCode/solver.py:308: UserWarning: volatile was removed and now has no effect. Use `with torch.no_grad():` instead.\n",
      "  data = Variable(data, volatile=True).to(device)\n"
     ]
    },
    {
     "name": "stdout",
     "output_type": "stream",
     "text": [
      "====> Test set loss: 0.0317\n",
      "Weights saved.\n",
      "(10000, 32)\n",
      "[[-0.35783634 -0.06345961 -0.15076475 ... -0.18036234 -0.10176013\n",
      "  -0.0131029 ]\n",
      " [ 0.35569    -0.05811084  0.00444531 ...  0.06615038 -0.11191963\n",
      "   0.24327894]\n",
      " [-0.01613621 -0.02877396  0.24472216 ...  0.04092782 -0.00530982\n",
      "   0.17222793]\n",
      " ...\n",
      " [-0.32923248 -0.46944767 -0.06428906 ... -0.2019681   0.12893307\n",
      "   0.08090812]\n",
      " [-0.03312799 -0.15037456  0.1474574  ...  0.23228106  0.04667099\n",
      "   0.28939998]\n",
      " [ 0.30587697  0.16997904 -0.10128409 ...  0.03823518 -0.42744803\n",
      "   0.23476027]]\n",
      "debug var_dim -1\n",
      "debug var_dim -1\n",
      "debug var_dim -1\n",
      "debug nan in encoder weights tensor(0)\n",
      "debug nan in encoder bias tensor(0)\n",
      "debug nan in decoder weights tensor(0)\n"
     ]
    },
    {
     "name": "stderr",
     "output_type": "stream",
     "text": [
      "/home/david/Documents/UNI_LOCAL/PyTorch/MarkosCode/solver.py:184: FutureWarning: You are using `torch.load` with `weights_only=False` (the current default value), which uses the default pickle module implicitly. It is possible to construct malicious pickle data which will execute arbitrary code during unpickling (See https://github.com/pytorch/pytorch/blob/main/SECURITY.md#untrusted-models for more details). In a future release, the default value for `weights_only` will be flipped to `True`. This limits the functions that could be executed during unpickling. Arbitrary objects will no longer be allowed to be loaded via this mode unless they are explicitly allowlisted by the user via `torch.serialization.add_safe_globals`. We recommend you start setting `weights_only=True` for any use case where you don't have full control of the loaded file. Please open an issue on GitHub for any issues related to this experimental feature.\n",
      "  state_dict = torch.load(save_path + 'model_weights_epoch{}.pth'.format(epoch-1))\n",
      "Train Epoch: 18 [44928/60000 (100%)]\tLoss: 0.000327: 100%|██████████| 469/469 [00:03<00:00, 125.56it/s]"
     ]
    },
    {
     "name": "stdout",
     "output_type": "stream",
     "text": [
      "====> Epoch: 18 Average loss: 0.0321\n"
     ]
    },
    {
     "name": "stderr",
     "output_type": "stream",
     "text": [
      "\n",
      "/home/david/Documents/UNI_LOCAL/PyTorch/MarkosCode/solver.py:308: UserWarning: volatile was removed and now has no effect. Use `with torch.no_grad():` instead.\n",
      "  data = Variable(data, volatile=True).to(device)\n"
     ]
    },
    {
     "name": "stdout",
     "output_type": "stream",
     "text": [
      "====> Test set loss: 0.0316\n",
      "Weights saved.\n",
      "(10000, 32)\n",
      "[[-0.3583995  -0.0634459  -0.14950827 ... -0.17815688 -0.10140519\n",
      "  -0.01347165]\n",
      " [ 0.34797797 -0.05952486  0.01055363 ...  0.05360805 -0.11407439\n",
      "   0.24640872]\n",
      " [-0.01537519 -0.0262979   0.24474517 ...  0.0341984  -0.0109147\n",
      "   0.17204814]\n",
      " ...\n",
      " [-0.33281672 -0.46519226 -0.06093204 ... -0.20442042  0.14387342\n",
      "   0.08071259]\n",
      " [-0.04117709 -0.15235844  0.15188964 ...  0.2262688   0.06552267\n",
      "   0.29069138]\n",
      " [ 0.3025609   0.1762344  -0.09844045 ...  0.04354431 -0.43171203\n",
      "   0.23691733]]\n",
      "debug var_dim -1\n",
      "debug var_dim -1\n",
      "debug var_dim -1\n",
      "debug nan in encoder weights tensor(0)\n",
      "debug nan in encoder bias tensor(0)\n",
      "debug nan in decoder weights tensor(0)\n"
     ]
    },
    {
     "name": "stderr",
     "output_type": "stream",
     "text": [
      "/home/david/Documents/UNI_LOCAL/PyTorch/MarkosCode/solver.py:184: FutureWarning: You are using `torch.load` with `weights_only=False` (the current default value), which uses the default pickle module implicitly. It is possible to construct malicious pickle data which will execute arbitrary code during unpickling (See https://github.com/pytorch/pytorch/blob/main/SECURITY.md#untrusted-models for more details). In a future release, the default value for `weights_only` will be flipped to `True`. This limits the functions that could be executed during unpickling. Arbitrary objects will no longer be allowed to be loaded via this mode unless they are explicitly allowlisted by the user via `torch.serialization.add_safe_globals`. We recommend you start setting `weights_only=True` for any use case where you don't have full control of the loaded file. Please open an issue on GitHub for any issues related to this experimental feature.\n",
      "  state_dict = torch.load(save_path + 'model_weights_epoch{}.pth'.format(epoch-1))\n",
      "Train Epoch: 19 [44928/60000 (100%)]\tLoss: 0.000308: 100%|██████████| 469/469 [00:03<00:00, 123.48it/s]\n"
     ]
    },
    {
     "name": "stdout",
     "output_type": "stream",
     "text": [
      "====> Epoch: 19 Average loss: 0.0320\n"
     ]
    },
    {
     "name": "stderr",
     "output_type": "stream",
     "text": [
      "/home/david/Documents/UNI_LOCAL/PyTorch/MarkosCode/solver.py:308: UserWarning: volatile was removed and now has no effect. Use `with torch.no_grad():` instead.\n",
      "  data = Variable(data, volatile=True).to(device)\n"
     ]
    },
    {
     "name": "stdout",
     "output_type": "stream",
     "text": [
      "====> Test set loss: 0.0315\n",
      "Weights saved.\n",
      "(10000, 32)\n",
      "[[-0.35794246 -0.06235221 -0.1476262  ... -0.17500034 -0.10317351\n",
      "  -0.0134173 ]\n",
      " [ 0.34692863 -0.05953312  0.01155648 ...  0.03850819 -0.11974473\n",
      "   0.24677834]\n",
      " [-0.01595131 -0.02293009  0.24700324 ...  0.02970754 -0.01456301\n",
      "   0.17200601]\n",
      " ...\n",
      " [-0.33622012 -0.45778495 -0.05388338 ... -0.19920398  0.15610135\n",
      "   0.07979539]\n",
      " [-0.04375014 -0.14520091  0.1555624  ...  0.22570771  0.08303732\n",
      "   0.2916211 ]\n",
      " [ 0.29975536  0.18058035 -0.09619042 ...  0.04656446 -0.43198937\n",
      "   0.23871061]]\n",
      "All train losses saved.\n"
     ]
    },
    {
     "data": {
      "text/plain": [
       "([array([0.4549233 , 0.27815953, 0.14953597, 0.11738121], dtype=float32),\n",
       "  array([0.43081826, 0.33641127, 0.15968108, 0.07308936], dtype=float32),\n",
       "  array([0.34553096, 0.28291774, 0.23792225, 0.13362907], dtype=float32),\n",
       "  array([0.34015223, 0.28302416, 0.24348775, 0.13333584], dtype=float32),\n",
       "  array([0.33872405, 0.28247923, 0.24570446, 0.13309222], dtype=float32),\n",
       "  array([0.33612096, 0.27387428, 0.23533036, 0.15391484], dtype=float32),\n",
       "  array([0.28194585, 0.2361415 , 0.21629019, 0.17258291], dtype=float32),\n",
       "  array([0.23687102, 0.21055345, 0.18714622, 0.15455697], dtype=float32),\n",
       "  array([0.23355846, 0.20898363, 0.18421343, 0.15345766], dtype=float32),\n",
       "  array([0.23216441, 0.20909527, 0.18430643, 0.15349536], dtype=float32),\n",
       "  array([0.23049341, 0.20873526, 0.18213302, 0.15334754], dtype=float32),\n",
       "  array([0.21489736, 0.19255118, 0.1709609 , 0.14096692], dtype=float32),\n",
       "  array([0.19466895, 0.1745297 , 0.155586  , 0.13017268], dtype=float32),\n",
       "  array([0.1707537 , 0.156138  , 0.13841036, 0.12084203], dtype=float32),\n",
       "  array([0.16029681, 0.14833385, 0.13101034, 0.11508461], dtype=float32),\n",
       "  array([0.16874346, 0.14169775, 0.13466261, 0.108726  ], dtype=float32),\n",
       "  array([0.16383784, 0.14008725, 0.13351452, 0.10808311], dtype=float32),\n",
       "  array([0.16039386, 0.13960382, 0.13264343, 0.1081303 ], dtype=float32),\n",
       "  array([0.15796846, 0.13940437, 0.13173756, 0.10804942], dtype=float32),\n",
       "  array([0.1557334 , 0.13939276, 0.1311166 , 0.10815185], dtype=float32)],\n",
       " [array([[ 0.5549915 ,  0.72200674, -0.1138182 , -0.39716005],\n",
       "         [-0.27143544,  0.50927466, -0.45632854,  0.6772934 ],\n",
       "         [ 0.5007216 ,  0.04074513,  0.62868345,  0.5936117 ],\n",
       "         [-0.606288  ,  0.46656767,  0.6193277 , -0.17652945]],\n",
       "        dtype=float32),\n",
       "  array([[ 0.8165654 ,  0.33077472, -0.16232163, -0.44436556],\n",
       "         [ 0.36936817, -0.1443576 ,  0.8837351 ,  0.24847582],\n",
       "         [ 0.06916391,  0.7084203 , -0.10831451,  0.6939921 ],\n",
       "         [-0.43818316,  0.6065391 ,  0.42536086, -0.5090914 ]],\n",
       "        dtype=float32),\n",
       "  array([[ 0.82897174,  0.3475876 , -0.09955184, -0.4267061 ],\n",
       "         [ 0.48468733, -0.34332433,  0.61517704,  0.51842433],\n",
       "         [-0.27745852,  0.35241038,  0.7812049 , -0.43421498],\n",
       "         [-0.03001274,  0.79819685, -0.0369539 ,  0.6005126 ]],\n",
       "        dtype=float32),\n",
       "  array([[ 0.8156153 ,  0.3706764 , -0.08102662, -0.4368127 ],\n",
       "         [ 0.52010214, -0.3771691 ,  0.5309306 ,  0.5525848 ],\n",
       "         [-0.25133327,  0.31873858,  0.8421383 , -0.35502174],\n",
       "         [-0.03312118,  0.7866055 , -0.04848263,  0.6146578 ]],\n",
       "        dtype=float32),\n",
       "  array([[ 0.80772734,  0.38598984, -0.06359617, -0.4410714 ],\n",
       "         [ 0.5299756 , -0.38975453,  0.50774926,  0.5562445 ],\n",
       "         [-0.25587147,  0.30435842,  0.85772264, -0.32589507],\n",
       "         [-0.03510383,  0.7787613 , -0.04957879,  0.62437207]],\n",
       "        dtype=float32),\n",
       "  array([[ 5.59524536e-01,  2.21742228e-01, -1.01207495e-01,\n",
       "          -3.58040363e-01,  5.59356153e-01,  2.21658602e-01,\n",
       "          -1.01047985e-01, -3.56497735e-01,  3.64400726e-03,\n",
       "          -5.70755044e-04],\n",
       "         [ 4.06346142e-01, -2.12252542e-01,  3.56212229e-01,\n",
       "           4.02876765e-01,  4.06059772e-01, -2.11466879e-01,\n",
       "           3.57014060e-01,  4.04363930e-01, -6.40324363e-03,\n",
       "           4.67088353e-03],\n",
       "         [-1.46772191e-01,  3.01033705e-01,  5.87953150e-01,\n",
       "          -2.11951420e-01, -1.49079219e-01,  2.97730505e-01,\n",
       "           5.84306359e-01, -2.11445495e-01,  1.09112458e-02,\n",
       "          -1.06807090e-02],\n",
       "         [ 1.20266872e-02,  5.63549876e-01, -1.37315974e-01,\n",
       "           4.04968202e-01,  1.06856348e-02,  5.60529649e-01,\n",
       "          -1.38644084e-01,  4.06504542e-01,  2.33235974e-02,\n",
       "          -9.60093644e-03]], dtype=float32),\n",
       "  array([[ 0.5669871 ,  0.21020956, -0.09090745, -0.35280207,  0.5683467 ,\n",
       "           0.20970912, -0.09086315, -0.3534318 , -0.02007462,  0.03217363],\n",
       "         [-0.37802103,  0.40855366, -0.16527545, -0.35187143, -0.39048   ,\n",
       "           0.40627193, -0.17008114, -0.34187925,  0.18462776, -0.20402594],\n",
       "         [ 0.09018486,  0.30569515,  0.55819494,  0.14036338,  0.07224664,\n",
       "           0.30192646,  0.5511908 ,  0.15683977,  0.26219094, -0.271294  ],\n",
       "         [ 0.15795746,  0.18747543, -0.39269775,  0.41781217,  0.13901712,\n",
       "           0.18713056, -0.3962513 ,  0.4373219 ,  0.31524345, -0.33035785]],\n",
       "        dtype=float32),\n",
       "  array([[ 0.57043296,  0.21194412, -0.08253031, -0.34610435,  0.5721669 ,\n",
       "           0.21374145, -0.0820045 , -0.34735814, -0.04687802,  0.02112262],\n",
       "         [ 0.27965936, -0.43791902,  0.04858711,  0.2455725 ,  0.30548254,\n",
       "          -0.44345066,  0.05411982,  0.22357044, -0.3027741 ,  0.48249152],\n",
       "         [ 0.23519348,  0.12082833,  0.523674  ,  0.28888366,  0.21653022,\n",
       "           0.12167007,  0.5183775 ,  0.30613184,  0.24025108, -0.30092338],\n",
       "         [-0.19823126,  0.02724615,  0.46174118, -0.371794  , -0.17993459,\n",
       "           0.01537645,  0.4607582 , -0.3908983 , -0.20808218,  0.40928674]],\n",
       "        dtype=float32),\n",
       "  array([[ 0.5677284 ,  0.2397561 , -0.0653225 , -0.33907244,  0.56833434,\n",
       "           0.24024604, -0.06600711, -0.33978885, -0.01794173,  0.01033922],\n",
       "         [ 0.30231893, -0.42361486,  0.05673547,  0.24096456,  0.32834777,\n",
       "          -0.42938977,  0.0620684 ,  0.21890803, -0.29862043,  0.48449525],\n",
       "         [ 0.21107544,  0.10889619,  0.523916  ,  0.29309404,  0.19058727,\n",
       "           0.11283768,  0.51935035,  0.31182605,  0.22160694, -0.34361455],\n",
       "         [-0.19837019,  0.04099444,  0.46343988, -0.36219442, -0.1797938 ,\n",
       "           0.02398495,  0.4603261 , -0.38149974, -0.1579162 ,  0.4446646 ]],\n",
       "        dtype=float32),\n",
       "  array([[ 0.56207573,  0.2581484 , -0.05746413, -0.33786395,  0.5616937 ,\n",
       "           0.25794888, -0.05905958, -0.3382802 ,  0.00304734, -0.00280366],\n",
       "         [ 0.32143363, -0.40904233,  0.06575881,  0.23691587,  0.3474205 ,\n",
       "          -0.41535   ,  0.0705236 ,  0.21527943, -0.296804  ,  0.4860899 ],\n",
       "         [ 0.19206953,  0.10218351,  0.5326408 ,  0.28298965,  0.17031293,\n",
       "           0.10948176,  0.52923   ,  0.30267423,  0.18734458, -0.37562162],\n",
       "         [-0.20260459,  0.05275504,  0.45414397, -0.35922363, -0.18385592,\n",
       "           0.03248098,  0.44975686, -0.3789079 , -0.13559446,  0.47093907]],\n",
       "        dtype=float32),\n",
       "  array([[ 0.55598885,  0.27955982, -0.04039174, -0.33375978,  0.5541531 ,\n",
       "           0.2794303 , -0.04270998, -0.33349362,  0.02171923, -0.02528179,\n",
       "          -0.0163347 ,  0.00740248, -0.00633211, -0.00104177, -0.00166211,\n",
       "          -0.00317121],\n",
       "         [ 0.33973098, -0.39840075,  0.06679445,  0.22450261,  0.36590198,\n",
       "          -0.40485632,  0.07128871,  0.2026283 , -0.29270393,  0.49100995,\n",
       "           0.00292841,  0.00062017,  0.01087174, -0.00904051,  0.00882418,\n",
       "           0.00323584],\n",
       "         [ 0.17509957,  0.08634997,  0.53050965,  0.2918503 ,  0.15178211,\n",
       "           0.09560689,  0.52762914,  0.31265318,  0.16146007, -0.40041918,\n",
       "           0.01061571, -0.00982812,  0.00676609,  0.00077667, -0.01131524,\n",
       "           0.01245634],\n",
       "         [-0.20343615,  0.06470785,  0.45803633, -0.34746927, -0.1847237 ,\n",
       "           0.04093644,  0.45216033, -0.3669898 , -0.09726768,  0.48915935,\n",
       "           0.00442121, -0.00247692,  0.00219081,  0.00396789, -0.00947598,\n",
       "           0.00956331]], dtype=float32),\n",
       "  array([[ 5.51483750e-01,  2.04517886e-01, -6.64988533e-02,\n",
       "          -3.61972660e-01,  5.59708416e-01,  2.08779395e-01,\n",
       "          -6.81206360e-02, -3.73635143e-01,  6.00206247e-03,\n",
       "           3.72256003e-02, -4.41202521e-02,  5.79777248e-02,\n",
       "          -3.60095724e-02, -5.25550358e-03,  6.10564239e-02,\n",
       "          -7.55236447e-02],\n",
       "         [ 2.57004589e-01, -4.45039093e-01,  2.42556352e-02,\n",
       "           2.03042388e-01,  2.88703769e-01, -4.49403942e-01,\n",
       "           2.93020867e-02,  1.74730763e-01, -3.00580978e-01,\n",
       "           5.33171833e-01, -6.54747197e-03,  1.51913492e-02,\n",
       "           5.49899589e-04, -1.24780182e-02,  3.40404585e-02,\n",
       "          -3.40819620e-02],\n",
       "         [ 2.85176933e-01,  1.06567100e-01,  4.82324421e-01,\n",
       "           3.21109086e-01,  2.57537156e-01,  1.08280845e-01,\n",
       "           4.79190916e-01,  3.48765135e-01,  8.45605657e-02,\n",
       "          -3.17125142e-01,  3.93691920e-02, -8.33997354e-02,\n",
       "           4.82809059e-02,  2.81328242e-03, -1.02098964e-01,\n",
       "           1.15199931e-01],\n",
       "         [-2.10356459e-01,  3.92944403e-02,  5.02796113e-01,\n",
       "          -3.36451471e-01, -1.90891385e-01,  2.32080165e-02,\n",
       "           4.97681081e-01, -3.59450966e-01, -7.17565939e-02,\n",
       "           4.07812774e-01, -4.10376070e-03,  2.77290400e-02,\n",
       "          -1.47293266e-02,  3.73335299e-03,  2.40480304e-02,\n",
       "          -3.57465260e-02]], dtype=float32),\n",
       "  array([[ 0.5325412 ,  0.21241009, -0.06016422, -0.37801394,  0.54218066,\n",
       "           0.21760182, -0.06218468, -0.3907996 ,  0.00880269,  0.01964793,\n",
       "          -0.05861484,  0.08772475, -0.04290228, -0.00823799,  0.07203074,\n",
       "          -0.09041088],\n",
       "         [ 0.2720737 , -0.42035487,  0.02004281,  0.19825563,  0.30410376,\n",
       "          -0.42576554,  0.02410081,  0.16816027, -0.28914487,  0.56348616,\n",
       "          -0.01411716, -0.02531511, -0.01241576, -0.01545352,  0.05033818,\n",
       "          -0.04547701],\n",
       "         [ 0.30661026,  0.10768515,  0.4498409 ,  0.327148  ,  0.2768114 ,\n",
       "           0.11057156,  0.44701636,  0.35533547,  0.07802431, -0.32745776,\n",
       "           0.04792463, -0.09775007,  0.07546034,  0.00058805, -0.14876486,\n",
       "           0.13069063],\n",
       "         [-0.19536829, -0.10958924,  0.51266605, -0.34457728, -0.17142001,\n",
       "          -0.09523936,  0.5169716 , -0.36687377, -0.24869522,  0.09392104,\n",
       "          -0.02049305,  0.2161597 ,  0.01402915, -0.02356853,  0.04264938,\n",
       "          -0.08696795]], dtype=float32),\n",
       "  array([[ 0.5274832 ,  0.22882128, -0.04791143, -0.37584716,  0.53725284,\n",
       "           0.23448108, -0.05068847, -0.38961253,  0.01335579,  0.01073311,\n",
       "          -0.07545505,  0.08181403, -0.03787371, -0.02386704,  0.06331374,\n",
       "          -0.09572463],\n",
       "         [ 0.28430155, -0.39071852,  0.0177232 ,  0.20362951,  0.3154232 ,\n",
       "          -0.39204314,  0.02043485,  0.16448663, -0.26962852,  0.59098434,\n",
       "          -0.02059036, -0.10829251,  0.02200542, -0.04374756,  0.00745093,\n",
       "          -0.0866176 ],\n",
       "         [ 0.30102324,  0.11523952,  0.42050162,  0.3409483 ,  0.2679484 ,\n",
       "           0.12061111,  0.41818574,  0.3664315 ,  0.09429146, -0.33850473,\n",
       "           0.05963048, -0.12309831,  0.09825802,  0.01526488, -0.20474105,\n",
       "           0.11640824],\n",
       "         [-0.10147574, -0.24869804,  0.40518492, -0.25751567, -0.07156608,\n",
       "          -0.21998067,  0.41579157, -0.25985977, -0.38319743, -0.19595765,\n",
       "          -0.02890871,  0.43692476,  0.02228466, -0.06988147,  0.1431412 ,\n",
       "          -0.02432804]], dtype=float32),\n",
       "  array([[ 5.35781920e-01,  2.16402084e-01, -4.20524329e-02,\n",
       "          -3.67214203e-01,  5.47542334e-01,  2.23233014e-01,\n",
       "          -4.51045074e-02, -3.85503858e-01, -2.88034425e-05,\n",
       "           3.86680476e-02, -7.65866339e-02,  6.36641905e-02,\n",
       "          -2.40951721e-02, -4.47884500e-02,  5.89582101e-02,\n",
       "          -1.08321078e-01],\n",
       "         [ 2.49433905e-01, -3.98930848e-01,  2.06834693e-02,\n",
       "           2.08549619e-01,  2.81694382e-01, -3.98198664e-01,\n",
       "           2.30032895e-02,  1.65936232e-01, -2.75386900e-01,\n",
       "           6.01441681e-01, -2.52173636e-02, -1.26922205e-01,\n",
       "           3.16560008e-02, -6.65096417e-02,  3.35284090e-03,\n",
       "          -9.47954878e-02],\n",
       "         [ 3.10253382e-01,  9.90728214e-02,  4.03494358e-01,\n",
       "           3.47393394e-01,  2.77450889e-01,  1.07052810e-01,\n",
       "           4.01583791e-01,  3.70922387e-01,  9.62550938e-02,\n",
       "          -3.36459011e-01,  8.99063423e-02, -1.29168838e-01,\n",
       "           1.19647503e-01,  3.71773280e-02, -2.17213631e-01,\n",
       "           1.14142098e-01],\n",
       "         [-1.02833018e-01, -2.31439114e-01,  4.23635066e-01,\n",
       "          -2.49337420e-01, -7.14575201e-02, -2.03561410e-01,\n",
       "           4.32738751e-01, -2.51802802e-01, -3.76556784e-01,\n",
       "          -1.89175203e-01, -3.98978107e-02,  4.25026387e-01,\n",
       "           2.70040818e-02, -1.07127964e-01,  1.56699494e-01,\n",
       "          -2.08012983e-02]], dtype=float32),\n",
       "  array([[-0.32398996, -0.02880684,  0.11146688,  0.33132708, -0.33562586,\n",
       "          -0.03393701,  0.11199886,  0.34552908,  0.06711274, -0.0394692 ,\n",
       "           0.0769811 , -0.07314874,  0.05194221,  0.0572763 , -0.03613353,\n",
       "           0.06344321, -0.32370555, -0.02877862,  0.11104165,  0.32896367,\n",
       "          -0.3342392 , -0.03372148,  0.11091713,  0.34357542,  0.06711178,\n",
       "          -0.03904266,  0.07456532, -0.07491983,  0.05092468,  0.05759374,\n",
       "          -0.03618612,  0.06195182],\n",
       "         [ 0.04853579, -0.34539306, -0.0163297 ,  0.11045479,  0.0798799 ,\n",
       "          -0.34370902, -0.01327085,  0.07628712, -0.21952601,  0.41944638,\n",
       "          -0.01972844, -0.04077138, -0.0007078 , -0.06430242,  0.02322434,\n",
       "          -0.07366876,  0.05047018, -0.3443059 , -0.01806031,  0.11237084,\n",
       "           0.08138813, -0.3429857 , -0.01285617,  0.07851675, -0.21825925,\n",
       "           0.4188103 , -0.01554084, -0.03897548,  0.00071322, -0.06108563,\n",
       "           0.02406874, -0.07305248],\n",
       "         [ 0.33861044,  0.10658929,  0.23309784,  0.2164068 ,  0.3299046 ,\n",
       "           0.10847877,  0.22801559,  0.21408786,  0.06334376,  0.02834872,\n",
       "           0.07677321, -0.13908805,  0.10388196,  0.01963201, -0.10576043,\n",
       "           0.01813173,  0.34014034,  0.10765029,  0.2346983 ,  0.21676196,\n",
       "           0.33163264,  0.10966678,  0.22808556,  0.21453616,  0.0636429 ,\n",
       "           0.02923229,  0.07839966, -0.13696802,  0.10347186,  0.02023745,\n",
       "          -0.10455395,  0.01926441],\n",
       "         [-0.04432223, -0.13085233,  0.35967627, -0.11472046, -0.02700798,\n",
       "          -0.10968836,  0.36438292, -0.11368283, -0.20384364, -0.2095443 ,\n",
       "          -0.01338436,  0.2806234 ,  0.0231243 , -0.09193712,  0.08466446,\n",
       "          -0.00150904, -0.04674023, -0.13170245,  0.35842225, -0.11464815,\n",
       "          -0.02781439, -0.11068296,  0.36451688, -0.11611435, -0.20364684,\n",
       "          -0.20840947, -0.01517319,  0.27907395,  0.02079231, -0.09349781,\n",
       "           0.08163308, -0.0010065 ]], dtype=float32),\n",
       "  array([[-0.3303433 , -0.04635602,  0.10238817,  0.32759717, -0.34124252,\n",
       "          -0.05083895,  0.10348058,  0.34178713,  0.06185611, -0.03592826,\n",
       "           0.07089983, -0.07311897,  0.05313221,  0.05810734, -0.03373924,\n",
       "           0.06287912, -0.33011737, -0.046409  ,  0.10179983,  0.3249232 ,\n",
       "          -0.33987987, -0.05096511,  0.10244689,  0.33968458,  0.06207785,\n",
       "          -0.03529029,  0.06876189, -0.07518772,  0.05215958,  0.05844155,\n",
       "          -0.03373927,  0.06132281],\n",
       "         [ 0.06752586, -0.33493456, -0.01130653,  0.10963579,  0.09880638,\n",
       "          -0.33384365, -0.00872958,  0.07475664, -0.21873732,  0.42879105,\n",
       "          -0.01671256, -0.04677568, -0.00430029, -0.06969044,  0.01945288,\n",
       "          -0.07556596,  0.06943011, -0.33375075, -0.01300078,  0.11187531,\n",
       "           0.10050838, -0.33312723, -0.00834536,  0.07743359, -0.21756944,\n",
       "           0.42792866, -0.0121223 , -0.04504959, -0.00281708, -0.06636529,\n",
       "           0.02052123, -0.07474996],\n",
       "         [ 0.3263569 ,  0.11232536,  0.23927236,  0.21913782,  0.3171426 ,\n",
       "           0.11559062,  0.23392405,  0.21784882,  0.07253218,  0.00702163,\n",
       "           0.08732394, -0.13801977,  0.11523261,  0.0239054 , -0.10719666,\n",
       "           0.02265323,  0.32804543,  0.11349814,  0.24120697,  0.21929497,\n",
       "           0.31870115,  0.11671   ,  0.23382819,  0.21816996,  0.07302283,\n",
       "           0.0080445 ,  0.08920008, -0.13592882,  0.11471744,  0.02453091,\n",
       "          -0.10611269,  0.02363638],\n",
       "         [-0.04820805, -0.13106436,  0.35726085, -0.11441504, -0.03020551,\n",
       "          -0.11059482,  0.36142474, -0.11395656, -0.2054052 , -0.20227951,\n",
       "          -0.00969236,  0.2858797 ,  0.01600092, -0.10321367,  0.08824246,\n",
       "          -0.001576  , -0.05051527, -0.13190058,  0.35624403, -0.11407712,\n",
       "          -0.03107156, -0.11160909,  0.36171153, -0.1161657 , -0.20508032,\n",
       "          -0.20117058, -0.01125887,  0.28409597,  0.01389799, -0.10457128,\n",
       "           0.08525527, -0.00065656]], dtype=float32),\n",
       "  array([[ 0.33593172,  0.06408221, -0.09265983, -0.32387853,  0.34575757,\n",
       "           0.06813995, -0.09429042, -0.33807862, -0.05613713,  0.03151138,\n",
       "          -0.06480828,  0.07135261, -0.05475865, -0.05861322,  0.02891151,\n",
       "          -0.06242735,  0.33567986,  0.06428252, -0.09182903, -0.32101318,\n",
       "           0.3443542 ,  0.06860519, -0.09330607, -0.3359316 , -0.05652963,\n",
       "           0.03073177, -0.06297475,  0.07376641, -0.05372223, -0.05895856,\n",
       "           0.02876617, -0.06085602],\n",
       "         [ 0.09111522, -0.32328826, -0.00312601,  0.11212453,  0.12213542,\n",
       "          -0.32253546, -0.00113241,  0.07638175, -0.21553124,  0.43609154,\n",
       "          -0.01152595, -0.05398597, -0.00377672, -0.070899  ,  0.01238614,\n",
       "          -0.07676231,  0.09309541, -0.32199478, -0.00490244,  0.11461316,\n",
       "           0.1238938 , -0.32177836, -0.00078252,  0.0794425 , -0.21436957,\n",
       "           0.43493044, -0.00677265, -0.05211171, -0.00236633, -0.06736857,\n",
       "           0.0136235 , -0.07573219],\n",
       "         [ 0.31305832,  0.12223344,  0.2400347 ,  0.22296333,  0.3023538 ,\n",
       "           0.12673116,  0.2345463 ,  0.22339611,  0.08699303, -0.02078537,\n",
       "           0.09231774, -0.14122707,  0.12556708,  0.03116415, -0.10897532,\n",
       "           0.02739653,  0.3148509 ,  0.12349814,  0.24234714,  0.22277382,\n",
       "           0.30364698,  0.12769687,  0.23427257,  0.2234925 ,  0.08765513,\n",
       "          -0.01954973,  0.09431361, -0.13921572,  0.12496813,  0.03164944,\n",
       "          -0.10797574,  0.02815918],\n",
       "         [-0.05069794, -0.1259089 ,  0.3617598 , -0.11500812, -0.03198495,\n",
       "          -0.10643312,  0.36523294, -0.11584832, -0.20654456, -0.18565316,\n",
       "          -0.00367955,  0.2863141 ,  0.01321252, -0.11001612,  0.08644231,\n",
       "          -0.00225008, -0.05291626, -0.12667847,  0.36100945, -0.11436459,\n",
       "          -0.03286904, -0.10756012,  0.36555392, -0.11798006, -0.20619456,\n",
       "          -0.18467838, -0.00506942,  0.28439966,  0.01135776, -0.11113901,\n",
       "           0.08350772, -0.00118626]], dtype=float32),\n",
       "  array([[ 3.40875924e-01,  7.89037943e-02, -8.32132846e-02,\n",
       "          -3.19673151e-01,  3.49658430e-01,  8.25174898e-02,\n",
       "          -8.53006542e-02, -3.34195614e-01, -5.06605543e-02,\n",
       "           2.80383918e-02, -5.75188473e-02,  7.02014193e-02,\n",
       "          -5.73480986e-02, -6.00031205e-02,  2.37359013e-02,\n",
       "          -6.13645986e-02,  3.40697974e-01,  7.91998953e-02,\n",
       "          -8.21659192e-02, -3.16543609e-01,  3.48187298e-01,\n",
       "           8.33005980e-02, -8.43403339e-02, -3.32103223e-01,\n",
       "          -5.12360223e-02,  2.71760430e-02, -5.58852777e-02,\n",
       "           7.29626194e-02, -5.62325269e-02, -6.04124554e-02,\n",
       "           2.34745555e-02, -5.97548708e-02],\n",
       "         [ 1.02552563e-01, -3.12987030e-01,  1.43415679e-03,\n",
       "           1.09445870e-01,  1.33536249e-01, -3.12866122e-01,\n",
       "           2.92088836e-03,  7.29683861e-02, -2.14454561e-01,\n",
       "           4.45347369e-01, -7.61295576e-03, -5.92588075e-02,\n",
       "          -5.70904370e-03, -7.39144087e-02,  7.83002470e-03,\n",
       "          -7.82381147e-02,  1.04521312e-01, -3.11604202e-01,\n",
       "          -2.10869184e-04,  1.12080447e-01,  1.35272533e-01,\n",
       "          -3.12060714e-01,  3.21798492e-03,  7.62616545e-02,\n",
       "          -2.13248625e-01,  4.43919420e-01, -2.43295263e-03,\n",
       "          -5.73761612e-02, -4.20630304e-03, -7.03088194e-02,\n",
       "           9.28688794e-03, -7.70923495e-02],\n",
       "         [ 3.02461028e-01,  1.22795358e-01,  2.38202512e-01,\n",
       "           2.29989052e-01,  2.91275233e-01,  1.28755599e-01,\n",
       "           2.32722282e-01,  2.31280684e-01,  9.19139907e-02,\n",
       "          -3.79752032e-02,  9.56647024e-02, -1.44038111e-01,\n",
       "           1.37036219e-01,  3.80435474e-02, -1.11054704e-01,\n",
       "           3.11602298e-02,  3.04424703e-01,  1.24131538e-01,\n",
       "           2.40785003e-01,  2.29522049e-01,  2.92393804e-01,\n",
       "           1.29549861e-01,  2.32321903e-01,  2.31263518e-01,\n",
       "           9.27910060e-02, -3.66119705e-02,  9.79265124e-02,\n",
       "          -1.42102107e-01,  1.36356816e-01,  3.84924263e-02,\n",
       "          -1.10125192e-01,  3.16883177e-02],\n",
       "         [-4.65566441e-02, -1.30210593e-01,  3.56952190e-01,\n",
       "          -1.08774506e-01, -2.76281238e-02, -1.09809004e-01,\n",
       "           3.60517979e-01, -1.09414577e-01, -2.15908691e-01,\n",
       "          -1.93315372e-01, -1.54020649e-03,  2.88662314e-01,\n",
       "           1.42621491e-02, -1.12679727e-01,  8.46878365e-02,\n",
       "           4.81526571e-04, -4.87217121e-02, -1.31033152e-01,\n",
       "           3.56442988e-01, -1.08077697e-01, -2.87451781e-02,\n",
       "          -1.11040518e-01,  3.60891432e-01, -1.11632630e-01,\n",
       "          -2.15407014e-01, -1.92234695e-01, -2.76809768e-03,\n",
       "           2.86703646e-01,  1.26168495e-02, -1.13827042e-01,\n",
       "           8.16104859e-02,  1.74471829e-03]], dtype=float32),\n",
       "  array([[ 3.45671415e-01,  8.49278346e-02, -7.56005123e-02,\n",
       "          -3.13808322e-01,  3.54553103e-01,  8.83597806e-02,\n",
       "          -7.80446306e-02, -3.29719990e-01, -5.20509221e-02,\n",
       "           3.56447436e-02, -4.98092063e-02,  6.84532076e-02,\n",
       "          -6.04530238e-02, -6.47171736e-02,  1.90994684e-02,\n",
       "          -6.14898242e-02,  3.45630109e-01,  8.53075162e-02,\n",
       "          -7.43241385e-02, -3.10381502e-01,  3.53072822e-01,\n",
       "           8.94026682e-02, -7.72249922e-02, -3.27567101e-01,\n",
       "          -5.27922362e-02,  3.46717052e-02, -4.81570102e-02,\n",
       "           7.16598034e-02, -5.92807867e-02, -6.51608035e-02,\n",
       "           1.86844859e-02, -5.98536171e-02],\n",
       "         [ 9.90681350e-02, -3.09361875e-01,  2.23851250e-03,\n",
       "           1.10994458e-01,  1.30145416e-01, -3.09449136e-01,\n",
       "           3.74045712e-03,  7.35623986e-02, -2.13368610e-01,\n",
       "           4.51574177e-01, -2.98206019e-03, -6.08567856e-02,\n",
       "          -1.12651149e-02, -7.68535659e-02,  3.80782131e-03,\n",
       "          -7.69223496e-02,  1.00991175e-01, -3.07996869e-01,\n",
       "           5.79178857e-04,  1.13847636e-01,  1.31929040e-01,\n",
       "          -3.08780551e-01,  3.90543928e-03,  7.70647377e-02,\n",
       "          -2.12239623e-01,  4.49899793e-01,  2.46585254e-03,\n",
       "          -5.89884110e-02, -9.83334240e-03, -7.32828975e-02,\n",
       "           5.24915336e-03, -7.58122653e-02],\n",
       "         [ 2.95815825e-01,  1.17409818e-01,  2.38527820e-01,\n",
       "           2.36229748e-01,  2.84865469e-01,  1.23999611e-01,\n",
       "           2.32826978e-01,  2.37980664e-01,  9.50314254e-02,\n",
       "          -4.18876112e-02,  9.34407115e-02, -1.47512689e-01,\n",
       "           1.45538241e-01,  4.25634310e-02, -1.09066725e-01,\n",
       "           3.18108611e-02,  2.97940135e-01,  1.18924849e-01,\n",
       "           2.41347209e-01,  2.35593647e-01,  2.85909921e-01,\n",
       "           1.24779016e-01,  2.32401252e-01,  2.37890914e-01,\n",
       "           9.62384641e-02, -4.04613018e-02,  9.60590169e-02,\n",
       "          -1.45556554e-01,  1.44858941e-01,  4.31490876e-02,\n",
       "          -1.08090535e-01,  3.22450511e-02],\n",
       "         [-4.33098711e-02, -1.34552240e-01,  3.52523685e-01,\n",
       "          -1.03300624e-01, -2.40754746e-02, -1.13582395e-01,\n",
       "           3.56122375e-01, -1.04054853e-01, -2.19166636e-01,\n",
       "          -1.98940426e-01,  4.87682482e-05,  2.93746233e-01,\n",
       "           1.43277990e-02, -1.14286192e-01,  8.51190686e-02,\n",
       "           1.24301680e-03, -4.55134697e-02, -1.35524675e-01,\n",
       "           3.52180004e-01, -1.02575608e-01, -2.55145989e-02,\n",
       "          -1.14909850e-01,  3.56486589e-01, -1.06396511e-01,\n",
       "          -2.18707278e-01, -1.97832331e-01, -9.83212143e-04,\n",
       "           2.91722298e-01,  1.28042372e-02, -1.15453236e-01,\n",
       "           8.19180310e-02,  2.61306437e-03]], dtype=float32)])"
      ]
     },
     "execution_count": 4,
     "metadata": {},
     "output_type": "execute_result"
    }
   ],
   "source": [
    "from solver import size_per_epoch, develope_AE, train\n",
    "\n",
    "model = Autoencoder(n_input=784, n_hidden_ls=[512, 128, 32], n_layers=3)\n",
    "optimizer = torch.optim.SGD(model.parameters(), lr=0.5, momentum=0.99)\n",
    "device = torch.device('cuda')\n",
    "\n",
    "n_epochs = 20\n",
    "n_components = 4\n",
    "d_explained_variance_ratios = []\n",
    "d_latent_matrices = []\n",
    "\n",
    "size_ls = [4,10,16,32]\n",
    "manner = 'cell_division'\n",
    "\n",
    "def dev_train_vali_all_epochs(model,size_ls,manner,train_loader,vali_loader,optimizer,n_epochs,device,save_path=None):\n",
    "\tif save_path is None:\n",
    "\t\tsave_path = './'\n",
    "\telse:\n",
    "\t\tif not os.path.exists(save_path):\n",
    "\t\t\tos.makedirs(save_path)\n",
    "\t\t\tprint('Directory created:', save_path)\n",
    "\ttrain_losses = []\n",
    "\tall_train_losses = []\n",
    "\tvali_losses = []\n",
    "\tsize_each_epoch = size_per_epoch(size_ls,n_epochs,type='step')\n",
    "\tnp.save(save_path + 'size_each_epoch.npy',size_each_epoch)\n",
    "\thyperparam = model.get_hyperparams()\n",
    "\n",
    "\tfor epoch in range(n_epochs):\n",
    "\t\tmodel.train()\n",
    "\t\t# Create new autoencoder with corresponding bottleneck size.\n",
    "\t\tnew_n_hidden_ls = np.append(hyperparam['n_hidden_ls'][:-1] , size_each_epoch[epoch])\n",
    "\t\tif epoch == 0:\n",
    "\t\t\tmodel =Autoencoder(hyperparam['n_input'],new_n_hidden_ls,hyperparam['n_layers'])\n",
    "\n",
    "\t\telse:\n",
    "\t\t\tmodel = develope_AE(new_n_hidden_ls,hyperparam,save_path=save_path,epoch=epoch,manner=manner)\n",
    "\t\t\toptimizer = torch.optim.SGD(model.parameters(),lr=1e-1,momentum=0.9)\n",
    "\t\t\t\n",
    "\t\ttrain_loss,train_loss_per_batch = train(model,train_loader,optimizer,epoch,device)\n",
    "\t\tvali_loss,_,_ = test(model,vali_loader,device)\n",
    "\t\ttrain_losses.append(train_loss)\n",
    "\t\tall_train_losses.append(train_loss_per_batch)\n",
    "\t\tvali_losses.append(vali_loss)\n",
    "\n",
    "\t\t# Save the weights of the last epoch.\n",
    "\t\ttorch.save(model.state_dict(), save_path + 'model_weights_epoch{}.pth'.format(epoch))\n",
    "\t\tprint('Weights saved.')\n",
    "\n",
    "\t\tmodel.eval()\n",
    "\t\tlatent_list = []\n",
    "\n",
    "\t\t# Loop through validation data\n",
    "\t\twith torch.no_grad():  # Gradients not calculated\n",
    "\t\t\tfor batch_idx, (data, target) in enumerate(test_loader):\n",
    "\t\t\t\t# Convert to a PyTorch variable\n",
    "\t\t\t\tdata = Variable(data).to('cpu')\n",
    "\n",
    "\t\t\t\t# Flatten the input data into a 2D tensor [batch_size, num_features]\n",
    "\t\t\t\tbatch_size = data.size(0)\n",
    "\t\t\t\tinput = data.view(batch_size, -1).to('cpu')\n",
    "\n",
    "\t\t\t\tencoded = model(input)[0]\n",
    "\n",
    "\t\t\t\tlatent_list.append(encoded.cpu().numpy())\n",
    "\n",
    "\t\tlatent_matrix = np.concatenate(latent_list)\n",
    "\t\tprint(latent_matrix.shape)\n",
    "\t\tprint(latent_matrix)\n",
    "\n",
    "\t\tpca = PCA(n_components=n_components)\n",
    "\t\tpca.fit(latent_matrix)\n",
    "\n",
    "\t\td_explained_variance_ratios.append(pca.explained_variance_ratio_)\n",
    "\t\td_latent_matrices.append(pca.components_)\n",
    "\n",
    "\tnp.save(save_path + 'all_train_losses.npy',all_train_losses)\n",
    "\tprint('All train losses saved.')\n",
    "\treturn d_explained_variance_ratios, d_latent_matrices\n",
    "\n",
    "dev_train_vali_all_epochs(\n",
    "\tmodel,\n",
    "\tsize_ls,\n",
    "\tmanner,\n",
    "\ttrain_loader,\n",
    "\ttest_loader,\n",
    "\toptimizer,\n",
    "\tn_epochs,\n",
    "\tdevice='cpu',\n",
    "\tsave_path=save_path+'Dev/{}/'.format(manner)\n",
    "\t)"
   ]
  },
  {
   "cell_type": "code",
   "execution_count": 5,
   "metadata": {},
   "outputs": [],
   "source": [
    "# cos(theta) = (pc1_epoch1 · pc1_epoch2) / (||pc1_epoch1|| * ||pc1_epoch2||)\n",
    "def cosine_angle_between_pcs(pc_a, pc_b):\n",
    "    numerator = np.dot(pc_a, pc_b)\n",
    "    denominator = np.linalg.norm(pc_a) * np.linalg.norm(pc_b)\n",
    "\n",
    "    cos_value = numerator / denominator\n",
    "\n",
    "    angle = np.arccos(cos_value) * 180 / np.pi\n",
    "    \n",
    "    return angle\n",
    "\n",
    "# Epoch pairs: [(0, 1), (1, 2), ..., (epochs - 1, epochs)]\n",
    "all_epoch_pairs = [(i, i + 1) for i in range(n_epochs - 1)]\n"
   ]
  },
  {
   "cell_type": "code",
   "execution_count": 6,
   "metadata": {},
   "outputs": [],
   "source": [
    "# The bottleneck develops so the PC vectors differing dimension numbers\n",
    "# Methods to achieve the same dimensionality:\n",
    "\n",
    "# 1. Pad the smaller vector with zeros to match the larger vector\n",
    "\n",
    "target_dim = 32\n",
    "\n",
    "padded_data = []\n",
    "for matrices in d_latent_matrices:\n",
    "    padded_matrices = []\n",
    "    for matrix in matrices:\n",
    "        if matrix.ndim == 1:  # 1D vector\n",
    "            padded_matrix = np.pad(matrix, (0, target_dim - matrix.shape[0]), mode='constant')\n",
    "        elif matrix.ndim == 2:  # 2D matrix\n",
    "            padded_matrix = np.pad(matrix, ((0, 0), (0, target_dim - matrix.shape[1])), mode='constant')\n",
    "        padded_matrices.append(padded_matrix)\n",
    "    padded_data.append(padded_matrices)\n",
    "\n",
    "# 2. Truncate the larger vector to match the smaller vector\n",
    "\n",
    "target_dim = 4\n",
    "\n",
    "truncated_data = []\n",
    "for matrices in d_latent_matrices:\n",
    "    truncated_matrices = []\n",
    "    for matrix in matrices:\n",
    "        if matrix.ndim == 1:  # 1D vector\n",
    "            truncated_matrix = matrix[:target_dim]\n",
    "        elif matrix.ndim == 2:  # 2D matrix\n",
    "            truncated_matrix = matrix[:, :target_dim]\n",
    "        truncated_matrices.append(truncated_matrix)\n",
    "    truncated_data.append(truncated_matrices)"
   ]
  },
  {
   "cell_type": "code",
   "execution_count": 7,
   "metadata": {},
   "outputs": [],
   "source": [
    "# Dictionary to store the angle for each PC for each epoch pair\n",
    "padded_angle_dict = {}\n",
    "for pc in range(n_components):\n",
    "   if pc not in padded_angle_dict:\n",
    "       padded_angle_dict[pc] = {}\n",
    "   for epoch_pair in all_epoch_pairs:\n",
    "       angle = cosine_angle_between_pcs(padded_data[epoch_pair[0]][pc], padded_data[epoch_pair[1]][pc])\n",
    "       padded_angle_dict[pc][epoch_pair] = angle"
   ]
  },
  {
   "cell_type": "code",
   "execution_count": 8,
   "metadata": {},
   "outputs": [],
   "source": [
    "# Dictionary to store the angle for each PC for each epoch pair\n",
    "truncated_angle_dict = {}\n",
    "for pc in range(n_components):\n",
    "   if pc not in truncated_angle_dict:\n",
    "       truncated_angle_dict[pc] = {}\n",
    "   for epoch_pair in all_epoch_pairs:\n",
    "       angle = cosine_angle_between_pcs(truncated_data[epoch_pair[0]][pc], truncated_data[epoch_pair[1]][pc])\n",
    "       truncated_angle_dict[pc][epoch_pair] = angle"
   ]
  },
  {
   "cell_type": "code",
   "execution_count": 10,
   "metadata": {},
   "outputs": [
    {
     "name": "stdout",
     "output_type": "stream",
     "text": [
      "PC0 \t Longest streak: 5 \t Stable at last training epoch: True\n",
      "PC1 \t Longest streak: 4 \t Stable at last training epoch: True\n",
      "PC2 \t Longest streak: 4 \t Stable at last training epoch: True\n",
      "PC3 \t Longest streak: 4 \t Stable at last training epoch: True\n"
     ]
    }
   ],
   "source": [
    "# Dictionary to store the streak of epochs where the angle is less than 5 degrees\n",
    "pc_stability = {}\n",
    "for pc, epoch_data in padded_angle_dict.items():\n",
    "    pc_stability[pc] = {'streak': 0, 'longest_streak': 0, 'stable_epochs': []}\n",
    "\n",
    "    for epoch in all_epoch_pairs:\n",
    "        if epoch_data[epoch] < 5:\n",
    "            pc_stability[pc]['streak'] += 1\n",
    "\n",
    "            if pc_stability[pc]['streak'] > pc_stability[pc]['longest_streak']:\n",
    "                pc_stability[pc]['longest_streak'] = pc_stability[pc]['streak']\n",
    "\n",
    "            pc_stability[pc]['stable_epochs'].append(epoch)\n",
    "\n",
    "        else:\n",
    "            pc_stability[pc]['streak'] = 0\n",
    "\n",
    "for pc, stability_info in pc_stability.items():\n",
    "    streak_length = stability_info['streak']\n",
    "    longest_streak = stability_info['longest_streak']\n",
    "    stable_epochs = stability_info['stable_epochs']\n",
    "\n",
    "    stable_at_last_epoch = stable_epochs[-1] == all_epoch_pairs[-1] if stable_epochs else False\n",
    "    print(f'PC{pc} \\t Longest streak: {longest_streak} \\t Stable at last training epoch: {stable_at_last_epoch}')\n"
   ]
  },
  {
   "cell_type": "code",
   "execution_count": 12,
   "metadata": {},
   "outputs": [
    {
     "data": {
      "image/png": "[encoded data removed]",
      "text/plain": [
       "<Figure size 1200x800 with 2 Axes>"
      ]
     },
     "metadata": {},
     "output_type": "display_data"
    }
   ],
   "source": [
    "angle_matrix = np.zeros((len(padded_angle_dict), len(all_epoch_pairs)))\n",
    "\n",
    "# Fill matrix with angle data\n",
    "for pc, epoch_data in padded_angle_dict.items():\n",
    "    i = 0\n",
    "    for epoch_pair in all_epoch_pairs:\n",
    "        angle_matrix[pc, i] = epoch_data[epoch_pair]\n",
    "        i += 1\n",
    "\n",
    "# Plot heatmap\n",
    "fig, ax = plt.subplots(figsize=(12, 8))\n",
    "sns.heatmap(\n",
    "    angle_matrix, \n",
    "    annot=True, \n",
    "    fmt=\".0f\",\n",
    "    norm=LogNorm(), \n",
    "    xticklabels=[f\"{e1}-{e2}\" for e1, e2 in all_epoch_pairs], \n",
    "    yticklabels=[f\"PC{pc}\" for pc in padded_angle_dict.keys()],\n",
    "    cbar_kws={\"label\": \"Angle between PCs\"})\n",
    "ax.set_title(\"Stability of PCs over training epochs (padded)\")\n",
    "plt.show()"
   ]
  },
  {
   "cell_type": "code",
   "execution_count": 14,
   "metadata": {},
   "outputs": [
    {
     "data": {
      "image/png": "[encoded data removed]",
      "text/plain": [
       "<Figure size 1200x800 with 2 Axes>"
      ]
     },
     "metadata": {},
     "output_type": "display_data"
    }
   ],
   "source": [
    "\n",
    "angle_matrix = np.zeros((len(truncated_angle_dict), len(all_epoch_pairs)))\n",
    "\n",
    "# Fill matrix with angle data\n",
    "for pc, epoch_data in truncated_angle_dict.items():\n",
    "    i = 0\n",
    "    for epoch_pair in all_epoch_pairs:\n",
    "        angle_matrix[pc, i] = epoch_data[epoch_pair]\n",
    "        i += 1\n",
    "\n",
    "# Plot heatmap\n",
    "fig, ax = plt.subplots(figsize=(12, 8))\n",
    "sns.heatmap(\n",
    "    angle_matrix, \n",
    "    annot=True, \n",
    "    fmt=\".0f\",\n",
    "    norm=LogNorm(), \n",
    "    xticklabels=[f\"{e1}-{e2}\" for e1, e2 in all_epoch_pairs], \n",
    "    yticklabels=[f\"PC{pc}\" for pc in truncated_angle_dict.keys()],\n",
    "    cbar_kws={\"label\": \"Angle between PCs\"})\n",
    "ax.set_title(\"Stability of PCs over training epochs (truncated)\")\n",
    "plt.show()"
   ]
  }
 ],
 "metadata": {
  "kernelspec": {
   "display_name": "Python 3",
   "language": "python",
   "name": "python3"
  },
  "language_info": {
   "codemirror_mode": {
    "name": "ipython",
    "version": 3
   },
   "file_extension": ".py",
   "mimetype": "text/x-python",
   "name": "python",
   "nbconvert_exporter": "python",
   "pygments_lexer": "ipython3",
   "version": "3.10.12"
  }
 },
 "nbformat": 4,
 "nbformat_minor": 2
}
