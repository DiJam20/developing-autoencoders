{
 "cells": [
  {
   "cell_type": "code",
   "execution_count": 5,
   "metadata": {},
   "outputs": [],
   "source": [
    "import numpy as np\n",
    "import matplotlib.pyplot as plt\n",
    "import pandas as pd\n",
    "import seaborn as sns\n",
    "import os, sys\n",
    "from tqdm import tqdm\n",
    "from datetime import datetime\n",
    "\n",
    "import torch\n",
    "from torchvision import datasets, transforms\n",
    "from torch.utils.data import DataLoader\n",
    "from torch.autograd import Variable\n",
    "\n",
    "from sklearn.decomposition import PCA\n",
    "\n",
    "from autoencoder import Autoencoder\n",
    "from solver import train_vali_all_epochs, dev_train_vali_all_epochs, test, dev_train_vali_converge"
   ]
  },
  {
   "cell_type": "code",
   "execution_count": 6,
   "metadata": {},
   "outputs": [],
   "source": [
    "mnist_train = datasets.MNIST(root='./data', train=True, download=True, transform=transforms.ToTensor())\n",
    "mnist_test = datasets.MNIST(root='./data', train=False, download=True, transform=transforms.ToTensor())\n",
    "\n",
    "batch_size = 128\n",
    "train_loader = DataLoader(mnist_train, batch_size=batch_size, shuffle=True, num_workers=6)\n",
    "test_loader = DataLoader(mnist_test, batch_size=batch_size, shuffle=False, num_workers=6)"
   ]
  },
  {
   "cell_type": "code",
   "execution_count": 7,
   "metadata": {},
   "outputs": [
    {
     "name": "stdout",
     "output_type": "stream",
     "text": [
      "/home/david/sparsify_models/AE/MNIST/2024-10-10_17-20-51/\n"
     ]
    }
   ],
   "source": [
    "run_id = datetime.today().strftime(\"%Y-%m-%d_%H-%M-%S\")\n",
    "save_path = os.getenv(\"HOME\") + '/sparsify_models/AE/MNIST/' +run_id +'/'\n",
    "print(save_path)"
   ]
  },
  {
   "cell_type": "code",
   "execution_count": 8,
   "metadata": {},
   "outputs": [
    {
     "name": "stderr",
     "output_type": "stream",
     "text": [
      "Train Epoch: 0 [44928/60000 (100%)]\tLoss: 0.000208: 100%|██████████| 469/469 [00:02<00:00, 186.96it/s]\n"
     ]
    },
    {
     "name": "stdout",
     "output_type": "stream",
     "text": [
      "====> Epoch: 0 Average loss: 0.0353\n"
     ]
    },
    {
     "name": "stderr",
     "output_type": "stream",
     "text": [
      "/home/david/Documents/UNI_LOCAL/PyTorch/MarkosCode/solver.py:308: UserWarning: volatile was removed and now has no effect. Use `with torch.no_grad():` instead.\n",
      "  data = Variable(data, volatile=True).to(device)\n"
     ]
    },
    {
     "name": "stdout",
     "output_type": "stream",
     "text": [
      "====> Test set loss: 0.0197\n",
      "Directory created: /home/david/sparsify_models/AE/MNIST/2024-10-10_17-20-51/Static/\n",
      "Weights saved.\n"
     ]
    },
    {
     "name": "stderr",
     "output_type": "stream",
     "text": [
      "Train Epoch: 1 [44928/60000 (100%)]\tLoss: 0.000180: 100%|██████████| 469/469 [00:02<00:00, 195.84it/s]\n"
     ]
    },
    {
     "name": "stdout",
     "output_type": "stream",
     "text": [
      "====> Epoch: 1 Average loss: 0.0184\n",
      "====> Test set loss: 0.0170\n",
      "Weights saved.\n"
     ]
    },
    {
     "name": "stderr",
     "output_type": "stream",
     "text": [
      "Train Epoch: 2 [44928/60000 (100%)]\tLoss: 0.000189: 100%|██████████| 469/469 [00:02<00:00, 184.48it/s]\n"
     ]
    },
    {
     "name": "stdout",
     "output_type": "stream",
     "text": [
      "====> Epoch: 2 Average loss: 0.0174\n",
      "====> Test set loss: 0.0169\n",
      "Weights saved.\n",
      "All train losses saved.\n"
     ]
    }
   ],
   "source": [
    "model = Autoencoder(n_input=784, n_hidden_ls=[512, 128, 32], n_layers=3)\n",
    "optimizer = torch.optim.SGD(model.parameters(), lr=0.5, momentum=0.99)\n",
    "train_losses, vali_losses = train_vali_all_epochs(model, train_loader, test_loader, optimizer, n_epochs=3, device=torch.device('cuda'), save_path=save_path+'Static/')"
   ]
  },
  {
   "cell_type": "code",
   "execution_count": 9,
   "metadata": {},
   "outputs": [
    {
     "name": "stdout",
     "output_type": "stream",
     "text": [
      "Directory created: /home/david/sparsify_models/AE/MNIST/2024-10-10_17-20-51/Dev/cell_division/\n"
     ]
    },
    {
     "name": "stderr",
     "output_type": "stream",
     "text": [
      "Train Epoch: 0 [44928/60000 (100%)]\tLoss: 0.001296: 100%|██████████| 469/469 [00:05<00:00, 86.61it/s]"
     ]
    },
    {
     "name": "stdout",
     "output_type": "stream",
     "text": [
      "====> Epoch: 0 Average loss: 0.1230\n"
     ]
    },
    {
     "name": "stderr",
     "output_type": "stream",
     "text": [
      "\n"
     ]
    },
    {
     "name": "stdout",
     "output_type": "stream",
     "text": [
      "====> Test set loss: 0.1252\n",
      "Weights saved.\n",
      "debug var_dim -1\n",
      "debug var_dim -1\n",
      "debug var_dim -1\n",
      "debug nan in encoder weights tensor(0)\n",
      "debug nan in encoder bias tensor(0)\n",
      "debug nan in decoder weights tensor(0)\n"
     ]
    },
    {
     "name": "stderr",
     "output_type": "stream",
     "text": [
      "/home/david/Documents/UNI_LOCAL/PyTorch/MarkosCode/solver.py:184: FutureWarning: You are using `torch.load` with `weights_only=False` (the current default value), which uses the default pickle module implicitly. It is possible to construct malicious pickle data which will execute arbitrary code during unpickling (See https://github.com/pytorch/pytorch/blob/main/SECURITY.md#untrusted-models for more details). In a future release, the default value for `weights_only` will be flipped to `True`. This limits the functions that could be executed during unpickling. Arbitrary objects will no longer be allowed to be loaded via this mode unless they are explicitly allowlisted by the user via `torch.serialization.add_safe_globals`. We recommend you start setting `weights_only=True` for any use case where you don't have full control of the loaded file. Please open an issue on GitHub for any issues related to this experimental feature.\n",
      "  state_dict = torch.load(save_path + 'model_weights_epoch{}.pth'.format(epoch-1))\n",
      "Train Epoch: 1 [44928/60000 (100%)]\tLoss: 0.000539: 100%|██████████| 469/469 [00:05<00:00, 81.70it/s]"
     ]
    },
    {
     "name": "stdout",
     "output_type": "stream",
     "text": [
      "====> Epoch: 1 Average loss: 0.0628\n"
     ]
    },
    {
     "name": "stderr",
     "output_type": "stream",
     "text": [
      "\n"
     ]
    },
    {
     "name": "stdout",
     "output_type": "stream",
     "text": [
      "====> Test set loss: 0.0543\n",
      "Weights saved.\n",
      "debug var_dim -1\n",
      "debug var_dim -1\n",
      "debug var_dim -1\n",
      "debug nan in encoder weights tensor(0)\n",
      "debug nan in encoder bias tensor(0)\n",
      "debug nan in decoder weights tensor(0)\n"
     ]
    },
    {
     "name": "stderr",
     "output_type": "stream",
     "text": [
      "Train Epoch: 2 [44928/60000 (100%)]\tLoss: 0.000465: 100%|██████████| 469/469 [00:05<00:00, 85.90it/s]"
     ]
    },
    {
     "name": "stdout",
     "output_type": "stream",
     "text": [
      "====> Epoch: 2 Average loss: 0.0503\n"
     ]
    },
    {
     "name": "stderr",
     "output_type": "stream",
     "text": [
      "\n"
     ]
    },
    {
     "name": "stdout",
     "output_type": "stream",
     "text": [
      "====> Test set loss: 0.0488\n",
      "Weights saved.\n",
      "debug var_dim -1\n",
      "debug var_dim -1\n",
      "debug var_dim -1\n",
      "debug nan in encoder weights tensor(0)\n",
      "debug nan in encoder bias tensor(0)\n",
      "debug nan in decoder weights tensor(0)\n"
     ]
    },
    {
     "name": "stderr",
     "output_type": "stream",
     "text": [
      "Train Epoch: 3 [44928/60000 (100%)]\tLoss: 0.000495: 100%|██████████| 469/469 [00:05<00:00, 80.83it/s]"
     ]
    },
    {
     "name": "stdout",
     "output_type": "stream",
     "text": [
      "====> Epoch: 3 Average loss: 0.0487\n"
     ]
    },
    {
     "name": "stderr",
     "output_type": "stream",
     "text": [
      "\n"
     ]
    },
    {
     "name": "stdout",
     "output_type": "stream",
     "text": [
      "====> Test set loss: 0.0484\n",
      "Weights saved.\n",
      "debug var_dim 0\n",
      "debug var_dim 0\n",
      "debug var_dim 1\n",
      "debug nan in encoder weights tensor(0)\n",
      "debug nan in encoder bias tensor(0)\n",
      "debug nan in decoder weights tensor(0)\n"
     ]
    },
    {
     "name": "stderr",
     "output_type": "stream",
     "text": [
      "Train Epoch: 4 [44928/60000 (100%)]\tLoss: 0.000520: 100%|██████████| 469/469 [00:05<00:00, 86.11it/s]"
     ]
    },
    {
     "name": "stdout",
     "output_type": "stream",
     "text": [
      "====> Epoch: 4 Average loss: 0.0487\n"
     ]
    },
    {
     "name": "stderr",
     "output_type": "stream",
     "text": [
      "\n"
     ]
    },
    {
     "name": "stdout",
     "output_type": "stream",
     "text": [
      "====> Test set loss: 0.0478\n",
      "Weights saved.\n",
      "debug var_dim -1\n",
      "debug var_dim -1\n",
      "debug var_dim -1\n",
      "debug nan in encoder weights tensor(0)\n",
      "debug nan in encoder bias tensor(0)\n",
      "debug nan in decoder weights tensor(0)\n"
     ]
    },
    {
     "name": "stderr",
     "output_type": "stream",
     "text": [
      "Train Epoch: 5 [44928/60000 (100%)]\tLoss: 0.000442: 100%|██████████| 469/469 [00:05<00:00, 88.80it/s]\n"
     ]
    },
    {
     "name": "stdout",
     "output_type": "stream",
     "text": [
      "====> Epoch: 5 Average loss: 0.0460\n",
      "====> Test set loss: 0.0430\n",
      "Weights saved.\n",
      "debug var_dim -1\n",
      "debug var_dim -1\n",
      "debug var_dim -1\n",
      "debug nan in encoder weights tensor(0)\n",
      "debug nan in encoder bias tensor(0)\n",
      "debug nan in decoder weights tensor(0)\n"
     ]
    },
    {
     "name": "stderr",
     "output_type": "stream",
     "text": [
      "Train Epoch: 6 [44928/60000 (100%)]\tLoss: 0.000432: 100%|██████████| 469/469 [00:05<00:00, 85.77it/s]"
     ]
    },
    {
     "name": "stdout",
     "output_type": "stream",
     "text": [
      "====> Epoch: 6 Average loss: 0.0424\n"
     ]
    },
    {
     "name": "stderr",
     "output_type": "stream",
     "text": [
      "\n"
     ]
    },
    {
     "name": "stdout",
     "output_type": "stream",
     "text": [
      "====> Test set loss: 0.0417\n",
      "Weights saved.\n",
      "debug var_dim -1\n",
      "debug var_dim -1\n",
      "debug var_dim -1\n",
      "debug nan in encoder weights tensor(0)\n",
      "debug nan in encoder bias tensor(0)\n",
      "debug nan in decoder weights tensor(0)\n"
     ]
    },
    {
     "name": "stderr",
     "output_type": "stream",
     "text": [
      "Train Epoch: 7 [44928/60000 (100%)]\tLoss: 0.000435: 100%|██████████| 469/469 [00:05<00:00, 85.91it/s]\n"
     ]
    },
    {
     "name": "stdout",
     "output_type": "stream",
     "text": [
      "====> Epoch: 7 Average loss: 0.0421\n",
      "====> Test set loss: 0.0417\n",
      "Weights saved.\n",
      "debug var_dim 0\n",
      "debug var_dim 0\n",
      "debug var_dim 1\n",
      "debug nan in encoder weights tensor(0)\n",
      "debug nan in encoder bias tensor(0)\n",
      "debug nan in decoder weights tensor(0)\n"
     ]
    },
    {
     "name": "stderr",
     "output_type": "stream",
     "text": [
      "Train Epoch: 8 [44928/60000 (100%)]\tLoss: 0.000443: 100%|██████████| 469/469 [00:05<00:00, 83.95it/s]"
     ]
    },
    {
     "name": "stdout",
     "output_type": "stream",
     "text": [
      "====> Epoch: 8 Average loss: 0.0420\n"
     ]
    },
    {
     "name": "stderr",
     "output_type": "stream",
     "text": [
      "\n"
     ]
    },
    {
     "name": "stdout",
     "output_type": "stream",
     "text": [
      "====> Test set loss: 0.0415\n",
      "Weights saved.\n",
      "debug var_dim -1\n",
      "debug var_dim -1\n",
      "debug var_dim -1\n",
      "debug nan in encoder weights tensor(0)\n",
      "debug nan in encoder bias tensor(0)\n",
      "debug nan in decoder weights tensor(0)\n"
     ]
    },
    {
     "name": "stderr",
     "output_type": "stream",
     "text": [
      "Train Epoch: 9 [44928/60000 (100%)]\tLoss: 0.000423: 100%|██████████| 469/469 [00:06<00:00, 68.71it/s]"
     ]
    },
    {
     "name": "stdout",
     "output_type": "stream",
     "text": [
      "====> Epoch: 9 Average loss: 0.0414\n"
     ]
    },
    {
     "name": "stderr",
     "output_type": "stream",
     "text": [
      "\n"
     ]
    },
    {
     "name": "stdout",
     "output_type": "stream",
     "text": [
      "====> Test set loss: 0.0400\n",
      "Weights saved.\n",
      "debug var_dim -1\n",
      "debug var_dim -1\n",
      "debug var_dim -1\n",
      "debug nan in encoder weights tensor(0)\n",
      "debug nan in encoder bias tensor(0)\n",
      "debug nan in decoder weights tensor(0)\n"
     ]
    },
    {
     "name": "stderr",
     "output_type": "stream",
     "text": [
      "Train Epoch: 10 [44928/60000 (100%)]\tLoss: 0.000370: 100%|██████████| 469/469 [00:05<00:00, 89.28it/s] "
     ]
    },
    {
     "name": "stdout",
     "output_type": "stream",
     "text": [
      "====> Epoch: 10 Average loss: 0.0390\n"
     ]
    },
    {
     "name": "stderr",
     "output_type": "stream",
     "text": [
      "\n"
     ]
    },
    {
     "name": "stdout",
     "output_type": "stream",
     "text": [
      "====> Test set loss: 0.0366\n",
      "Weights saved.\n",
      "debug var_dim -1\n",
      "debug var_dim -1\n",
      "debug var_dim -1\n",
      "debug nan in encoder weights tensor(0)\n",
      "debug nan in encoder bias tensor(0)\n",
      "debug nan in decoder weights tensor(0)\n"
     ]
    },
    {
     "name": "stderr",
     "output_type": "stream",
     "text": [
      "Train Epoch: 11 [44928/60000 (100%)]\tLoss: 0.000376: 100%|██████████| 469/469 [00:05<00:00, 92.33it/s] "
     ]
    },
    {
     "name": "stdout",
     "output_type": "stream",
     "text": [
      "====> Epoch: 11 Average loss: 0.0359\n"
     ]
    },
    {
     "name": "stderr",
     "output_type": "stream",
     "text": [
      "\n"
     ]
    },
    {
     "name": "stdout",
     "output_type": "stream",
     "text": [
      "====> Test set loss: 0.0345\n",
      "Weights saved.\n",
      "debug var_dim 0\n",
      "debug var_dim 0\n",
      "debug var_dim 1\n",
      "debug nan in encoder weights tensor(0)\n",
      "debug nan in encoder bias tensor(0)\n",
      "debug nan in decoder weights tensor(0)\n"
     ]
    },
    {
     "name": "stderr",
     "output_type": "stream",
     "text": [
      "Train Epoch: 12 [44928/60000 (100%)]\tLoss: 0.000349: 100%|██████████| 469/469 [00:04<00:00, 109.86it/s]"
     ]
    },
    {
     "name": "stdout",
     "output_type": "stream",
     "text": [
      "====> Epoch: 12 Average loss: 0.0342\n"
     ]
    },
    {
     "name": "stderr",
     "output_type": "stream",
     "text": [
      "\n"
     ]
    },
    {
     "name": "stdout",
     "output_type": "stream",
     "text": [
      "====> Test set loss: 0.0322\n",
      "Weights saved.\n",
      "debug var_dim -1\n",
      "debug var_dim -1\n",
      "debug var_dim -1\n",
      "debug nan in encoder weights tensor(0)\n",
      "debug nan in encoder bias tensor(0)\n",
      "debug nan in decoder weights tensor(0)\n"
     ]
    },
    {
     "name": "stderr",
     "output_type": "stream",
     "text": [
      "Train Epoch: 13 [44928/60000 (100%)]\tLoss: 0.000327: 100%|██████████| 469/469 [00:04<00:00, 106.06it/s]"
     ]
    },
    {
     "name": "stdout",
     "output_type": "stream",
     "text": [
      "====> Epoch: 13 Average loss: 0.0324\n"
     ]
    },
    {
     "name": "stderr",
     "output_type": "stream",
     "text": [
      "\n"
     ]
    },
    {
     "name": "stdout",
     "output_type": "stream",
     "text": [
      "====> Test set loss: 0.0318\n",
      "Weights saved.\n",
      "debug var_dim -1\n",
      "debug var_dim -1\n",
      "debug var_dim -1\n",
      "debug nan in encoder weights tensor(0)\n",
      "debug nan in encoder bias tensor(0)\n",
      "debug nan in decoder weights tensor(0)\n"
     ]
    },
    {
     "name": "stderr",
     "output_type": "stream",
     "text": [
      "Train Epoch: 14 [44928/60000 (100%)]\tLoss: 0.000308: 100%|██████████| 469/469 [00:04<00:00, 99.70it/s] "
     ]
    },
    {
     "name": "stdout",
     "output_type": "stream",
     "text": [
      "====> Epoch: 14 Average loss: 0.0322\n"
     ]
    },
    {
     "name": "stderr",
     "output_type": "stream",
     "text": [
      "\n"
     ]
    },
    {
     "name": "stdout",
     "output_type": "stream",
     "text": [
      "====> Test set loss: 0.0316\n",
      "Weights saved.\n",
      "debug var_dim -1\n",
      "debug var_dim -1\n",
      "debug var_dim -1\n",
      "debug nan in encoder weights tensor(0)\n",
      "debug nan in encoder bias tensor(0)\n",
      "debug nan in decoder weights tensor(0)\n"
     ]
    },
    {
     "name": "stderr",
     "output_type": "stream",
     "text": [
      "Train Epoch: 15 [44928/60000 (100%)]\tLoss: 0.000331: 100%|██████████| 469/469 [00:04<00:00, 114.87it/s]"
     ]
    },
    {
     "name": "stdout",
     "output_type": "stream",
     "text": [
      "====> Epoch: 15 Average loss: 0.0321\n"
     ]
    },
    {
     "name": "stderr",
     "output_type": "stream",
     "text": [
      "\n"
     ]
    },
    {
     "name": "stdout",
     "output_type": "stream",
     "text": [
      "====> Test set loss: 0.0315\n",
      "Weights saved.\n",
      "All train losses saved.\n"
     ]
    }
   ],
   "source": [
    "n_epochs = 16\n",
    "\n",
    "size_ls = [4,10,16,32]\n",
    "manner = 'cell_division'\n",
    "\n",
    "train_loss, test_loss = dev_train_vali_all_epochs(model,size_ls,manner,train_loader,test_loader,optimizer,n_epochs,device='cpu',save_path=save_path+'Dev/{}/'.format(manner))"
   ]
  },
  {
   "cell_type": "code",
   "execution_count": 10,
   "metadata": {},
   "outputs": [
    {
     "data": {
      "image/png": "[encoded data removed]",
      "text/plain": [
       "<Figure size 640x480 with 1 Axes>"
      ]
     },
     "metadata": {},
     "output_type": "display_data"
    }
   ],
   "source": [
    "segment_size = n_epochs // len(size_ls)\n",
    "colors = ['r', 'm', 'b', 'c', 'g', 'y', 'k']\n",
    "\n",
    "plt.figure()\n",
    "\n",
    "# Plot each segment with a different color\n",
    "for i in range(0, len(test_loss), segment_size):\n",
    "    if i == 0:\n",
    "        plt.plot(\n",
    "            range(i, min(i + segment_size, len(test_loss))),\n",
    "            test_loss[i:i + segment_size],\n",
    "            color=colors[(i // segment_size) % len(colors)]\n",
    "        )\n",
    "    else:\n",
    "        plt.plot(\n",
    "            range(i - 1, min(i + segment_size, len(test_loss))),\n",
    "            test_loss[i -1:i + segment_size],\n",
    "            color=colors[(i // segment_size) % len(colors)],\n",
    "        )\n",
    "\n",
    "plt.legend(['Test'])\n",
    "plt.xlabel('Epoch')\n",
    "plt.ylabel('MSE Loss')\n",
    "plt.title('Loss DAE')\n",
    "plt.show()"
   ]
  },
  {
   "cell_type": "code",
   "execution_count": 11,
   "metadata": {},
   "outputs": [
    {
     "name": "stderr",
     "output_type": "stream",
     "text": [
      "Train Epoch: 0 [44928/60000 (100%)]\tLoss: 0.001175: 100%|██████████| 469/469 [00:03<00:00, 125.79it/s]\n"
     ]
    },
    {
     "name": "stdout",
     "output_type": "stream",
     "text": [
      "====> Epoch: 0 Average loss: 0.1183\n",
      "====> Test set loss: 0.1205\n",
      "debug var_dim -1\n",
      "debug var_dim -1\n",
      "debug var_dim -1\n",
      "debug nan in encoder weights tensor(0)\n",
      "debug nan in encoder bias tensor(0)\n",
      "debug nan in decoder weights tensor(0)\n"
     ]
    },
    {
     "name": "stderr",
     "output_type": "stream",
     "text": [
      "Train Epoch: 1 [44928/60000 (100%)]\tLoss: 0.000522: 100%|██████████| 469/469 [00:04<00:00, 115.43it/s]\n"
     ]
    },
    {
     "name": "stdout",
     "output_type": "stream",
     "text": [
      "====> Epoch: 1 Average loss: 0.0620\n",
      "====> Test set loss: 0.0522\n",
      "debug var_dim -1\n",
      "debug var_dim -1\n",
      "debug var_dim -1\n",
      "debug nan in encoder weights tensor(0)\n",
      "debug nan in encoder bias tensor(0)\n",
      "debug nan in decoder weights tensor(0)\n"
     ]
    },
    {
     "name": "stderr",
     "output_type": "stream",
     "text": [
      "Train Epoch: 2 [44928/60000 (100%)]\tLoss: 0.000503: 100%|██████████| 469/469 [00:04<00:00, 107.32it/s]"
     ]
    },
    {
     "name": "stdout",
     "output_type": "stream",
     "text": [
      "====> Epoch: 2 Average loss: 0.0499\n"
     ]
    },
    {
     "name": "stderr",
     "output_type": "stream",
     "text": [
      "\n"
     ]
    },
    {
     "name": "stdout",
     "output_type": "stream",
     "text": [
      "====> Test set loss: 0.0485\n",
      "debug var_dim -1\n",
      "debug var_dim -1\n",
      "debug var_dim -1\n",
      "debug nan in encoder weights tensor(0)\n",
      "debug nan in encoder bias tensor(0)\n",
      "debug nan in decoder weights tensor(0)\n"
     ]
    },
    {
     "name": "stderr",
     "output_type": "stream",
     "text": [
      "Train Epoch: 3 [44928/60000 (100%)]\tLoss: 0.000490: 100%|██████████| 469/469 [00:05<00:00, 89.43it/s]"
     ]
    },
    {
     "name": "stdout",
     "output_type": "stream",
     "text": [
      "====> Epoch: 3 Average loss: 0.0485\n"
     ]
    },
    {
     "name": "stderr",
     "output_type": "stream",
     "text": [
      "\n"
     ]
    },
    {
     "name": "stdout",
     "output_type": "stream",
     "text": [
      "====> Test set loss: 0.0482\n",
      "debug var_dim 0\n",
      "debug var_dim 0\n",
      "debug var_dim 1\n",
      "debug nan in encoder weights tensor(0)\n",
      "debug nan in encoder bias tensor(0)\n",
      "debug nan in decoder weights tensor(0)\n"
     ]
    },
    {
     "name": "stderr",
     "output_type": "stream",
     "text": [
      "Train Epoch: 3 [44928/60000 (100%)]\tLoss: 0.000504: 100%|██████████| 469/469 [00:05<00:00, 89.62it/s] "
     ]
    },
    {
     "name": "stdout",
     "output_type": "stream",
     "text": [
      "====> Epoch: 3 Average loss: 0.0485\n"
     ]
    },
    {
     "name": "stderr",
     "output_type": "stream",
     "text": [
      "\n"
     ]
    },
    {
     "name": "stdout",
     "output_type": "stream",
     "text": [
      "====> Test set loss: 0.0464\n",
      "debug var_dim -1\n",
      "debug var_dim -1\n",
      "debug var_dim -1\n",
      "debug nan in encoder weights tensor(0)\n",
      "debug nan in encoder bias tensor(0)\n",
      "debug nan in decoder weights tensor(0)\n"
     ]
    },
    {
     "name": "stderr",
     "output_type": "stream",
     "text": [
      "Train Epoch: 4 [44928/60000 (100%)]\tLoss: 0.000442: 100%|██████████| 469/469 [00:04<00:00, 98.28it/s] "
     ]
    },
    {
     "name": "stdout",
     "output_type": "stream",
     "text": [
      "====> Epoch: 4 Average loss: 0.0454\n"
     ]
    },
    {
     "name": "stderr",
     "output_type": "stream",
     "text": [
      "\n"
     ]
    },
    {
     "name": "stdout",
     "output_type": "stream",
     "text": [
      "====> Test set loss: 0.0442\n",
      "debug var_dim -1\n",
      "debug var_dim -1\n",
      "debug var_dim -1\n",
      "debug nan in encoder weights tensor(0)\n",
      "debug nan in encoder bias tensor(0)\n",
      "debug nan in decoder weights tensor(0)\n"
     ]
    },
    {
     "name": "stderr",
     "output_type": "stream",
     "text": [
      "Train Epoch: 5 [44928/60000 (100%)]\tLoss: 0.000447: 100%|██████████| 469/469 [00:04<00:00, 98.96it/s] "
     ]
    },
    {
     "name": "stdout",
     "output_type": "stream",
     "text": [
      "====> Epoch: 5 Average loss: 0.0432\n"
     ]
    },
    {
     "name": "stderr",
     "output_type": "stream",
     "text": [
      "\n"
     ]
    },
    {
     "name": "stdout",
     "output_type": "stream",
     "text": [
      "====> Test set loss: 0.0419\n",
      "debug var_dim 0\n",
      "debug var_dim 0\n",
      "debug var_dim 1\n",
      "debug nan in encoder weights tensor(0)\n",
      "debug nan in encoder bias tensor(0)\n",
      "debug nan in decoder weights tensor(0)\n"
     ]
    },
    {
     "name": "stderr",
     "output_type": "stream",
     "text": [
      "Train Epoch: 5 [44928/60000 (100%)]\tLoss: 0.000438: 100%|██████████| 469/469 [00:03<00:00, 118.99it/s]"
     ]
    },
    {
     "name": "stdout",
     "output_type": "stream",
     "text": [
      "====> Epoch: 5 Average loss: 0.0431\n"
     ]
    },
    {
     "name": "stderr",
     "output_type": "stream",
     "text": [
      "\n"
     ]
    },
    {
     "name": "stdout",
     "output_type": "stream",
     "text": [
      "====> Test set loss: 0.0415\n",
      "debug var_dim -1\n",
      "debug var_dim -1\n",
      "debug var_dim -1\n",
      "debug nan in encoder weights tensor(0)\n",
      "debug nan in encoder bias tensor(0)\n",
      "debug nan in decoder weights tensor(0)\n"
     ]
    },
    {
     "name": "stderr",
     "output_type": "stream",
     "text": [
      "Train Epoch: 6 [44928/60000 (100%)]\tLoss: 0.000420: 100%|██████████| 469/469 [00:03<00:00, 118.88it/s]"
     ]
    },
    {
     "name": "stdout",
     "output_type": "stream",
     "text": [
      "====> Epoch: 6 Average loss: 0.0407\n"
     ]
    },
    {
     "name": "stderr",
     "output_type": "stream",
     "text": [
      "\n"
     ]
    },
    {
     "name": "stdout",
     "output_type": "stream",
     "text": [
      "====> Test set loss: 0.0389\n",
      "debug var_dim -1\n",
      "debug var_dim -1\n",
      "debug var_dim -1\n",
      "debug nan in encoder weights tensor(0)\n",
      "debug nan in encoder bias tensor(0)\n",
      "debug nan in decoder weights tensor(0)\n"
     ]
    },
    {
     "name": "stderr",
     "output_type": "stream",
     "text": [
      "Train Epoch: 7 [44928/60000 (100%)]\tLoss: 0.000366: 100%|██████████| 469/469 [00:04<00:00, 117.22it/s]"
     ]
    },
    {
     "name": "stdout",
     "output_type": "stream",
     "text": [
      "====> Epoch: 7 Average loss: 0.0380\n"
     ]
    },
    {
     "name": "stderr",
     "output_type": "stream",
     "text": [
      "\n"
     ]
    },
    {
     "name": "stdout",
     "output_type": "stream",
     "text": [
      "====> Test set loss: 0.0362\n",
      "debug var_dim -1\n",
      "debug var_dim -1\n",
      "debug var_dim -1\n",
      "debug nan in encoder weights tensor(0)\n",
      "debug nan in encoder bias tensor(0)\n",
      "debug nan in decoder weights tensor(0)\n"
     ]
    },
    {
     "name": "stderr",
     "output_type": "stream",
     "text": [
      "Train Epoch: 8 [44928/60000 (100%)]\tLoss: 0.000362: 100%|██████████| 469/469 [00:03<00:00, 119.11it/s]"
     ]
    },
    {
     "name": "stdout",
     "output_type": "stream",
     "text": [
      "====> Epoch: 8 Average loss: 0.0357\n"
     ]
    },
    {
     "name": "stderr",
     "output_type": "stream",
     "text": [
      "\n"
     ]
    },
    {
     "name": "stdout",
     "output_type": "stream",
     "text": [
      "====> Test set loss: 0.0342\n",
      "debug var_dim -1\n",
      "debug var_dim -1\n",
      "debug var_dim -1\n",
      "debug nan in encoder weights tensor(0)\n",
      "debug nan in encoder bias tensor(0)\n",
      "debug nan in decoder weights tensor(0)\n"
     ]
    },
    {
     "name": "stderr",
     "output_type": "stream",
     "text": [
      "Train Epoch: 9 [44928/60000 (100%)]\tLoss: 0.000346: 100%|██████████| 469/469 [00:03<00:00, 118.58it/s]"
     ]
    },
    {
     "name": "stdout",
     "output_type": "stream",
     "text": [
      "====> Epoch: 9 Average loss: 0.0337\n"
     ]
    },
    {
     "name": "stderr",
     "output_type": "stream",
     "text": [
      "\n"
     ]
    },
    {
     "name": "stdout",
     "output_type": "stream",
     "text": [
      "====> Test set loss: 0.0324\n",
      "debug var_dim -1\n",
      "debug var_dim -1\n",
      "debug var_dim -1\n",
      "debug nan in encoder weights tensor(0)\n",
      "debug nan in encoder bias tensor(0)\n",
      "debug nan in decoder weights tensor(0)\n"
     ]
    },
    {
     "name": "stderr",
     "output_type": "stream",
     "text": [
      "Train Epoch: 10 [44928/60000 (100%)]\tLoss: 0.000330: 100%|██████████| 469/469 [00:04<00:00, 108.76it/s]\n"
     ]
    },
    {
     "name": "stdout",
     "output_type": "stream",
     "text": [
      "====> Epoch: 10 Average loss: 0.0324\n",
      "====> Test set loss: 0.0316\n",
      "debug var_dim 0\n",
      "debug var_dim 0\n",
      "debug var_dim 1\n",
      "debug nan in encoder weights tensor(0)\n",
      "debug nan in encoder bias tensor(0)\n",
      "debug nan in decoder weights tensor(0)\n"
     ]
    },
    {
     "name": "stderr",
     "output_type": "stream",
     "text": [
      "Train Epoch: 10 [44928/60000 (100%)]\tLoss: 0.000311: 100%|██████████| 469/469 [00:16<00:00, 28.99it/s] "
     ]
    },
    {
     "name": "stdout",
     "output_type": "stream",
     "text": [
      "====> Epoch: 10 Average loss: 0.0331\n"
     ]
    },
    {
     "name": "stderr",
     "output_type": "stream",
     "text": [
      "\n"
     ]
    },
    {
     "name": "stdout",
     "output_type": "stream",
     "text": [
      "====> Test set loss: 0.0316\n",
      "debug var_dim -1\n",
      "debug var_dim -1\n",
      "debug var_dim -1\n",
      "debug nan in encoder weights tensor(0)\n",
      "debug nan in encoder bias tensor(0)\n",
      "debug nan in decoder weights tensor(0)\n"
     ]
    },
    {
     "name": "stderr",
     "output_type": "stream",
     "text": [
      "Train Epoch: 11 [44928/60000 (100%)]\tLoss: 0.000350: 100%|██████████| 469/469 [00:04<00:00, 116.75it/s]"
     ]
    },
    {
     "name": "stdout",
     "output_type": "stream",
     "text": [
      "====> Epoch: 11 Average loss: 0.0320\n"
     ]
    },
    {
     "name": "stderr",
     "output_type": "stream",
     "text": [
      "\n"
     ]
    },
    {
     "name": "stdout",
     "output_type": "stream",
     "text": [
      "====> Test set loss: 0.0315\n"
     ]
    }
   ],
   "source": [
    "size_ls = [4,10,16,32]\n",
    "manner = 'cell_division'\n",
    "\n",
    "train_loss, test_loss = dev_train_vali_converge(model,size_ls,manner,train_loader,test_loader,optimizer,device='cpu',save_path=save_path+'Dev/{}/'.format(manner))"
   ]
  },
  {
   "cell_type": "code",
   "execution_count": 12,
   "metadata": {},
   "outputs": [
    {
     "data": {
      "text/plain": [
       "Text(0.5, 1.0, 'Loss AE')"
      ]
     },
     "execution_count": 12,
     "metadata": {},
     "output_type": "execute_result"
    },
    {
     "data": {
      "image/png": "[encoded data removed]",
      "text/plain": [
       "<Figure size 640x480 with 1 Axes>"
      ]
     },
     "metadata": {},
     "output_type": "display_data"
    }
   ],
   "source": [
    "plt.figure()\n",
    "plt.plot(test_loss,label='Loss')\n",
    "plt.legend()\n",
    "plt.xlabel('Epoch')\n",
    "plt.ylabel('MSE Loss')\n",
    "plt.title('Loss AE')"
   ]
  }
 ],
 "metadata": {
  "kernelspec": {
   "display_name": "Python 3",
   "language": "python",
   "name": "python3"
  },
  "language_info": {
   "codemirror_mode": {
    "name": "ipython",
    "version": 3
   },
   "file_extension": ".py",
   "mimetype": "text/x-python",
   "name": "python",
   "nbconvert_exporter": "python",
   "pygments_lexer": "ipython3",
   "version": "3.10.12"
  }
 },
 "nbformat": 4,
 "nbformat_minor": 2
}
