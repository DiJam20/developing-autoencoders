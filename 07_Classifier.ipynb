{
 "cells": [
  {
   "cell_type": "code",
   "execution_count": 1,
   "metadata": {},
   "outputs": [],
   "source": [
    "import os\n",
    "from datetime import datetime\n",
    "\n",
    "import numpy as np\n",
    "import matplotlib.pyplot as plt\n",
    "from skimage.util import random_noise\n",
    "\n",
    "import torch\n",
    "from torch.autograd import Variable\n",
    "from torch.utils.data import DataLoader\n",
    "from torchvision import datasets, transforms\n",
    "\n",
    "from sklearn.svm import LinearSVC\n",
    "from sklearn.metrics import accuracy_score\n",
    "\n",
    "from autoencoder import Autoencoder\n",
    "from solver import train_vali_all_epochs, dev_train_vali_all_epochs"
   ]
  },
  {
   "cell_type": "code",
   "execution_count": 2,
   "metadata": {},
   "outputs": [],
   "source": [
    "mnist_train = datasets.MNIST(root='./data', train=True, download=True, transform=transforms.ToTensor())\n",
    "mnist_test = datasets.MNIST(root='./data', train=False, download=True, transform=transforms.ToTensor())\n",
    "\n",
    "batch_size = 128\n",
    "train_loader = DataLoader(mnist_train, batch_size=batch_size, shuffle=True, num_workers=6)\n",
    "test_loader = DataLoader(mnist_test, batch_size=batch_size, shuffle=False, num_workers=6)"
   ]
  },
  {
   "cell_type": "code",
   "execution_count": 3,
   "metadata": {},
   "outputs": [
    {
     "name": "stdout",
     "output_type": "stream",
     "text": [
      "/home/david/sparsify_models/AE/MNIST/2024-11-14_14-56-20/\n"
     ]
    }
   ],
   "source": [
    "run_id = datetime.today().strftime(\"%Y-%m-%d_%H-%M-%S\")\n",
    "save_path = os.getenv(\"HOME\") + '/sparsify_models/AE/MNIST/' +run_id +'/'\n",
    "print(save_path)"
   ]
  },
  {
   "cell_type": "code",
   "execution_count": null,
   "metadata": {},
   "outputs": [],
   "source": [
    "# Convert MNIST data to numpy arrays\n",
    "train_images = []\n",
    "train_labels = []\n",
    "\n",
    "for batch_idx, (data, target) in enumerate(train_loader):\n",
    "    data = torch.tensor(data).to('cuda')\n",
    "    input = data.view(1, -1).to('cuda')\n",
    "    train_images.append(input.cpu().numpy())\n",
    "    train_labels.append(target.cpu().numpy())\n",
    "\n",
    "train_images = np.concatenate(train_images)\n",
    "train_labels = np.concatenate(train_labels)\n",
    "\n",
    "test_images = []\n",
    "test_labels = []\n",
    "\n",
    "for batch_idx, (data, target) in enumerate(test_loader):\n",
    "    data = torch.tensor(data).to('cuda')\n",
    "    input = data.view(1, -1).to('cuda')\n",
    "    test_images.append(input.cpu().numpy())\n",
    "    test_labels.append(target.cpu().numpy())\n",
    "\n",
    "test_images = np.concatenate(test_images)\n",
    "test_labels = np.concatenate(test_labels)"
   ]
  },
  {
   "cell_type": "markdown",
   "metadata": {},
   "source": [
    "### Training SAE and DAE"
   ]
  },
  {
   "cell_type": "code",
   "execution_count": 5,
   "metadata": {},
   "outputs": [
    {
     "name": "stderr",
     "output_type": "stream",
     "text": [
      "Train Epoch: 0 [44928/60000 (100%)]\tLoss: 0.000224: 100%|██████████| 469/469 [00:01<00:00, 255.26it/s]"
     ]
    },
    {
     "name": "stdout",
     "output_type": "stream",
     "text": [
      "====> Epoch: 0 Average loss: 0.0354\n"
     ]
    },
    {
     "name": "stderr",
     "output_type": "stream",
     "text": [
      "\n",
      "/home/david/Documents/UNI_LOCAL/developing-autoencoders/solver.py:308: UserWarning: volatile was removed and now has no effect. Use `with torch.no_grad():` instead.\n",
      "  data = Variable(data, volatile=True).to(device)\n"
     ]
    },
    {
     "name": "stdout",
     "output_type": "stream",
     "text": [
      "====> Test set loss: 0.0203\n",
      "Directory created: /home/david/sparsify_models/AE/MNIST/2024-11-14_14-56-20/Static/\n",
      "Weights saved.\n"
     ]
    },
    {
     "name": "stderr",
     "output_type": "stream",
     "text": [
      "Train Epoch: 1 [44928/60000 (100%)]\tLoss: 0.000189: 100%|██████████| 469/469 [00:01<00:00, 281.16it/s]\n"
     ]
    },
    {
     "name": "stdout",
     "output_type": "stream",
     "text": [
      "====> Epoch: 1 Average loss: 0.0185\n",
      "====> Test set loss: 0.0171\n",
      "Weights saved.\n"
     ]
    },
    {
     "name": "stderr",
     "output_type": "stream",
     "text": [
      "Train Epoch: 2 [44928/60000 (100%)]\tLoss: 0.000177: 100%|██████████| 469/469 [00:01<00:00, 289.62it/s]"
     ]
    },
    {
     "name": "stdout",
     "output_type": "stream",
     "text": [
      "====> Epoch: 2 Average loss: 0.0174\n"
     ]
    },
    {
     "name": "stderr",
     "output_type": "stream",
     "text": [
      "\n"
     ]
    },
    {
     "name": "stdout",
     "output_type": "stream",
     "text": [
      "====> Test set loss: 0.0169\n",
      "Weights saved.\n"
     ]
    },
    {
     "name": "stderr",
     "output_type": "stream",
     "text": [
      "Train Epoch: 3 [44928/60000 (100%)]\tLoss: 0.000184: 100%|██████████| 469/469 [00:01<00:00, 273.67it/s]\n"
     ]
    },
    {
     "name": "stdout",
     "output_type": "stream",
     "text": [
      "====> Epoch: 3 Average loss: 0.0173\n",
      "====> Test set loss: 0.0169\n",
      "Weights saved.\n"
     ]
    },
    {
     "name": "stderr",
     "output_type": "stream",
     "text": [
      "Train Epoch: 4 [44928/60000 (100%)]\tLoss: 0.000167: 100%|██████████| 469/469 [00:01<00:00, 294.99it/s]\n"
     ]
    },
    {
     "name": "stdout",
     "output_type": "stream",
     "text": [
      "====> Epoch: 4 Average loss: 0.0173\n",
      "====> Test set loss: 0.0169\n",
      "Weights saved.\n"
     ]
    },
    {
     "name": "stderr",
     "output_type": "stream",
     "text": [
      "Train Epoch: 5 [44928/60000 (100%)]\tLoss: 0.000179: 100%|██████████| 469/469 [00:01<00:00, 274.67it/s]\n"
     ]
    },
    {
     "name": "stdout",
     "output_type": "stream",
     "text": [
      "====> Epoch: 5 Average loss: 0.0173\n",
      "====> Test set loss: 0.0169\n",
      "Weights saved.\n"
     ]
    },
    {
     "name": "stderr",
     "output_type": "stream",
     "text": [
      "Train Epoch: 6 [44928/60000 (100%)]\tLoss: 0.000194: 100%|██████████| 469/469 [00:01<00:00, 247.96it/s]\n"
     ]
    },
    {
     "name": "stdout",
     "output_type": "stream",
     "text": [
      "====> Epoch: 6 Average loss: 0.0173\n",
      "====> Test set loss: 0.0169\n",
      "Weights saved.\n"
     ]
    },
    {
     "name": "stderr",
     "output_type": "stream",
     "text": [
      "Train Epoch: 7 [44928/60000 (100%)]\tLoss: 0.000192: 100%|██████████| 469/469 [00:01<00:00, 277.84it/s]\n"
     ]
    },
    {
     "name": "stdout",
     "output_type": "stream",
     "text": [
      "====> Epoch: 7 Average loss: 0.0173\n",
      "====> Test set loss: 0.0169\n",
      "Weights saved.\n"
     ]
    },
    {
     "name": "stderr",
     "output_type": "stream",
     "text": [
      "Train Epoch: 8 [44928/60000 (100%)]\tLoss: 0.000182: 100%|██████████| 469/469 [00:01<00:00, 261.62it/s]"
     ]
    },
    {
     "name": "stdout",
     "output_type": "stream",
     "text": [
      "====> Epoch: 8 Average loss: 0.0173\n"
     ]
    },
    {
     "name": "stderr",
     "output_type": "stream",
     "text": [
      "\n"
     ]
    },
    {
     "name": "stdout",
     "output_type": "stream",
     "text": [
      "====> Test set loss: 0.0169\n",
      "Weights saved.\n"
     ]
    },
    {
     "name": "stderr",
     "output_type": "stream",
     "text": [
      "Train Epoch: 9 [44928/60000 (100%)]\tLoss: 0.000174: 100%|██████████| 469/469 [00:01<00:00, 251.14it/s]\n"
     ]
    },
    {
     "name": "stdout",
     "output_type": "stream",
     "text": [
      "====> Epoch: 9 Average loss: 0.0173\n",
      "====> Test set loss: 0.0169\n",
      "Weights saved.\n",
      "All train losses saved.\n"
     ]
    }
   ],
   "source": [
    "sae_model = Autoencoder(n_input=784, n_hidden_ls=[512, 128, 32], n_layers=3)\n",
    "sae_optimizer = torch.optim.SGD(sae_model.parameters(), lr=0.5, momentum=0.99)\n",
    "\n",
    "train_losses, vali_losses = train_vali_all_epochs(\n",
    "    sae_model, \n",
    "    train_loader, \n",
    "    test_loader, \n",
    "    sae_optimizer, \n",
    "    n_epochs=10, \n",
    "    device=torch.device('cuda'), \n",
    "    save_path=save_path+'Static/'\n",
    "    )"
   ]
  },
  {
   "cell_type": "code",
   "execution_count": 6,
   "metadata": {},
   "outputs": [
    {
     "name": "stdout",
     "output_type": "stream",
     "text": [
      "Directory created: /home/david/sparsify_models/AE/MNIST/2024-11-14_14-56-20/Dev/cell_division/\n"
     ]
    },
    {
     "name": "stderr",
     "output_type": "stream",
     "text": [
      "Train Epoch: 0 [44928/60000 (100%)]\tLoss: 0.001271: 100%|██████████| 469/469 [00:03<00:00, 135.28it/s]"
     ]
    },
    {
     "name": "stdout",
     "output_type": "stream",
     "text": [
      "====> Epoch: 0 Average loss: 0.1240\n"
     ]
    },
    {
     "name": "stderr",
     "output_type": "stream",
     "text": [
      "\n"
     ]
    },
    {
     "name": "stdout",
     "output_type": "stream",
     "text": [
      "====> Test set loss: 0.1264\n",
      "Weights saved.\n",
      "debug var_dim -1\n",
      "debug var_dim -1\n",
      "debug var_dim -1\n",
      "debug nan in encoder weights tensor(0)\n",
      "debug nan in encoder bias tensor(0)\n",
      "debug nan in decoder weights tensor(0)\n"
     ]
    },
    {
     "name": "stderr",
     "output_type": "stream",
     "text": [
      "/home/david/Documents/UNI_LOCAL/developing-autoencoders/solver.py:184: FutureWarning: You are using `torch.load` with `weights_only=False` (the current default value), which uses the default pickle module implicitly. It is possible to construct malicious pickle data which will execute arbitrary code during unpickling (See https://github.com/pytorch/pytorch/blob/main/SECURITY.md#untrusted-models for more details). In a future release, the default value for `weights_only` will be flipped to `True`. This limits the functions that could be executed during unpickling. Arbitrary objects will no longer be allowed to be loaded via this mode unless they are explicitly allowlisted by the user via `torch.serialization.add_safe_globals`. We recommend you start setting `weights_only=True` for any use case where you don't have full control of the loaded file. Please open an issue on GitHub for any issues related to this experimental feature.\n",
      "  state_dict = torch.load(save_path + 'model_weights_epoch{}.pth'.format(epoch-1))\n",
      "Train Epoch: 1 [44928/60000 (100%)]\tLoss: 0.000542: 100%|██████████| 469/469 [00:04<00:00, 106.19it/s]"
     ]
    },
    {
     "name": "stdout",
     "output_type": "stream",
     "text": [
      "====> Epoch: 1 Average loss: 0.0612\n"
     ]
    },
    {
     "name": "stderr",
     "output_type": "stream",
     "text": [
      "\n"
     ]
    },
    {
     "name": "stdout",
     "output_type": "stream",
     "text": [
      "====> Test set loss: 0.0513\n",
      "Weights saved.\n",
      "debug var_dim 0\n",
      "debug var_dim 0\n",
      "debug var_dim 1\n",
      "debug nan in encoder weights tensor(0)\n",
      "debug nan in encoder bias tensor(0)\n",
      "debug nan in decoder weights tensor(0)\n"
     ]
    },
    {
     "name": "stderr",
     "output_type": "stream",
     "text": [
      "Train Epoch: 2 [44928/60000 (100%)]\tLoss: 0.000525: 100%|██████████| 469/469 [00:03<00:00, 117.40it/s]"
     ]
    },
    {
     "name": "stdout",
     "output_type": "stream",
     "text": [
      "====> Epoch: 2 Average loss: 0.0494\n"
     ]
    },
    {
     "name": "stderr",
     "output_type": "stream",
     "text": [
      "\n"
     ]
    },
    {
     "name": "stdout",
     "output_type": "stream",
     "text": [
      "====> Test set loss: 0.0481\n",
      "Weights saved.\n",
      "debug var_dim -1\n",
      "debug var_dim -1\n",
      "debug var_dim -1\n",
      "debug nan in encoder weights tensor(0)\n",
      "debug nan in encoder bias tensor(0)\n",
      "debug nan in decoder weights tensor(0)\n"
     ]
    },
    {
     "name": "stderr",
     "output_type": "stream",
     "text": [
      "Train Epoch: 3 [44928/60000 (100%)]\tLoss: 0.000476: 100%|██████████| 469/469 [00:03<00:00, 119.77it/s]"
     ]
    },
    {
     "name": "stdout",
     "output_type": "stream",
     "text": [
      "====> Epoch: 3 Average loss: 0.0481\n"
     ]
    },
    {
     "name": "stderr",
     "output_type": "stream",
     "text": [
      "\n"
     ]
    },
    {
     "name": "stdout",
     "output_type": "stream",
     "text": [
      "====> Test set loss: 0.0468\n",
      "Weights saved.\n",
      "debug var_dim 0\n",
      "debug var_dim 0\n",
      "debug var_dim 1\n",
      "debug nan in encoder weights tensor(0)\n",
      "debug nan in encoder bias tensor(0)\n",
      "debug nan in decoder weights tensor(0)\n"
     ]
    },
    {
     "name": "stderr",
     "output_type": "stream",
     "text": [
      "Train Epoch: 4 [44928/60000 (100%)]\tLoss: 0.000445: 100%|██████████| 469/469 [00:04<00:00, 116.94it/s]"
     ]
    },
    {
     "name": "stdout",
     "output_type": "stream",
     "text": [
      "====> Epoch: 4 Average loss: 0.0456\n"
     ]
    },
    {
     "name": "stderr",
     "output_type": "stream",
     "text": [
      "\n"
     ]
    },
    {
     "name": "stdout",
     "output_type": "stream",
     "text": [
      "====> Test set loss: 0.0429\n",
      "Weights saved.\n",
      "debug var_dim -1\n",
      "debug var_dim -1\n",
      "debug var_dim -1\n",
      "debug nan in encoder weights tensor(0)\n",
      "debug nan in encoder bias tensor(0)\n",
      "debug nan in decoder weights tensor(0)\n"
     ]
    },
    {
     "name": "stderr",
     "output_type": "stream",
     "text": [
      "Train Epoch: 5 [44928/60000 (100%)]\tLoss: 0.000398: 100%|██████████| 469/469 [00:03<00:00, 117.30it/s]\n"
     ]
    },
    {
     "name": "stdout",
     "output_type": "stream",
     "text": [
      "====> Epoch: 5 Average loss: 0.0404\n",
      "====> Test set loss: 0.0379\n",
      "Weights saved.\n",
      "debug var_dim 0\n",
      "debug var_dim 0\n",
      "debug var_dim 1\n",
      "debug nan in encoder weights tensor(0)\n",
      "debug nan in encoder bias tensor(0)\n",
      "debug nan in decoder weights tensor(0)\n"
     ]
    },
    {
     "name": "stderr",
     "output_type": "stream",
     "text": [
      "Train Epoch: 6 [44928/60000 (100%)]\tLoss: 0.000357: 100%|██████████| 469/469 [00:03<00:00, 122.77it/s]"
     ]
    },
    {
     "name": "stdout",
     "output_type": "stream",
     "text": [
      "====> Epoch: 6 Average loss: 0.0371\n"
     ]
    },
    {
     "name": "stderr",
     "output_type": "stream",
     "text": [
      "\n"
     ]
    },
    {
     "name": "stdout",
     "output_type": "stream",
     "text": [
      "====> Test set loss: 0.0345\n",
      "Weights saved.\n",
      "debug var_dim -1\n",
      "debug var_dim -1\n",
      "debug var_dim -1\n",
      "debug nan in encoder weights tensor(0)\n",
      "debug nan in encoder bias tensor(0)\n",
      "debug nan in decoder weights tensor(0)\n"
     ]
    },
    {
     "name": "stderr",
     "output_type": "stream",
     "text": [
      "Train Epoch: 7 [44928/60000 (100%)]\tLoss: 0.000329: 100%|██████████| 469/469 [00:03<00:00, 122.29it/s]\n"
     ]
    },
    {
     "name": "stdout",
     "output_type": "stream",
     "text": [
      "====> Epoch: 7 Average loss: 0.0334\n",
      "====> Test set loss: 0.0320\n",
      "Weights saved.\n",
      "debug var_dim -1\n",
      "debug var_dim -1\n",
      "debug var_dim -1\n",
      "debug nan in encoder weights tensor(0)\n",
      "debug nan in encoder bias tensor(0)\n",
      "debug nan in decoder weights tensor(0)\n"
     ]
    },
    {
     "name": "stderr",
     "output_type": "stream",
     "text": [
      "Train Epoch: 8 [44928/60000 (100%)]\tLoss: 0.000356: 100%|██████████| 469/469 [00:03<00:00, 122.23it/s]\n"
     ]
    },
    {
     "name": "stdout",
     "output_type": "stream",
     "text": [
      "====> Epoch: 8 Average loss: 0.0321\n",
      "====> Test set loss: 0.0316\n",
      "Weights saved.\n",
      "debug var_dim -1\n",
      "debug var_dim -1\n",
      "debug var_dim -1\n",
      "debug nan in encoder weights tensor(0)\n",
      "debug nan in encoder bias tensor(0)\n",
      "debug nan in decoder weights tensor(0)\n"
     ]
    },
    {
     "name": "stderr",
     "output_type": "stream",
     "text": [
      "Train Epoch: 9 [44928/60000 (100%)]\tLoss: 0.000338: 100%|██████████| 469/469 [00:03<00:00, 123.18it/s]"
     ]
    },
    {
     "name": "stdout",
     "output_type": "stream",
     "text": [
      "====> Epoch: 9 Average loss: 0.0319\n"
     ]
    },
    {
     "name": "stderr",
     "output_type": "stream",
     "text": [
      "\n"
     ]
    },
    {
     "name": "stdout",
     "output_type": "stream",
     "text": [
      "====> Test set loss: 0.0315\n",
      "Weights saved.\n",
      "All train losses saved.\n"
     ]
    },
    {
     "data": {
      "text/plain": [
       "([0.12402124032537058,\n",
       "  0.06121524017470986,\n",
       "  0.04938395549334697,\n",
       "  0.048085366937715104,\n",
       "  0.04557795902050889,\n",
       "  0.040413736034113204,\n",
       "  0.03712851286474576,\n",
       "  0.03335673578067629,\n",
       "  0.03213772244417845,\n",
       "  0.03191954395108258],\n",
       " [0.12640964852858194,\n",
       "  0.05129350108813636,\n",
       "  0.048083386513628534,\n",
       "  0.0467980737456038,\n",
       "  0.04290821983278552,\n",
       "  0.03786905204193502,\n",
       "  0.034500108513085145,\n",
       "  0.03200290321454972,\n",
       "  0.03158449374516554,\n",
       "  0.0314574196604611])"
      ]
     },
     "execution_count": 6,
     "metadata": {},
     "output_type": "execute_result"
    }
   ],
   "source": [
    "dae_model = Autoencoder(n_input=784, n_hidden_ls=[512, 128, 32], n_layers=3)\n",
    "dae_optimizer = torch.optim.SGD(dae_model.parameters(), lr=0.5, momentum=0.99)\n",
    "\n",
    "size_ls = [4,10,16,32]\n",
    "manner = 'cell_division'\n",
    "\n",
    "dev_train_vali_all_epochs(\n",
    "    dae_model,\n",
    "    size_ls,\n",
    "    manner,\n",
    "    train_loader,\n",
    "    test_loader,\n",
    "    sae_optimizer,\n",
    "    n_epochs=10,\n",
    "    device='cpu',\n",
    "    save_path=save_path+'Dev/{}/'.format(manner)\n",
    "    )"
   ]
  },
  {
   "cell_type": "markdown",
   "metadata": {},
   "source": [
    "### Retrieve encodings"
   ]
  },
  {
   "cell_type": "code",
   "execution_count": 41,
   "metadata": {},
   "outputs": [],
   "source": [
    "sae_train_encodings = []\n",
    "\n",
    "with torch.no_grad():\n",
    "    for image in train_images:\n",
    "        image = torch.tensor(image).to('cuda')\n",
    "        input = image.view(1, -1).to('cuda')\n",
    "        encoded, decoded = sae_model(input)\n",
    "        sae_train_encodings.append(encoded.cpu().detach().numpy())\n",
    "\n",
    "sae_train_encodings = np.concatenate(sae_train_encodings)\n",
    "\n",
    "\n",
    "sae_test_encodings = []\n",
    "\n",
    "with torch.no_grad():\n",
    "    for image in test_images:\n",
    "        image = torch.tensor(image).to('cuda')\n",
    "        input = image.view(1, -1).to('cuda')\n",
    "        encoded, decoded = sae_model(input)\n",
    "        sae_test_encodings.append(encoded.cpu().detach().numpy())\n",
    "\n",
    "sae_test_encodings = np.concatenate(sae_test_encodings)"
   ]
  },
  {
   "cell_type": "code",
   "execution_count": 43,
   "metadata": {},
   "outputs": [],
   "source": [
    "dae_train_encodings = []\n",
    "\n",
    "with torch.no_grad():\n",
    "    for image in train_images:\n",
    "        image = torch.tensor(image).to('cuda')\n",
    "        input = image.view(1, -1).to('cpu')\n",
    "        encoded, decoded = dae_model(input)\n",
    "        dae_train_encodings.append(encoded.cpu().detach().numpy())\n",
    "\n",
    "dae_train_encodings = np.concatenate(dae_train_encodings)\n",
    "\n",
    "\n",
    "dae_test_encodings = []\n",
    "\n",
    "with torch.no_grad():\n",
    "    for image in test_images:\n",
    "        image = torch.tensor(image).to('cuda')\n",
    "        input = image.view(1, -1).to('cpu')\n",
    "        encoded, decoded = dae_model(input)\n",
    "        dae_test_encodings.append(encoded.cpu().detach().numpy())\n",
    "\n",
    "dae_test_encodings = np.concatenate(dae_test_encodings)"
   ]
  },
  {
   "cell_type": "markdown",
   "metadata": {},
   "source": [
    "### Classification accuracy of SAE and DAE encodings with a Linear SVC"
   ]
  },
  {
   "cell_type": "code",
   "execution_count": 42,
   "metadata": {},
   "outputs": [
    {
     "name": "stdout",
     "output_type": "stream",
     "text": [
      "SVC trained on SAE encodings - Accuracy: 0.8864\n"
     ]
    }
   ],
   "source": [
    "sae_svc = LinearSVC(max_iter=1000, C=1.0)\n",
    "sae_svc.fit(sae_train_encodings, train_labels)\n",
    "\n",
    "sae_predictions = sae_svc.predict(sae_test_encodings)\n",
    "accuracy = accuracy_score(test_labels, sae_predictions)\n",
    "print(f'SVC trained on SAE encodings - Accuracy: {accuracy:.4f}')"
   ]
  },
  {
   "cell_type": "code",
   "execution_count": 44,
   "metadata": {},
   "outputs": [
    {
     "name": "stdout",
     "output_type": "stream",
     "text": [
      "SVC trained on DAE encodings - Accuracy: 0.7721\n"
     ]
    }
   ],
   "source": [
    "dae_svc = LinearSVC(max_iter=1000, C=1.0)\n",
    "dae_svc.fit(dae_train_encodings, train_labels)\n",
    "\n",
    "dae_predictions = dae_svc.predict(dae_test_encodings)\n",
    "accuracy = accuracy_score(test_labels, dae_predictions)\n",
    "print(f'SVC trained on DAE encodings - Accuracy: {accuracy:.4f}')"
   ]
  },
  {
   "cell_type": "markdown",
   "metadata": {},
   "source": [
    "### Adding noise"
   ]
  },
  {
   "cell_type": "code",
   "execution_count": null,
   "metadata": {},
   "outputs": [],
   "source": [
    "def add_gaussian_noise(raw_data, var=0.01):\n",
    "    noisy_data = []\n",
    "    for original in raw_data:\n",
    "        noisy = random_noise(original, mode='gaussian', var=var)\n",
    "        noisy_data.append(noisy)\n",
    "    \n",
    "    return noisy_data\n",
    "\n",
    "def add_speckle_noise(raw_data, var=0.1):\n",
    "    noisy_data = []\n",
    "    for original in raw_data:\n",
    "        noisy = random_noise(original, mode='speckle', var=var)\n",
    "        noisy_data.append(noisy)\n",
    "    return noisy_data\n",
    "\n",
    "def add_sp_noise(raw_data, amount=0.05):\n",
    "    noisy_data = []\n",
    "    for original in raw_data:\n",
    "        noisy = random_noise(original, mode='s&p', amount=amount)\n",
    "        noisy_data.append(noisy)\n",
    "    return noisy_data\n",
    "\n",
    "\n",
    "noisy_test_images = add_speckle_noise(test_images, 0.5)"
   ]
  },
  {
   "cell_type": "code",
   "execution_count": 70,
   "metadata": {},
   "outputs": [
    {
     "data": {
      "image/png": "[encoded data removed]",
      "text/plain": [
       "<Figure size 640x480 with 2 Axes>"
      ]
     },
     "metadata": {},
     "output_type": "display_data"
    }
   ],
   "source": [
    "plt.figure()\n",
    "\n",
    "plt.subplot(1, 2, 1)\n",
    "plt.imshow(test_images[0].reshape(28, 28))\n",
    "plt.title('Original Image')\n",
    "\n",
    "plt.subplot(1, 2, 2)\n",
    "plt.imshow(noisy_test_images[0].reshape(28, 28))\n",
    "plt.title('Noisy Image')\n",
    "\n",
    "plt.show()"
   ]
  },
  {
   "cell_type": "markdown",
   "metadata": {},
   "source": [
    "### Retrieve noisy encodings"
   ]
  },
  {
   "cell_type": "code",
   "execution_count": 45,
   "metadata": {},
   "outputs": [],
   "source": [
    "noisy_train_images = add_gaussian_noise(train_images, 0.1)\n",
    "noisy_test_images = add_gaussian_noise(test_images, 0.1)\n",
    "\n",
    "sae_noisy_train_encodings = []\n",
    "\n",
    "with torch.no_grad():\n",
    "    for image in noisy_train_images:\n",
    "        image = torch.tensor(image).float().to('cuda')\n",
    "        input = image.view(1, -1).to('cuda')\n",
    "        encoded, decoded = sae_model(input)\n",
    "        sae_noisy_train_encodings.append(encoded.cpu().detach().numpy())\n",
    "\n",
    "sae_noisy_train_encodings = np.concatenate(sae_noisy_train_encodings)\n",
    "\n",
    "\n",
    "sae_noisy_test_encodings = []\n",
    "\n",
    "with torch.no_grad():\n",
    "    for image in noisy_test_images:\n",
    "        image = torch.tensor(image).float().to('cuda')\n",
    "        input = image.view(1, -1).to('cuda')\n",
    "        encoded, decoded = sae_model(input)\n",
    "        sae_noisy_test_encodings.append(encoded.cpu().detach().numpy())\n",
    "\n",
    "sae_noisy_test_encodings = np.concatenate(sae_noisy_test_encodings)"
   ]
  },
  {
   "cell_type": "code",
   "execution_count": 48,
   "metadata": {},
   "outputs": [],
   "source": [
    "dae_noisy_train_encodings = []\n",
    "\n",
    "with torch.no_grad():\n",
    "    for image in noisy_train_images:\n",
    "        image = torch.tensor(image).float().to('cuda')\n",
    "        input = image.view(1, -1).to('cpu')\n",
    "        encoded, decoded = dae_model(input)\n",
    "        dae_noisy_train_encodings.append(encoded.cpu().detach().numpy())\n",
    "\n",
    "dae_noisy_train_encodings = np.concatenate(dae_noisy_train_encodings)\n",
    "\n",
    "\n",
    "dae_noisy_test_encodings = []\n",
    "\n",
    "with torch.no_grad():\n",
    "    for image in noisy_test_images:\n",
    "        image = torch.tensor(image).float().to('cuda')\n",
    "        input = image.view(1, -1).to('cpu')\n",
    "        encoded, decoded = dae_model(input)\n",
    "        dae_noisy_test_encodings.append(encoded.cpu().detach().numpy())\n",
    "\n",
    "dae_noisy_test_encodings = np.concatenate(dae_noisy_test_encodings)"
   ]
  },
  {
   "cell_type": "markdown",
   "metadata": {},
   "source": [
    "### Classification accuracy of noisy SAE and DAE encodings with a Linear SVC"
   ]
  },
  {
   "cell_type": "code",
   "execution_count": 49,
   "metadata": {},
   "outputs": [
    {
     "name": "stdout",
     "output_type": "stream",
     "text": [
      "SVC trained on SAE encodings - Accuracy on noisy encodings: 0.7866\n",
      "SVC trained on DAE encodings - Accuracy on noisy encodings: 0.4998\n"
     ]
    }
   ],
   "source": [
    "sae_noisy_predictions = sae_svc.predict(sae_noisy_test_encodings)\n",
    "accuracy = accuracy_score(sae_noisy_predictions, test_labels)\n",
    "print(f'SVC trained on SAE encodings - Accuracy on noisy encodings: {accuracy:.4f}')\n",
    "\n",
    "dae_noisy_predictions = dae_svc.predict(dae_noisy_test_encodings)\n",
    "accuracy = accuracy_score(dae_noisy_predictions, test_labels)\n",
    "print(f'SVC trained on DAE encodings - Accuracy on noisy encodings: {accuracy:.4f}')"
   ]
  },
  {
   "cell_type": "markdown",
   "metadata": {},
   "source": [
    "### Classification accuracy of noisy SAE and DAE encodings with a Linear SVC (trained on noisy data)"
   ]
  },
  {
   "cell_type": "code",
   "execution_count": 52,
   "metadata": {},
   "outputs": [
    {
     "name": "stdout",
     "output_type": "stream",
     "text": [
      "SVC trained on noisy SAE encodings - Accuracy: 0.8704\n"
     ]
    }
   ],
   "source": [
    "sae_noisy_svc = LinearSVC(max_iter=1000, C=1.0)\n",
    "sae_noisy_svc.fit(sae_noisy_train_encodings, train_labels)\n",
    "\n",
    "sae_noisy_predictions = sae_noisy_svc.predict(sae_noisy_test_encodings)\n",
    "accuracy = accuracy_score(test_labels, sae_noisy_predictions)\n",
    "print(f'SVC trained on noisy SAE encodings - Accuracy: {accuracy:.4f}')"
   ]
  },
  {
   "cell_type": "code",
   "execution_count": 53,
   "metadata": {},
   "outputs": [
    {
     "name": "stdout",
     "output_type": "stream",
     "text": [
      "SVC trained on noisy DAE encodings - Accuracy: 0.5731\n"
     ]
    }
   ],
   "source": [
    "dae_noisy_svc = LinearSVC(max_iter=1000, C=1.0)\n",
    "dae_noisy_svc.fit(dae_noisy_train_encodings, train_labels)\n",
    "\n",
    "dae_noisy_predictions = dae_noisy_svc.predict(dae_noisy_test_encodings)\n",
    "accuracy = accuracy_score(test_labels, dae_noisy_predictions)\n",
    "print(f'SVC trained on noisy DAE encodings - Accuracy: {accuracy:.4f}')"
   ]
  },
  {
   "cell_type": "markdown",
   "metadata": {},
   "source": [
    "### Plotting results"
   ]
  },
  {
   "cell_type": "code",
   "execution_count": null,
   "metadata": {},
   "outputs": [],
   "source": [
    "data = []\n",
    "\n",
    "for var in [0, 0.01, 0.05, 0.1, 0.2, 0.3, 0.5, 0.9]:\n",
    "    gaussian_noise_images = add_gaussian_noise(test_images, var)\n",
    "    speckle_noise_images = add_speckle_noise(test_images)\n",
    "    sp_noise_images = add_sp_noise(test_images, var)\n",
    "\n",
    "    for noise_type, noisy_test_images in [(\"gaussian\", gaussian_noise_images), (\"speckle\", speckle_noise_images), (\"salt_and_pepper\", sp_noise_images)]:        \n",
    "        sae_noisy_test_encodings = []\n",
    "        dae_noisy_test_encodings = []\n",
    "\n",
    "        for image in noisy_test_images:\n",
    "            image = torch.tensor(image).float().to('cuda')\n",
    "            input = image.view(1, -1).to('cuda')\n",
    "            encoded, decoded = sae_model(input)\n",
    "            sae_noisy_test_encodings.append(encoded.cpu().detach().numpy())\n",
    "            encoded, decoded = dae_model(input.to('cpu'))\n",
    "            dae_noisy_test_encodings.append(encoded.cpu().detach().numpy())\n",
    "\n",
    "        sae_noisy_test_encodings = np.concatenate(sae_noisy_test_encodings, axis=0)\n",
    "        dae_noisy_test_encodings = np.concatenate(dae_noisy_test_encodings, axis=0)\n",
    "\n",
    "        sae_noisy_predictions = sae_svc.predict(sae_noisy_test_encodings)\n",
    "        dae_noisy_predictions = dae_svc.predict(dae_noisy_test_encodings)\n",
    "        sae_noisy_svc_predictions = sae_noisy_svc.predict(sae_noisy_test_encodings)\n",
    "        dae_noisy_svc_predictions = dae_noisy_svc.predict(dae_noisy_test_encodings)\n",
    "        \n",
    "        sae_noisy_accuracy = accuracy_score(sae_noisy_predictions, test_labels)\n",
    "        dae_noisy_accuracy = accuracy_score(dae_noisy_predictions, test_labels)\n",
    "        sae_noisy_svc_accuracy = accuracy_score(sae_noisy_svc_predictions, test_labels)\n",
    "        dae_noisy_svc_accuracy = accuracy_score(dae_noisy_svc_predictions, test_labels)\n",
    "\n",
    "        data.append({'variance': var, \n",
    "                     'noise': noise_type, \n",
    "                     'sae_noisy_accuracy': sae_noisy_accuracy, \n",
    "                     'dae_noisy_accuracy': dae_noisy_accuracy, \n",
    "                     'sae_noisy_svc_accuracy': sae_noisy_svc_accuracy, \n",
    "                     'dae_noisy_svc_accuracy': dae_noisy_svc_accuracy\n",
    "                     })"
   ]
  },
  {
   "cell_type": "code",
   "execution_count": 75,
   "metadata": {},
   "outputs": [
    {
     "data": {
      "image/png": "[encoded data removed]",
      "text/plain": [
       "<Figure size 640x480 with 1 Axes>"
      ]
     },
     "metadata": {},
     "output_type": "display_data"
    },
    {
     "data": {
      "image/png": "[encoded data removed]",
      "text/plain": [
       "<Figure size 640x480 with 1 Axes>"
      ]
     },
     "metadata": {},
     "output_type": "display_data"
    },
    {
     "data": {
      "image/png": "[encoded data removed]",
      "text/plain": [
       "<Figure size 640x480 with 1 Axes>"
      ]
     },
     "metadata": {},
     "output_type": "display_data"
    }
   ],
   "source": [
    "plt.figure()\n",
    "plt.plot([d['variance'] for d in data if d['noise'] == 'gaussian'], [d['sae_noisy_accuracy'] for d in data if d['noise'] == 'gaussian'], label='SAE')\n",
    "plt.plot([d['variance'] for d in data if d['noise'] == 'gaussian'], [d['dae_noisy_accuracy'] for d in data if d['noise'] == 'gaussian'], label='DAE')\n",
    "plt.plot([d['variance'] for d in data if d['noise'] == 'gaussian'], [d['sae_noisy_svc_accuracy'] for d in data if d['noise'] == 'gaussian'], label='SAE (trained on noisy data)')\n",
    "plt.plot([d['variance'] for d in data if d['noise'] == 'gaussian'], [d['dae_noisy_svc_accuracy'] for d in data if d['noise'] == 'gaussian'], label='DAE (trained on noisy data)')\n",
    "plt.xlabel('Variance')\n",
    "plt.ylabel('Accuracy')\n",
    "plt.title('Gaussian Noise')\n",
    "plt.legend()\n",
    "plt.show()\n",
    "\n",
    "plt.figure()\n",
    "plt.plot([d['variance'] for d in data if d['noise'] == 'speckle'], [d['sae_noisy_accuracy'] for d in data if d['noise'] == 'speckle'], label='SAE')\n",
    "plt.plot([d['variance'] for d in data if d['noise'] == 'speckle'], [d['dae_noisy_accuracy'] for d in data if d['noise'] == 'speckle'], label='DAE')\n",
    "plt.plot([d['variance'] for d in data if d['noise'] == 'speckle'], [d['sae_noisy_svc_accuracy'] for d in data if d['noise'] == 'speckle'], label='SAE + SVC')\n",
    "plt.plot([d['variance'] for d in data if d['noise'] == 'speckle'], [d['dae_noisy_svc_accuracy'] for d in data if d['noise'] == 'speckle'], label='DAE + SVC')\n",
    "plt.xlabel('Variance')\n",
    "plt.ylabel('Accuracy')\n",
    "plt.title('Speckle Noise')\n",
    "plt.legend()\n",
    "plt.show()\n",
    "\n",
    "plt.figure()\n",
    "plt.plot([d['variance'] for d in data if d['noise'] == 'salt_and_pepper'], [d['sae_noisy_accuracy'] for d in data if d['noise'] == 'salt_and_pepper'], label='SAE')\n",
    "plt.plot([d['variance'] for d in data if d['noise'] == 'salt_and_pepper'], [d['dae_noisy_accuracy'] for d in data if d['noise'] == 'salt_and_pepper'], label='DAE')\n",
    "plt.plot([d['variance'] for d in data if d['noise'] == 'salt_and_pepper'], [d['sae_noisy_svc_accuracy'] for d in data if d['noise'] == 'salt_and_pepper'], label='SAE (trained on noisy data)')\n",
    "plt.plot([d['variance'] for d in data if d['noise'] == 'salt_and_pepper'], [d['dae_noisy_svc_accuracy'] for d in data if d['noise'] == 'salt_and_pepper'], label='DAE (trained on noisy data)')\n",
    "plt.xlabel('Amount')\n",
    "plt.ylabel('Accuracy')\n",
    "plt.title('Salt and Pepper Noise')\n",
    "plt.legend()\n",
    "plt.show()\n"
   ]
  },
  {
   "cell_type": "markdown",
   "metadata": {},
   "source": [
    "# Options to evaluate\n",
    "- Noisy images -> encode -> classify\n",
    "    - SVC trained on original images (data too large)\n",
    "    - SVC trained on noisy images (data too large)\n",
    "- Noisy encodings -> classify\n",
    "    - SVC trained on original encodings (SAE = 0.82, DAE = 0.39)\n",
    "    - SVC trained on noisy encodings (SAE = 0.06, DAE = 0.11)"
   ]
  }
 ],
 "metadata": {
  "kernelspec": {
   "display_name": "Python 3",
   "language": "python",
   "name": "python3"
  },
  "language_info": {
   "codemirror_mode": {
    "name": "ipython",
    "version": 3
   },
   "file_extension": ".py",
   "mimetype": "text/x-python",
   "name": "python",
   "nbconvert_exporter": "python",
   "pygments_lexer": "ipython3",
   "version": "3.10.12"
  }
 },
 "nbformat": 4,
 "nbformat_minor": 2
}
