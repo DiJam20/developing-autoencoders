{
 "cells": [
  {
   "cell_type": "code",
   "execution_count": 14,
   "metadata": {},
   "outputs": [],
   "source": [
    "import os\n",
    "from datetime import datetime\n",
    "\n",
    "import numpy as np\n",
    "import matplotlib.pyplot as plt\n",
    "from skimage.util import random_noise\n",
    "\n",
    "import torch\n",
    "from torch.autograd import Variable\n",
    "from torch.utils.data import DataLoader\n",
    "from torchvision import datasets, transforms\n",
    "\n",
    "from sklearn.svm import LinearSVC\n",
    "from sklearn.metrics import accuracy_score\n",
    "\n",
    "from autoencoder import Autoencoder\n",
    "from solver import train_vali_all_epochs, dev_train_vali_all_epochs"
   ]
  },
  {
   "cell_type": "code",
   "execution_count": 15,
   "metadata": {},
   "outputs": [],
   "source": [
    "mnist_train = datasets.MNIST(root='./data', train=True, download=True, transform=transforms.ToTensor())\n",
    "mnist_test = datasets.MNIST(root='./data', train=False, download=True, transform=transforms.ToTensor())\n",
    "\n",
    "batch_size = 128\n",
    "train_loader = DataLoader(mnist_train, batch_size=batch_size, shuffle=True, num_workers=6)\n",
    "test_loader = DataLoader(mnist_test, batch_size=batch_size, shuffle=False, num_workers=6)"
   ]
  },
  {
   "cell_type": "code",
   "execution_count": 16,
   "metadata": {},
   "outputs": [
    {
     "name": "stdout",
     "output_type": "stream",
     "text": [
      "/home/david/sparsify_models/AE/MNIST/2024-11-13_21-23-02/\n"
     ]
    }
   ],
   "source": [
    "run_id = datetime.today().strftime(\"%Y-%m-%d_%H-%M-%S\")\n",
    "save_path = os.getenv(\"HOME\") + '/sparsify_models/AE/MNIST/' +run_id +'/'\n",
    "print(save_path)"
   ]
  },
  {
   "cell_type": "code",
   "execution_count": 17,
   "metadata": {},
   "outputs": [],
   "source": [
    "# Convert MNIST data to numpy arrays\n",
    "train_images = []\n",
    "train_labels = []\n",
    "\n",
    "for batch_idx, (data, target) in enumerate(train_loader):\n",
    "    data = Variable(data).to('cuda')\n",
    "    input = data.view(data.size(0), -1).to('cuda')\n",
    "    train_images.append(input.cpu().numpy())\n",
    "    train_labels.append(target.cpu().numpy())\n",
    "\n",
    "train_images = np.concatenate(train_images)\n",
    "train_labels = np.concatenate(train_labels)\n",
    "\n",
    "test_images = []\n",
    "test_labels = []\n",
    "\n",
    "for batch_idx, (data, target) in enumerate(test_loader):\n",
    "    data = Variable(data).to('cuda')\n",
    "    input = data.view(data.size(0), -1).to('cuda')\n",
    "    test_images.append(input.cpu().numpy())\n",
    "    test_labels.append(target.cpu().numpy())\n",
    "\n",
    "test_images = np.concatenate(test_images)\n",
    "test_labels = np.concatenate(test_labels)"
   ]
  },
  {
   "cell_type": "markdown",
   "metadata": {},
   "source": [
    "### Training SAE and DAE"
   ]
  },
  {
   "cell_type": "code",
   "execution_count": 18,
   "metadata": {},
   "outputs": [
    {
     "name": "stderr",
     "output_type": "stream",
     "text": [
      "Train Epoch: 0 [44928/60000 (100%)]\tLoss: 0.000212: 100%|██████████| 469/469 [00:01<00:00, 263.68it/s]\n"
     ]
    },
    {
     "name": "stdout",
     "output_type": "stream",
     "text": [
      "====> Epoch: 0 Average loss: 0.0349\n"
     ]
    },
    {
     "name": "stderr",
     "output_type": "stream",
     "text": [
      "/home/david/Documents/UNI_LOCAL/developing-autoencoders/solver.py:308: UserWarning: volatile was removed and now has no effect. Use `with torch.no_grad():` instead.\n",
      "  data = Variable(data, volatile=True).to(device)\n"
     ]
    },
    {
     "name": "stdout",
     "output_type": "stream",
     "text": [
      "====> Test set loss: 0.0194\n",
      "Directory created: /home/david/sparsify_models/AE/MNIST/2024-11-13_21-23-02/Static/\n",
      "Weights saved.\n"
     ]
    },
    {
     "name": "stderr",
     "output_type": "stream",
     "text": [
      "Train Epoch: 1 [44928/60000 (100%)]\tLoss: 0.000184: 100%|██████████| 469/469 [00:01<00:00, 271.86it/s]"
     ]
    },
    {
     "name": "stdout",
     "output_type": "stream",
     "text": [
      "====> Epoch: 1 Average loss: 0.0182\n"
     ]
    },
    {
     "name": "stderr",
     "output_type": "stream",
     "text": [
      "\n"
     ]
    },
    {
     "name": "stdout",
     "output_type": "stream",
     "text": [
      "====> Test set loss: 0.0170\n",
      "Weights saved.\n"
     ]
    },
    {
     "name": "stderr",
     "output_type": "stream",
     "text": [
      "Train Epoch: 2 [44928/60000 (100%)]\tLoss: 0.000177: 100%|██████████| 469/469 [00:01<00:00, 271.50it/s]\n"
     ]
    },
    {
     "name": "stdout",
     "output_type": "stream",
     "text": [
      "====> Epoch: 2 Average loss: 0.0174\n",
      "====> Test set loss: 0.0169\n",
      "Weights saved.\n"
     ]
    },
    {
     "name": "stderr",
     "output_type": "stream",
     "text": [
      "Train Epoch: 3 [44928/60000 (100%)]\tLoss: 0.000182: 100%|██████████| 469/469 [00:01<00:00, 281.21it/s]"
     ]
    },
    {
     "name": "stdout",
     "output_type": "stream",
     "text": [
      "====> Epoch: 3 Average loss: 0.0173\n"
     ]
    },
    {
     "name": "stderr",
     "output_type": "stream",
     "text": [
      "\n"
     ]
    },
    {
     "name": "stdout",
     "output_type": "stream",
     "text": [
      "====> Test set loss: 0.0169\n",
      "Weights saved.\n"
     ]
    },
    {
     "name": "stderr",
     "output_type": "stream",
     "text": [
      "Train Epoch: 4 [44928/60000 (100%)]\tLoss: 0.000183: 100%|██████████| 469/469 [00:01<00:00, 274.24it/s]\n"
     ]
    },
    {
     "name": "stdout",
     "output_type": "stream",
     "text": [
      "====> Epoch: 4 Average loss: 0.0173\n",
      "====> Test set loss: 0.0169\n",
      "Weights saved.\n"
     ]
    },
    {
     "name": "stderr",
     "output_type": "stream",
     "text": [
      "Train Epoch: 5 [44928/60000 (100%)]\tLoss: 0.000176: 100%|██████████| 469/469 [00:01<00:00, 245.68it/s]"
     ]
    },
    {
     "name": "stdout",
     "output_type": "stream",
     "text": [
      "====> Epoch: 5 Average loss: 0.0173\n"
     ]
    },
    {
     "name": "stderr",
     "output_type": "stream",
     "text": [
      "\n"
     ]
    },
    {
     "name": "stdout",
     "output_type": "stream",
     "text": [
      "====> Test set loss: 0.0169\n",
      "Weights saved.\n"
     ]
    },
    {
     "name": "stderr",
     "output_type": "stream",
     "text": [
      "Train Epoch: 6 [44928/60000 (100%)]\tLoss: 0.000188: 100%|██████████| 469/469 [00:01<00:00, 257.72it/s]"
     ]
    },
    {
     "name": "stdout",
     "output_type": "stream",
     "text": [
      "====> Epoch: 6 Average loss: 0.0173\n"
     ]
    },
    {
     "name": "stderr",
     "output_type": "stream",
     "text": [
      "\n"
     ]
    },
    {
     "name": "stdout",
     "output_type": "stream",
     "text": [
      "====> Test set loss: 0.0169\n",
      "Weights saved.\n"
     ]
    },
    {
     "name": "stderr",
     "output_type": "stream",
     "text": [
      "Train Epoch: 7 [44928/60000 (100%)]\tLoss: 0.000170: 100%|██████████| 469/469 [00:01<00:00, 262.11it/s]"
     ]
    },
    {
     "name": "stdout",
     "output_type": "stream",
     "text": [
      "====> Epoch: 7 Average loss: 0.0173\n"
     ]
    },
    {
     "name": "stderr",
     "output_type": "stream",
     "text": [
      "\n"
     ]
    },
    {
     "name": "stdout",
     "output_type": "stream",
     "text": [
      "====> Test set loss: 0.0169\n",
      "Weights saved.\n"
     ]
    },
    {
     "name": "stderr",
     "output_type": "stream",
     "text": [
      "Train Epoch: 8 [44928/60000 (100%)]\tLoss: 0.000169: 100%|██████████| 469/469 [00:01<00:00, 252.84it/s]\n"
     ]
    },
    {
     "name": "stdout",
     "output_type": "stream",
     "text": [
      "====> Epoch: 8 Average loss: 0.0173\n",
      "====> Test set loss: 0.0169\n",
      "Weights saved.\n"
     ]
    },
    {
     "name": "stderr",
     "output_type": "stream",
     "text": [
      "Train Epoch: 9 [44928/60000 (100%)]\tLoss: 0.000173: 100%|██████████| 469/469 [00:01<00:00, 252.58it/s]\n"
     ]
    },
    {
     "name": "stdout",
     "output_type": "stream",
     "text": [
      "====> Epoch: 9 Average loss: 0.0173\n",
      "====> Test set loss: 0.0169\n",
      "Weights saved.\n",
      "All train losses saved.\n"
     ]
    }
   ],
   "source": [
    "model = Autoencoder(n_input=784, n_hidden_ls=[512, 128, 32], n_layers=3)\n",
    "optimizer = torch.optim.SGD(model.parameters(), lr=0.5, momentum=0.99)\n",
    "\n",
    "train_losses, vali_losses = train_vali_all_epochs(\n",
    "    model, \n",
    "    train_loader, \n",
    "    test_loader, \n",
    "    optimizer, \n",
    "    n_epochs=10, \n",
    "    device=torch.device('cuda'), \n",
    "    save_path=save_path+'Static/'\n",
    "    )"
   ]
  },
  {
   "cell_type": "code",
   "execution_count": 19,
   "metadata": {},
   "outputs": [
    {
     "name": "stdout",
     "output_type": "stream",
     "text": [
      "Directory created: /home/david/sparsify_models/AE/MNIST/2024-11-13_21-23-02/Dev/cell_division/\n"
     ]
    },
    {
     "name": "stderr",
     "output_type": "stream",
     "text": [
      "Train Epoch: 0 [44928/60000 (100%)]\tLoss: 0.001219: 100%|██████████| 469/469 [00:03<00:00, 125.67it/s]"
     ]
    },
    {
     "name": "stdout",
     "output_type": "stream",
     "text": [
      "====> Epoch: 0 Average loss: 0.1240\n"
     ]
    },
    {
     "name": "stderr",
     "output_type": "stream",
     "text": [
      "\n"
     ]
    },
    {
     "name": "stdout",
     "output_type": "stream",
     "text": [
      "====> Test set loss: 0.1264\n",
      "Weights saved.\n",
      "debug var_dim -1\n",
      "debug var_dim -1\n",
      "debug var_dim -1\n",
      "debug nan in encoder weights tensor(0)\n",
      "debug nan in encoder bias tensor(0)\n",
      "debug nan in decoder weights tensor(0)\n"
     ]
    },
    {
     "name": "stderr",
     "output_type": "stream",
     "text": [
      "/home/david/Documents/UNI_LOCAL/developing-autoencoders/solver.py:184: FutureWarning: You are using `torch.load` with `weights_only=False` (the current default value), which uses the default pickle module implicitly. It is possible to construct malicious pickle data which will execute arbitrary code during unpickling (See https://github.com/pytorch/pytorch/blob/main/SECURITY.md#untrusted-models for more details). In a future release, the default value for `weights_only` will be flipped to `True`. This limits the functions that could be executed during unpickling. Arbitrary objects will no longer be allowed to be loaded via this mode unless they are explicitly allowlisted by the user via `torch.serialization.add_safe_globals`. We recommend you start setting `weights_only=True` for any use case where you don't have full control of the loaded file. Please open an issue on GitHub for any issues related to this experimental feature.\n",
      "  state_dict = torch.load(save_path + 'model_weights_epoch{}.pth'.format(epoch-1))\n",
      "Train Epoch: 1 [44928/60000 (100%)]\tLoss: 0.000534: 100%|██████████| 469/469 [00:04<00:00, 111.82it/s]"
     ]
    },
    {
     "name": "stdout",
     "output_type": "stream",
     "text": [
      "====> Epoch: 1 Average loss: 0.0614\n"
     ]
    },
    {
     "name": "stderr",
     "output_type": "stream",
     "text": [
      "\n"
     ]
    },
    {
     "name": "stdout",
     "output_type": "stream",
     "text": [
      "====> Test set loss: 0.0497\n",
      "Weights saved.\n",
      "debug var_dim 0\n",
      "debug var_dim 0\n",
      "debug var_dim 1\n",
      "debug nan in encoder weights tensor(0)\n",
      "debug nan in encoder bias tensor(0)\n",
      "debug nan in decoder weights tensor(0)\n"
     ]
    },
    {
     "name": "stderr",
     "output_type": "stream",
     "text": [
      "Train Epoch: 2 [44928/60000 (100%)]\tLoss: 0.000528: 100%|██████████| 469/469 [00:04<00:00, 110.21it/s]\n"
     ]
    },
    {
     "name": "stdout",
     "output_type": "stream",
     "text": [
      "====> Epoch: 2 Average loss: 0.0493\n",
      "====> Test set loss: 0.0481\n",
      "Weights saved.\n",
      "debug var_dim -1\n",
      "debug var_dim -1\n",
      "debug var_dim -1\n",
      "debug nan in encoder weights tensor(0)\n",
      "debug nan in encoder bias tensor(0)\n",
      "debug nan in decoder weights tensor(0)\n"
     ]
    },
    {
     "name": "stderr",
     "output_type": "stream",
     "text": [
      "Train Epoch: 3 [44928/60000 (100%)]\tLoss: 0.000468: 100%|██████████| 469/469 [00:04<00:00, 106.63it/s]"
     ]
    },
    {
     "name": "stdout",
     "output_type": "stream",
     "text": [
      "====> Epoch: 3 Average loss: 0.0472\n"
     ]
    },
    {
     "name": "stderr",
     "output_type": "stream",
     "text": [
      "\n"
     ]
    },
    {
     "name": "stdout",
     "output_type": "stream",
     "text": [
      "====> Test set loss: 0.0445\n",
      "Weights saved.\n",
      "debug var_dim 0\n",
      "debug var_dim 0\n",
      "debug var_dim 1\n",
      "debug nan in encoder weights tensor(0)\n",
      "debug nan in encoder bias tensor(0)\n",
      "debug nan in decoder weights tensor(0)\n"
     ]
    },
    {
     "name": "stderr",
     "output_type": "stream",
     "text": [
      "Train Epoch: 4 [44928/60000 (100%)]\tLoss: 0.000451: 100%|██████████| 469/469 [00:03<00:00, 119.88it/s]"
     ]
    },
    {
     "name": "stdout",
     "output_type": "stream",
     "text": [
      "====> Epoch: 4 Average loss: 0.0436\n"
     ]
    },
    {
     "name": "stderr",
     "output_type": "stream",
     "text": [
      "\n"
     ]
    },
    {
     "name": "stdout",
     "output_type": "stream",
     "text": [
      "====> Test set loss: 0.0422\n",
      "Weights saved.\n",
      "debug var_dim -1\n",
      "debug var_dim -1\n",
      "debug var_dim -1\n",
      "debug nan in encoder weights tensor(0)\n",
      "debug nan in encoder bias tensor(0)\n",
      "debug nan in decoder weights tensor(0)\n"
     ]
    },
    {
     "name": "stderr",
     "output_type": "stream",
     "text": [
      "Train Epoch: 5 [44928/60000 (100%)]\tLoss: 0.000395: 100%|██████████| 469/469 [00:03<00:00, 120.64it/s]\n"
     ]
    },
    {
     "name": "stdout",
     "output_type": "stream",
     "text": [
      "====> Epoch: 5 Average loss: 0.0410\n",
      "====> Test set loss: 0.0386\n",
      "Weights saved.\n",
      "debug var_dim 0\n",
      "debug var_dim 0\n",
      "debug var_dim 1\n",
      "debug nan in encoder weights tensor(0)\n",
      "debug nan in encoder bias tensor(0)\n",
      "debug nan in decoder weights tensor(0)\n"
     ]
    },
    {
     "name": "stderr",
     "output_type": "stream",
     "text": [
      "Train Epoch: 6 [44928/60000 (100%)]\tLoss: 0.000367: 100%|██████████| 469/469 [00:03<00:00, 122.68it/s]"
     ]
    },
    {
     "name": "stdout",
     "output_type": "stream",
     "text": [
      "====> Epoch: 6 Average loss: 0.0369\n"
     ]
    },
    {
     "name": "stderr",
     "output_type": "stream",
     "text": [
      "\n"
     ]
    },
    {
     "name": "stdout",
     "output_type": "stream",
     "text": [
      "====> Test set loss: 0.0341\n",
      "Weights saved.\n",
      "debug var_dim -1\n",
      "debug var_dim -1\n",
      "debug var_dim -1\n",
      "debug nan in encoder weights tensor(0)\n",
      "debug nan in encoder bias tensor(0)\n",
      "debug nan in decoder weights tensor(0)\n"
     ]
    },
    {
     "name": "stderr",
     "output_type": "stream",
     "text": [
      "Train Epoch: 7 [44928/60000 (100%)]\tLoss: 0.000343: 100%|██████████| 469/469 [00:03<00:00, 121.92it/s]\n"
     ]
    },
    {
     "name": "stdout",
     "output_type": "stream",
     "text": [
      "====> Epoch: 7 Average loss: 0.0336\n",
      "====> Test set loss: 0.0323\n",
      "Weights saved.\n",
      "debug var_dim -1\n",
      "debug var_dim -1\n",
      "debug var_dim -1\n",
      "debug nan in encoder weights tensor(0)\n",
      "debug nan in encoder bias tensor(0)\n",
      "debug nan in decoder weights tensor(0)\n"
     ]
    },
    {
     "name": "stderr",
     "output_type": "stream",
     "text": [
      "Train Epoch: 8 [44928/60000 (100%)]\tLoss: 0.000321: 100%|██████████| 469/469 [00:03<00:00, 119.94it/s]\n"
     ]
    },
    {
     "name": "stdout",
     "output_type": "stream",
     "text": [
      "====> Epoch: 8 Average loss: 0.0324\n",
      "====> Test set loss: 0.0317\n",
      "Weights saved.\n",
      "debug var_dim -1\n",
      "debug var_dim -1\n",
      "debug var_dim -1\n",
      "debug nan in encoder weights tensor(0)\n",
      "debug nan in encoder bias tensor(0)\n",
      "debug nan in decoder weights tensor(0)\n"
     ]
    },
    {
     "name": "stderr",
     "output_type": "stream",
     "text": [
      "Train Epoch: 9 [44928/60000 (100%)]\tLoss: 0.000346: 100%|██████████| 469/469 [00:03<00:00, 124.44it/s]"
     ]
    },
    {
     "name": "stdout",
     "output_type": "stream",
     "text": [
      "====> Epoch: 9 Average loss: 0.0321\n"
     ]
    },
    {
     "name": "stderr",
     "output_type": "stream",
     "text": [
      "\n"
     ]
    },
    {
     "name": "stdout",
     "output_type": "stream",
     "text": [
      "====> Test set loss: 0.0316\n",
      "Weights saved.\n",
      "All train losses saved.\n"
     ]
    },
    {
     "data": {
      "text/plain": [
       "([0.12401275730717665,\n",
       "  0.06136203836848233,\n",
       "  0.049313220928218576,\n",
       "  0.04717493681574681,\n",
       "  0.04362518732735851,\n",
       "  0.041038263080788576,\n",
       "  0.03691972967689988,\n",
       "  0.0335889178187227,\n",
       "  0.03243857010928934,\n",
       "  0.03212244793582064],\n",
       " [0.12637330327607407,\n",
       "  0.049714682364388356,\n",
       "  0.04807254643757132,\n",
       "  0.0445371747865707,\n",
       "  0.042203810584696036,\n",
       "  0.03855222331572183,\n",
       "  0.034065472598694545,\n",
       "  0.03226721119371396,\n",
       "  0.03172949380889724,\n",
       "  0.0315772064407415])"
      ]
     },
     "execution_count": 19,
     "metadata": {},
     "output_type": "execute_result"
    }
   ],
   "source": [
    "dev_model = Autoencoder(n_input=784, n_hidden_ls=[512, 128, 32], n_layers=3)\n",
    "dev_optimizer = torch.optim.SGD(dev_model.parameters(), lr=0.5, momentum=0.99)\n",
    "\n",
    "size_ls = [4,10,16,32]\n",
    "manner = 'cell_division'\n",
    "\n",
    "dev_train_vali_all_epochs(\n",
    "    dev_model,\n",
    "    size_ls,\n",
    "    manner,\n",
    "    train_loader,\n",
    "    test_loader,\n",
    "    optimizer,\n",
    "    n_epochs=10,\n",
    "    device='cpu',\n",
    "    save_path=save_path+'Dev/{}/'.format(manner)\n",
    "    )"
   ]
  },
  {
   "cell_type": "markdown",
   "metadata": {},
   "source": [
    "### Retrieve encodings"
   ]
  },
  {
   "cell_type": "code",
   "execution_count": 20,
   "metadata": {},
   "outputs": [],
   "source": [
    "train_encodings = []\n",
    "train_labels = []\n",
    "\n",
    "with torch.no_grad():\n",
    "    for batch_idx, (data, target) in enumerate(train_loader):\n",
    "        data = Variable(data).to('cuda')\n",
    "        input = data.view(data.size(0), -1).to('cuda')\n",
    "        encoded, decoded = model(input)\n",
    "        train_encodings.append(encoded.cpu().detach().numpy())\n",
    "        train_labels.append(target.cpu().numpy())\n",
    "\n",
    "train_encodings = np.concatenate(train_encodings)\n",
    "train_labels = np.concatenate(train_labels)\n",
    "\n",
    "test_encodings = []\n",
    "test_labels = []\n",
    "\n",
    "with torch.no_grad():\n",
    "    for batch_idx, (data, target) in enumerate(test_loader):\n",
    "        data = Variable(data).to('cuda')\n",
    "        input = data.view(data.size(0), -1).to('cuda')\n",
    "        encoded, decoded = model(input)\n",
    "        test_encodings.append(encoded.cpu().detach().numpy())\n",
    "        test_labels.append(target.cpu().numpy())\n",
    "\n",
    "test_encodings = np.concatenate(test_encodings)\n",
    "test_labels = np.concatenate(test_labels)"
   ]
  },
  {
   "cell_type": "code",
   "execution_count": 21,
   "metadata": {},
   "outputs": [],
   "source": [
    "dev_train_encodings = []\n",
    "dev_train_labels = []\n",
    "\n",
    "with torch.no_grad():\n",
    "    for batch_idx, (data, target) in enumerate(train_loader):\n",
    "        data = Variable(data).to('cuda')\n",
    "        input = data.view(data.size(0), -1).to('cpu')\n",
    "        encoded, decoded = dev_model(input)\n",
    "        dev_train_encodings.append(encoded.cpu().detach().numpy())\n",
    "        dev_train_labels.append(target.cpu().numpy())\n",
    "\n",
    "dev_train_encodings = np.concatenate(dev_train_encodings)\n",
    "dev_train_labels = np.concatenate(dev_train_labels)\n",
    "\n",
    "dev_test_encodings = []\n",
    "dev_test_labels = []\n",
    "\n",
    "with torch.no_grad():\n",
    "    for batch_idx, (data, target) in enumerate(test_loader):\n",
    "        data = Variable(data).to('cuda')\n",
    "        input = data.view(data.size(0), -1).to('cpu')\n",
    "        encoded, decoded = dev_model(input)\n",
    "        dev_test_encodings.append(encoded.cpu().detach().numpy())\n",
    "        dev_test_labels.append(target.cpu().numpy())\n",
    "\n",
    "dev_test_encodings = np.concatenate(dev_test_encodings)\n",
    "dev_test_labels = np.concatenate(dev_test_labels)"
   ]
  },
  {
   "cell_type": "markdown",
   "metadata": {},
   "source": [
    "### Classifying encodings of SAE and DAE with a Linear SVC"
   ]
  },
  {
   "cell_type": "code",
   "execution_count": 22,
   "metadata": {},
   "outputs": [
    {
     "name": "stdout",
     "output_type": "stream",
     "text": [
      "Test Accuracy: 0.8865\n"
     ]
    }
   ],
   "source": [
    "svc = LinearSVC(max_iter=1000, C=1.0)\n",
    "svc.fit(train_encodings, train_labels)\n",
    "\n",
    "predictions = svc.predict(test_encodings)\n",
    "accuracy = accuracy_score(test_labels, predictions)\n",
    "print(f'Test Accuracy: {accuracy:.4f}')"
   ]
  },
  {
   "cell_type": "code",
   "execution_count": 23,
   "metadata": {},
   "outputs": [
    {
     "name": "stdout",
     "output_type": "stream",
     "text": [
      "Test Accuracy: 0.7377\n"
     ]
    }
   ],
   "source": [
    "dev_svc = LinearSVC(max_iter=1000, C=1.0)\n",
    "dev_svc.fit(dev_train_encodings, dev_train_labels)\n",
    "\n",
    "predictions = dev_svc.predict(dev_test_encodings)\n",
    "accuracy = accuracy_score(dev_test_labels, predictions)\n",
    "print(f'Test Accuracy: {accuracy:.4f}')"
   ]
  },
  {
   "cell_type": "markdown",
   "metadata": {},
   "source": [
    "### Adding noise"
   ]
  },
  {
   "cell_type": "code",
   "execution_count": 24,
   "metadata": {},
   "outputs": [],
   "source": [
    "def add_gaussian_noise(raw_data, var):\n",
    "    noisy_data = []\n",
    "    for original in raw_data:\n",
    "        noisy = random_noise(original, mode='gaussian', var=var)\n",
    "        noisy_data.append(noisy)\n",
    "    \n",
    "    return noisy_data\n",
    "\n",
    "def add_poisson_noise(raw_data):\n",
    "    noisy_data = []\n",
    "    for original in raw_data:\n",
    "        noisy = random_noise(original, mode='poisson')\n",
    "        noisy_data.append(noisy)\n",
    "    \n",
    "    return noisy_data\n",
    "\n",
    "def add_sp_noise(raw_data, amount):\n",
    "    noisy_data = []\n",
    "    for original in raw_data:\n",
    "        noisy = random_noise(original, mode='s&p', amount=amount)\n",
    "        noisy_data.append(noisy)\n",
    "    \n",
    "    return noisy_data\n",
    "\n",
    "\n",
    "noisy_test_images = add_sp_noise(test_images, 0.2)"
   ]
  },
  {
   "cell_type": "code",
   "execution_count": 25,
   "metadata": {},
   "outputs": [
    {
     "data": {
      "image/png": "[encoded data removed]",
      "text/plain": [
       "<Figure size 640x480 with 2 Axes>"
      ]
     },
     "metadata": {},
     "output_type": "display_data"
    }
   ],
   "source": [
    "plt.figure()\n",
    "\n",
    "plt.subplot(1, 2, 1)\n",
    "plt.imshow(test_images[0].reshape(28, 28))\n",
    "plt.title('Original Image')\n",
    "\n",
    "plt.subplot(1, 2, 2)\n",
    "plt.imshow(noisy_test_images[0].reshape(28, 28))\n",
    "plt.title('Noisy Image')\n",
    "\n",
    "plt.show()"
   ]
  },
  {
   "cell_type": "markdown",
   "metadata": {},
   "source": [
    "### Classifying noisy reconstructions of SAE and DAE with Linear SVC"
   ]
  },
  {
   "cell_type": "code",
   "execution_count": 26,
   "metadata": {},
   "outputs": [],
   "source": [
    "noisy_test_encodings = []\n",
    "model.eval()\n",
    "\n",
    "for image in noisy_test_images:\n",
    "    image = torch.tensor(image).float().to('cuda')\n",
    "    input = image.view(1, -1).to('cuda')\n",
    "    encoded, decoded = model(input)\n",
    "    noisy_test_encodings.append(encoded.cpu().detach().numpy())\n",
    "\n",
    "noisy_test_encodings = np.concatenate(noisy_test_encodings, axis=0)"
   ]
  },
  {
   "cell_type": "code",
   "execution_count": 27,
   "metadata": {},
   "outputs": [],
   "source": [
    "noisy_dev_test_encodings = []\n",
    "dev_model.eval()\n",
    "\n",
    "for image in noisy_test_images:\n",
    "    image = torch.tensor(image).float().to('cpu')\n",
    "    input = image.view(1, -1).to('cpu')\n",
    "    encoded, decoded = dev_model(input)\n",
    "    noisy_dev_test_encodings.append(encoded.cpu().detach().numpy())\n",
    "\n",
    "noisy_dev_test_encodings = np.concatenate(noisy_dev_test_encodings, axis=0)"
   ]
  },
  {
   "cell_type": "code",
   "execution_count": 28,
   "metadata": {},
   "outputs": [
    {
     "name": "stdout",
     "output_type": "stream",
     "text": [
      "AE Test Accuracy: 0.8066\n",
      "DAE Test Accuracy: 0.3566\n"
     ]
    }
   ],
   "source": [
    "noisy_ae_predictions = svc.predict(noisy_test_encodings)\n",
    "accuracy = accuracy_score(noisy_ae_predictions, test_labels)\n",
    "print(f'AE Test Accuracy: {accuracy:.4f}')\n",
    "\n",
    "noisy_dae_predictions = dev_svc.predict(noisy_dev_test_encodings)\n",
    "accuracy = accuracy_score(noisy_dae_predictions, test_labels)\n",
    "print(f'DAE Test Accuracy: {accuracy:.4f}')"
   ]
  },
  {
   "cell_type": "code",
   "execution_count": 29,
   "metadata": {},
   "outputs": [],
   "source": [
    "noisy_train_encodings = []\n",
    "dev_model.eval()\n",
    "\n",
    "for image in add_gaussian_noise(train_images, 0.1):\n",
    "    image = torch.tensor(image).float().to('cpu')\n",
    "    input = image.view(1, -1).to('cpu')\n",
    "    encoded, decoded = dev_model(input)\n",
    "    noisy_train_encodings.append(encoded.cpu().detach().numpy())\n",
    "\n",
    "noisy_train_encodings = np.concatenate(noisy_train_encodings, axis=0)\n",
    "\n",
    "noisy_dev_train_encodings = []\n",
    "dev_model.eval()\n",
    "\n",
    "for image in add_gaussian_noise(train_images, 0.1):\n",
    "    image = torch.tensor(image).float().to('cpu')\n",
    "    input = image.view(1, -1).to('cpu')\n",
    "    encoded, decoded = dev_model(input)\n",
    "    noisy_dev_train_encodings.append(encoded.cpu().detach().numpy())\n",
    "\n",
    "noisy_dev_train_encodings = np.concatenate(noisy_dev_train_encodings, axis=0)"
   ]
  },
  {
   "cell_type": "code",
   "execution_count": 30,
   "metadata": {},
   "outputs": [
    {
     "name": "stdout",
     "output_type": "stream",
     "text": [
      "Noisy AE Test Accuracy: 0.0593\n",
      "Noisy DAE Test Accuracy: 0.1130\n"
     ]
    }
   ],
   "source": [
    "# Testing a SVC trained on noisy DAE encodings\n",
    "noisy_svc = LinearSVC(max_iter=1000, C=1.0)\n",
    "noisy_svc.fit(noisy_train_encodings, train_labels)\n",
    "\n",
    "predictions = noisy_svc.predict(noisy_test_encodings)\n",
    "accuracy = accuracy_score(test_labels, predictions)\n",
    "\n",
    "print(f'Noisy AE Test Accuracy: {accuracy:.4f}')\n",
    "\n",
    "noisy_dev_svc = LinearSVC(max_iter=1000, C=1.0)\n",
    "noisy_dev_svc.fit(noisy_dev_train_encodings, train_labels)\n",
    "\n",
    "predictions = noisy_dev_svc.predict(noisy_dev_test_encodings)\n",
    "dev_accuracy = accuracy_score(test_labels, predictions)\n",
    "\n",
    "print(f'Noisy DAE Test Accuracy: {dev_accuracy:.4f}')"
   ]
  },
  {
   "cell_type": "code",
   "execution_count": 31,
   "metadata": {},
   "outputs": [],
   "source": [
    "data = []\n",
    "\n",
    "for var in [0.01, 0.05, 0.1, 0.2, 0.3, 0.4, 0.5]:\n",
    "    noisy_test_images = add_gaussian_noise(test_images, var)\n",
    "    noisy_test_encodings = []\n",
    "    model.eval()\n",
    "\n",
    "    for image in noisy_test_images:\n",
    "        image = torch.tensor(image).float().to('cuda')\n",
    "        input = image.view(1, -1).to('cuda')\n",
    "        encoded, decoded = model(input)\n",
    "        noisy_test_encodings.append(encoded.cpu().detach().numpy())\n",
    "\n",
    "    noisy_test_encodings = np.concatenate(noisy_test_encodings, axis=0)\n",
    "\n",
    "    noisy_ae_predictions = svc.predict(noisy_test_encodings)\n",
    "    accuracy = accuracy_score(noisy_ae_predictions, test_labels)\n",
    "    data.append((var, accuracy))"
   ]
  },
  {
   "cell_type": "markdown",
   "metadata": {},
   "source": [
    "# Options to evaluate\n",
    "- Noisy images -> encode -> classify\n",
    "    - SVC trained on original images (data too large)\n",
    "    - SVC trained on noisy images (data too large)\n",
    "- Noisy encodings -> classify\n",
    "    - SVC trained on original encodings (SAE = 0.82, DAE = 0.39)\n",
    "    - SVC trained on noisy encodings (SAE = 0.06, DAE = 0.11)"
   ]
  },
  {
   "cell_type": "code",
   "execution_count": 32,
   "metadata": {},
   "outputs": [],
   "source": [
    "# noisy_images_train\n",
    "# noisy_images_test\n",
    "# noisy_image_encodings_train\n",
    "# noisy_image_encodings_test\n",
    "\n",
    "# train_images\n",
    "# test_images\n",
    "# noisy_encodings_test\n",
    "# noisy_encodings_train"
   ]
  },
  {
   "cell_type": "markdown",
   "metadata": {},
   "source": [
    "noisy_images_train = add_gaussian_noise(train_images, 0.1)\n",
    "noisy_images_test = add_gaussian_noise(test_images, 0.1)\n",
    "\n",
    "noisy_image_encodings_train = []\n",
    "model.eval()\n",
    "for image in noisy_images_train:\n",
    "    image = torch.tensor(image).float().to('cuda')\n",
    "    input = image.view(1, -1).to('cuda')\n",
    "    encoded, decoded = model(input)\n",
    "    noisy_image_encodings_train.append(encoded.cpu().detach().numpy())\n",
    "noisy_image_encodings_train = np.concatenate(noisy_image_encodings_train, axis=0)\n",
    "\n",
    "noisy_image_encodings_test = []\n",
    "model.eval()\n",
    "for image in noisy_images_test:\n",
    "    image = torch.tensor(image).float().to('cuda')\n",
    "    input = image.view(1, -1).to('cuda')\n",
    "    encoded, decoded = model(input)\n",
    "    noisy_image_encodings_test.append(encoded.cpu().detach().numpy())\n",
    "noisy_image_encodings_test = np.concatenate(noisy_image_encodings_test, axis=0)\n",
    "\n",
    "train_images = train_images\n",
    "test_images = test_images\n",
    "\n",
    "noisy_encodings_train = []\n",
    "for image in train_images:\n",
    "    image = torch.tensor(image).float().to('cuda')\n",
    "    input = image.view(1, -1).to('cuda')\n",
    "    encoded, decoded = model(input)\n",
    "    noisy_encodings_train.append(encoded.cpu().detach().numpy())\n",
    "noisy_encodings_train = np.concatenate(noisy_encodings_train, axis=0)\n",
    "\n",
    "noisy_encodings_test = []\n",
    "for image in test_images:\n",
    "    image = torch.tensor(image).float().to('cuda')\n",
    "    input = image.view(1, -1).to('cuda')\n",
    "    encoded, decoded = model(input)\n",
    "    noisy_encodings_test.append(encoded.cpu().detach().numpy())\n",
    "noisy_encodings_test = np.concatenate(noisy_encodings_test, axis=0)"
   ]
  },
  {
   "cell_type": "markdown",
   "metadata": {},
   "source": [
    "svc = LinearSVC(max_iter=1000, C=1.0)\n",
    "svc.fit(train_images, train_labels)\n",
    "predictions = svc.predict(test_images)\n",
    "accuracy1 = accuracy_score(predictions, test_labels)\n",
    "print(accuracy1)\n",
    "\n",
    "dev_svc = LinearSVC(max_iter=1000, C=1.0)\n",
    "dev_svc.fit(train_images, train_labels)\n",
    "predictions = dev_svc.predict(test_images)\n",
    "accuracy2 = accuracy_score(predictions, test_labels)\n",
    "print(accuracy2)\n",
    "\n",
    "predictions = svc.predict(noisy_images_test)\n",
    "accuracy3 = accuracy_score(predictions, test_labels)\n",
    "print(accuracy3)\n",
    "\n",
    "predictions = dev_svc.predict(noisy_images_test)\n",
    "accuracy4 = accuracy_score(predictions, test_labels)\n",
    "print(accuracy4)\n",
    "\n",
    "noisy_svc = LinearSVC(max_iter=1000, C=1.0)\n",
    "noisy_svc.fit(noisy_images_train, train_labels)\n",
    "predictions = noisy_svc.predict(noisy_images_test)\n",
    "accuracy5 = accuracy_score(test_labels, predictions)\n",
    "print(accuracy5)\n",
    "\n",
    "noisy_dev_svc = LinearSVC(max_iter=1000, C=1.0)\n",
    "noisy_dev_svc.fit(noisy_images_train, train_labels)\n",
    "predictions = noisy_dev_svc.predict(noisy_images_test)\n",
    "accuracy6 = accuracy_score(test_labels, predictions)\n",
    "print(accuracy6)"
   ]
  },
  {
   "cell_type": "code",
   "execution_count": null,
   "metadata": {},
   "outputs": [],
   "source": [
    "def plot_noise_impact(data):\n",
    "    plt.figure(figsize=(12, 6))\n",
    "    \n",
    "    plt.plot([d['noiseVar'] for d in data], [d['gaussianAccuracy'] for d in data], label='Gaussian Noise')\n",
    "    plt.plot([d['noiseVar'] for d in data], [d['poissonAccuracy'] for d in data], label='Poisson Noise')\n",
    "    plt.plot([d['noiseVar'] for d in data], [d['saltPepperAccuracy'] for d in data], label='Salt & Pepper Noise')\n",
    "    \n",
    "    plt.xlabel('Noise Variance')\n",
    "    plt.ylabel('Accuracy')\n",
    "    plt.title('Impact of Noise on Autoencoder Encoding Classification')\n",
    "    plt.legend()\n",
    "    plt.grid()\n",
    "    \n",
    "    plt.show()\n",
    "    \n",
    "data = [\n",
    "    {'noiseVar': 0.01, 'gaussianAccuracy': 0.92, 'poissonAccuracy': 0.89, 'saltPepperAccuracy': 0.85},\n",
    "    {'noiseVar': 0.05, 'gaussianAccuracy': 0.87, 'poissonAccuracy': 0.84, 'saltPepperAccuracy': 0.78},\n",
    "    {'noiseVar': 0.1, 'gaussianAccuracy': 0.81, 'poissonAccuracy': 0.79, 'saltPepperAccuracy': 0.71},\n",
    "    {'noiseVar': 0.15, 'gaussianAccuracy': 0.75, 'poissonAccuracy': 0.72, 'saltPepperAccuracy': 0.65},\n",
    "    {'noiseVar': 0.2, 'gaussianAccuracy': 0.68, 'poissonAccuracy': 0.65, 'saltPepperAccuracy': 0.58},\n",
    "]\n",
    "\n",
    "plot_noise_impact(data)"
   ]
  }
 ],
 "metadata": {
  "kernelspec": {
   "display_name": "Python 3",
   "language": "python",
   "name": "python3"
  },
  "language_info": {
   "codemirror_mode": {
    "name": "ipython",
    "version": 3
   },
   "file_extension": ".py",
   "mimetype": "text/x-python",
   "name": "python",
   "nbconvert_exporter": "python",
   "pygments_lexer": "ipython3",
   "version": "3.10.12"
  }
 },
 "nbformat": 4,
 "nbformat_minor": 2
}
