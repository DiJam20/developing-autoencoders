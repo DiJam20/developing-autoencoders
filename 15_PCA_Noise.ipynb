{
 "cells": [
  {
   "cell_type": "code",
   "execution_count": null,
   "metadata": {},
   "outputs": [],
   "source": [
    "import numpy as np\n",
    "import matplotlib.pyplot as plt\n",
    "\n",
    "import torch\n",
    "from torchvision import datasets, transforms\n",
    "from torch.utils.data import DataLoader\n",
    "from torch.autograd import Variable\n",
    "import umap\n",
    "from torch.nn.functional import mse_loss\n",
    "\n",
    "from autoencoder import Autoencoder\n",
    "from solver import *"
   ]
  },
  {
   "cell_type": "code",
   "execution_count": null,
   "metadata": {},
   "outputs": [],
   "source": [
    "mnist_train = datasets.MNIST(root='./data', train=True, download=True, transform=transforms.ToTensor())\n",
    "train_loader = DataLoader(mnist_train, batch_size=128, shuffle=True, num_workers=6)\n",
    "\n",
    "mnist_test = datasets.MNIST(root='./data', train=False, download=True, transform=transforms.ToTensor())\n",
    "test_loader = DataLoader(mnist_test, batch_size=128, shuffle=False, num_workers=6)"
   ]
  },
  {
   "cell_type": "code",
   "execution_count": null,
   "metadata": {},
   "outputs": [],
   "source": [
    "def load_model(model_path, model_type, epoch):\n",
    "    n_input = 28*28\n",
    "    n_layers = 3\n",
    "    sae_n_hidden_ls = [512, 128, 32]\n",
    "\n",
    "    size_ls = [4, 4, 4, 4, 4, 10,\n",
    "            10, 10, 10, 10, 16, 16,\n",
    "            16, 16, 16, 16, 16, 24,\n",
    "            24, 24, 24, 24, 24, 24, \n",
    "            32, 32, 32, 32, 32, 32,\n",
    "            32, 32, 32, 32, 32, 32, \n",
    "            32, 32, 32, 32, 32, 32, \n",
    "            32, 32, 32, 32, 32, 32, \n",
    "            32, 32]\n",
    "    \n",
    "    dae_n_hidden_ls = [512, 128, size_ls[epoch]]\n",
    "    \n",
    "    if model_type == 'SAE':\n",
    "        model = Autoencoder(n_input, sae_n_hidden_ls, n_layers)\n",
    "    else:\n",
    "        model = Autoencoder(n_input, dae_n_hidden_ls, n_layers)\n",
    "    weights = torch.load(f\"{model_path}/{model_type}/model_weights_epoch{epoch}.pth\")\n",
    "    model.load_state_dict(weights)\n",
    "    return model"
   ]
  },
  {
   "cell_type": "code",
   "execution_count": null,
   "metadata": {},
   "outputs": [],
   "source": [
    "modelpath = f'/home/david/sparsify_models/good_models/01'\n",
    "\n",
    "sae = load_model(modelpath, 'SAE', epoch=49)\n",
    "dae = load_model(modelpath, 'DAE', epoch=49)"
   ]
  },
  {
   "cell_type": "code",
   "execution_count": null,
   "metadata": {},
   "outputs": [],
   "source": [
    "train_images = []\n",
    "train_labels = []\n",
    "\n",
    "for batch_idx, (data, target) in enumerate(train_loader):\n",
    "    data = Variable(data).to('cuda')\n",
    "    train_images.append(data.cpu().numpy())\n",
    "    train_labels.append(target.cpu().numpy())\n",
    "\n",
    "train_images = np.concatenate(train_images)\n",
    "train_labels = np.concatenate(train_labels)\n",
    "\n",
    "test_images = []\n",
    "test_labels = []\n",
    "\n",
    "for batch_idx, (data, target) in enumerate(test_loader):\n",
    "    data = Variable(data).to('cuda')\n",
    "    test_images.append(data.cpu().numpy())\n",
    "    test_labels.append(target.cpu().numpy())\n",
    "\n",
    "test_images = np.concatenate(test_images)\n",
    "test_labels = np.concatenate(test_labels)"
   ]
  },
  {
   "cell_type": "code",
   "execution_count": null,
   "metadata": {},
   "outputs": [],
   "source": [
    "with torch.no_grad():\n",
    "    # take one test image. encode it. add noise to the first element of the encoding. decode it.\n",
    "    sample_image = test_images[0]\n",
    "    sample_image = torch.tensor(sample_image).to('cuda')\n",
    "    input = sample_image.view(1, -1).to('cpu')\n",
    "    encoded = dae.encode(input)\n",
    "    encoded[0][0] = 0\n",
    "    decoded = dae.decode(encoded)\n",
    "    decoded = decoded.view(28, 28).cpu().numpy()\n",
    "    plt.imshow(decoded, cmap='gray')\n",
    "    plt.show()\n",
    "    "
   ]
  }
 ],
 "metadata": {
  "kernelspec": {
   "display_name": "3.10.12",
   "language": "python",
   "name": "python3"
  },
  "language_info": {
   "name": "python",
   "version": "3.10.12"
  }
 },
 "nbformat": 4,
 "nbformat_minor": 2
}
